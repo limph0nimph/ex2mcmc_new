{
 "cells": [
  {
   "cell_type": "code",
   "execution_count": 1,
   "id": "1ef649be",
   "metadata": {},
   "outputs": [],
   "source": [
    "import numpy as np\n",
    "import matplotlib.pyplot as plt"
   ]
  },
  {
   "cell_type": "code",
   "execution_count": 2,
   "id": "6506d8f8-31b3-43be-a569-34ec9e99380f",
   "metadata": {},
   "outputs": [
    {
     "name": "stderr",
     "output_type": "stream",
     "text": [
      "/Users/binom/.anaconda3/lib/python3.9/site-packages/tqdm/auto.py:22: TqdmWarning: IProgress not found. Please update jupyter and ipywidgets. See https://ipywidgets.readthedocs.io/en/stable/user_install.html\n",
      "  from .autonotebook import tqdm as notebook_tqdm\n"
     ]
    }
   ],
   "source": [
    "import numpy as np\n",
    "\n",
    "import torch\n",
    "from torch import nn\n",
    "from torch import optim\n",
    "import torchvision\n",
    "import torchvision.transforms as transforms\n",
    "\n",
    "from typing import Optional\n",
    "from typing_extensions import Literal\n",
    "\n",
    "import tqdm\n",
    "\n",
    "import matplotlib.pyplot as plt\n",
    "%matplotlib inline\n",
    "\n",
    "from IPython.display import clear_output\n",
    "\n",
    "device = 'cpu'"
   ]
  },
  {
   "cell_type": "code",
   "execution_count": 3,
   "id": "4622f682-a4e6-46e8-aff2-3339822bb534",
   "metadata": {},
   "outputs": [],
   "source": [
    "def weights_init_normal(m):\n",
    "    classname = m.__class__.__name__\n",
    "    if classname.find(\"Conv\") != -1:\n",
    "        torch.nn.init.normal_(m.weight.data, 0.0, 0.02)\n",
    "    elif classname.find(\"BatchNorm2d\") != -1:\n",
    "        torch.nn.init.normal_(m.weight.data, 1.0, 0.02)\n",
    "        torch.nn.init.constant_(m.bias.data, 0.0)\n",
    "\n",
    "\n",
    "class GeneratorMNIST(nn.Module):\n",
    "    def __init__(self, lat_size):\n",
    "        super(GeneratorMNIST, self).__init__()\n",
    "\n",
    "        img_size=28\n",
    "        \n",
    "        self.init_size = img_size // 4\n",
    "        self.l1 = nn.Sequential(\n",
    "            nn.Linear(lat_size, 64),\n",
    "            nn.LeakyReLU(0.2),\n",
    "            nn.Linear(64, 128),\n",
    "            nn.LeakyReLU(0.2),\n",
    "            nn.Linear(128, 128 * self.init_size ** 2)\n",
    "        )\n",
    "\n",
    "        self.conv_blocks = nn.Sequential(\n",
    "            #nn.BatchNorm2d(128),\n",
    "            nn.Upsample(scale_factor=2),\n",
    "            nn.Conv2d(128, 128, 3, stride=1, padding=1),\n",
    "            #nn.BatchNorm2d(128, 0.8),\n",
    "            nn.LeakyReLU(0.2),\n",
    "            nn.Upsample(scale_factor=2),\n",
    "            nn.Conv2d(128, 64, 3, stride=1, padding=1),\n",
    "            #nn.BatchNorm2d(64, 0.8),\n",
    "            nn.LeakyReLU(0.2),\n",
    "            nn.Conv2d(64, 1, 3, stride=1, padding=1),\n",
    "            nn.Tanh(),\n",
    "        )\n",
    "\n",
    "    def forward(self, z, foo=None):\n",
    "        out = self.l1(z)\n",
    "        out = out.view(out.shape[0], 128, self.init_size, self.init_size)\n",
    "        img = self.conv_blocks(out)\n",
    "        return img\n",
    "\n",
    "\n",
    "class DiscriminatorMNIST(nn.Module):\n",
    "    def __init__(self):\n",
    "        super(DiscriminatorMNIST, self).__init__()\n",
    "\n",
    "        img_size = 28\n",
    "        \n",
    "        def discriminator_block(in_filters, out_filters, bn=False):\n",
    "            block = [nn.Conv2d(in_filters, out_filters, 3, 2, 1), nn.LeakyReLU(0.2), nn.Dropout2d(0.0)]\n",
    "            #if bn:\n",
    "            #    block.append(nn.BatchNorm2d(out_filters, 0.8))\n",
    "            return block\n",
    "\n",
    "        self.model = nn.Sequential(\n",
    "            *discriminator_block(1, 16, bn=False),\n",
    "            *discriminator_block(16, 32),\n",
    "            *discriminator_block(32, 64),\n",
    "            *discriminator_block(64, 128),\n",
    "        )\n",
    "\n",
    "        # The height and width of downsampled image\n",
    "        ds_size = img_size // 2 ** 4\n",
    "        self.adv_layer = nn.Sequential(nn.Linear(512, 1))\n",
    "\n",
    "    def forward(self, img, foo=None):\n",
    "        out = self.model(img)\n",
    "        out = out.view(out.shape[0], -1)\n",
    "        validity = self.adv_layer(out)\n",
    "\n",
    "        return validity"
   ]
  },
  {
   "cell_type": "code",
   "execution_count": 4,
   "id": "52c42ecc-1c87-4797-b8c2-6d4fac43bec5",
   "metadata": {},
   "outputs": [],
   "source": [
    "gen_mnist = GeneratorMNIST(2)\n",
    "gen_mnist.to(device)\n",
    "\n",
    "discr_mnist = DiscriminatorMNIST()\n",
    "discr_mnist.to(device)\n",
    "\n",
    "prior_mnist = torch.distributions.MultivariateNormal(torch.zeros(2).to(device), torch.eye(2).to(device))"
   ]
  },
  {
   "cell_type": "code",
   "execution_count": 5,
   "id": "ecb2b6c1-3763-4a3e-ab6e-3f1f30a1aca7",
   "metadata": {},
   "outputs": [
    {
     "data": {
      "text/plain": [
       "DiscriminatorMNIST(\n",
       "  (model): Sequential(\n",
       "    (0): Conv2d(1, 16, kernel_size=(3, 3), stride=(2, 2), padding=(1, 1))\n",
       "    (1): LeakyReLU(negative_slope=0.2)\n",
       "    (2): Dropout2d(p=0.0, inplace=False)\n",
       "    (3): Conv2d(16, 32, kernel_size=(3, 3), stride=(2, 2), padding=(1, 1))\n",
       "    (4): LeakyReLU(negative_slope=0.2)\n",
       "    (5): Dropout2d(p=0.0, inplace=False)\n",
       "    (6): Conv2d(32, 64, kernel_size=(3, 3), stride=(2, 2), padding=(1, 1))\n",
       "    (7): LeakyReLU(negative_slope=0.2)\n",
       "    (8): Dropout2d(p=0.0, inplace=False)\n",
       "    (9): Conv2d(64, 128, kernel_size=(3, 3), stride=(2, 2), padding=(1, 1))\n",
       "    (10): LeakyReLU(negative_slope=0.2)\n",
       "    (11): Dropout2d(p=0.0, inplace=False)\n",
       "  )\n",
       "  (adv_layer): Sequential(\n",
       "    (0): Linear(in_features=512, out_features=1, bias=True)\n",
       "  )\n",
       ")"
      ]
     },
     "execution_count": 5,
     "metadata": {},
     "output_type": "execute_result"
    }
   ],
   "source": [
    "gen_mnist.load_state_dict(torch.load('vanilla_gan_2d.ckpt')[0])\n",
    "discr_mnist.load_state_dict(torch.load('vanilla_gan_2d.ckpt')[1])\n",
    "gen_mnist.eval()\n",
    "discr_mnist.eval()"
   ]
  },
  {
   "cell_type": "code",
   "execution_count": 6,
   "id": "dbeec542",
   "metadata": {},
   "outputs": [],
   "source": [
    "def get_energy_vanilla_gan(z):\n",
    "  return (-discr_mnist(gen_mnist(z)).squeeze() - prior_mnist.log_prob(z).squeeze())\n",
    "\n",
    "def target_dens(x):\n",
    "    \"\"\"\n",
    "    returns the value of a target density - mixture of the 3 gaussians \n",
    "    \"\"\"\n",
    "    x = torch.FloatTensor(x)[None, :]\n",
    "    return np.exp(-get_energy_vanilla_gan(x).detach().cpu().numpy())\n",
    "\n",
    "def log_target_dens(x):\n",
    "    \"\"\"\n",
    "    returns the value of a target density - mixture of the 3 gaussians \n",
    "    \"\"\"\n",
    "    x = torch.FloatTensor(x)[None, :]\n",
    "    return -get_energy_vanilla_gan(x).detach().cpu().numpy()\n",
    "\n",
    "def grad_target_dens(x):\n",
    "    \"\"\"\n",
    "    returns the gradient of log-density \n",
    "    \"\"\"\n",
    "    x = torch.FloatTensor(x)[None, :]\n",
    "    x.requires_grad_(True)\n",
    "    external_grad = torch.tensor(1.)\n",
    "    (-get_energy_vanilla_gan(x)).backward(gradient=external_grad)\n",
    "    return x.grad.data.detach().cpu().numpy()[0]\n",
    "\n",
    "def logp_mala(y,z,gamma):\n",
    "    return -1/(4*gamma)*(np.sum(y - z - gamma*grad_target_dens(z))**2)\n",
    "\n",
    "def discretesampling(w):\n",
    "    u = np.random.rand()\n",
    "    bins = np.cumsum(w)\n",
    "    return np.digitize(u,bins)\n",
    "\n",
    "def log_dens_isir(x,sigma):\n",
    "    \"\"\"\n",
    "    compute log-density of a normal distributio nwith standard deviation sigma**2\n",
    "    \"\"\"\n",
    "    return -np.sum(x**2)/(2*sigma**2)"
   ]
  },
  {
   "cell_type": "code",
   "execution_count": 7,
   "id": "b95e8365-346a-4a91-80eb-3a11b3ce1299",
   "metadata": {},
   "outputs": [
    {
     "data": {
      "text/plain": [
       "array([-18.488731,  25.649168], dtype=float32)"
      ]
     },
     "execution_count": 7,
     "metadata": {},
     "output_type": "execute_result"
    }
   ],
   "source": [
    "grad_target_dens([0, 0])"
   ]
  },
  {
   "cell_type": "code",
   "execution_count": 8,
   "id": "2d059881",
   "metadata": {},
   "outputs": [],
   "source": [
    "def mala(x0,gamma,n):\n",
    "    \"\"\"\n",
    "    function to perform n times MALA step \n",
    "    \"\"\"\n",
    "    #generate proposals\n",
    "    x_cur = x0\n",
    "    for i in range(n):\n",
    "        y = x_cur + gamma*grad_target_dens(x_cur) + np.sqrt(2*gamma)*np.random.randn(2)\n",
    "        #compute accept-reject\n",
    "        log_prob_accept = np.minimum(0.0, log_target_dens(y) + logp_mala(x_cur,y,gamma) - log_target_dens(x_cur) - logp_mala(y,x_cur,gamma))\n",
    "        #generate uniform distribution\n",
    "        unif = np.log(np.random.uniform())\n",
    "        indic_acc = (log_prob_accept > unif)\n",
    "        global n_accepts\n",
    "        n_accepts += indic_acc\n",
    "        x_cur = indic_acc*y + (1-indic_acc)*x_cur\n",
    "    return x_cur"
   ]
  },
  {
   "cell_type": "code",
   "execution_count": 10,
   "id": "f45b53cf",
   "metadata": {},
   "outputs": [],
   "source": [
    "def i_sir(x0,N,sigma_isir):\n",
    "    \"\"\"\n",
    "    function to sample with N-particles version of i-SIR\n",
    "    args:\n",
    "        N_part - number of particles, integer;\n",
    "        x0 - current i-sir particle;\n",
    "    return:\n",
    "        x_next - selected i-sir particle\n",
    "    \"\"\"\n",
    "    #generate proposals\n",
    "    proposals = sigma_isir*np.random.randn(N,2)\n",
    "    #put current particles\n",
    "    proposals[0,:] = x0\n",
    "    #compute importance weights\n",
    "    logw = np.zeros(N,dtype=float)\n",
    "    for i in range(N):\n",
    "        logw[i] = log_target_dens(proposals[i,:]) - log_dens_isir(proposals[i,:],sigma_isir)\n",
    "    maxLogW = np.max(logw)\n",
    "    uw = np.exp(logw-maxLogW)\n",
    "    w = uw / np.sum(uw)\n",
    "    #sample selected index\n",
    "    idx = discretesampling(w)\n",
    "    #retur seleted particle\n",
    "    return proposals[idx]"
   ]
  },
  {
   "cell_type": "code",
   "execution_count": 11,
   "id": "a732b18c",
   "metadata": {},
   "outputs": [],
   "source": [
    "def ex2_mcmc(x0,N,sigma_isir,gamma,n_steps_mala):\n",
    "    \"\"\"\n",
    "    function to sample with N-particles vrsion of i-SIR using MALA as a rejuvenation kernel with step size gamma\n",
    "    \"\"\"\n",
    "    #generate proposals\n",
    "    proposals = sigma_isir*np.random.randn(N,2)\n",
    "    #put current particles\n",
    "    proposals[0,:] = x0\n",
    "    #compute importance weights\n",
    "    logw = np.zeros(N,dtype=float)\n",
    "    for i in range(N):\n",
    "        logw[i] = log_target_dens(proposals[i,:]) - log_dens_isir(proposals[i,:],sigma_isir)\n",
    "    maxLogW = np.max(logw)\n",
    "    uw = np.exp(logw-maxLogW)\n",
    "    w = uw / np.sum(uw)\n",
    "    #sample selected index\n",
    "    idx = discretesampling(w)\n",
    "    #return seleted particle\n",
    "    x_new = proposals[idx]\n",
    "    #perform rejuvenation step\n",
    "    x_rej = mala(x_new,gamma,n_steps_mala)\n",
    "    return x_rej"
   ]
  },
  {
   "cell_type": "markdown",
   "id": "9302dba9",
   "metadata": {},
   "source": [
    "### Put parameters of the target density"
   ]
  },
  {
   "cell_type": "code",
   "execution_count": 12,
   "id": "a5a3f0cf",
   "metadata": {},
   "outputs": [
    {
     "name": "stdout",
     "output_type": "stream",
     "text": [
      "(3, 2)\n"
     ]
    }
   ],
   "source": [
    "a = 2.0\n",
    "mu = a*np.array([[0.0,1.0],[np.sqrt(3)/2,-0.5],[-np.sqrt(3)/2,-0.5]])\n",
    "sigma = 1.0\n",
    "print(mu.shape)"
   ]
  },
  {
   "cell_type": "code",
   "execution_count": 13,
   "id": "f990c9eb",
   "metadata": {},
   "outputs": [
    {
     "name": "stderr",
     "output_type": "stream",
     "text": [
      "100%|█████████████████████████████████████████| 704/704 [01:50<00:00,  6.38it/s]\n"
     ]
    },
    {
     "data": {
      "image/png": "[encoded data removed]",
      "text/plain": [
       "<Figure size 432x288 with 2 Axes>"
      ]
     },
     "metadata": {
      "needs_background": "light"
     },
     "output_type": "display_data"
    }
   ],
   "source": [
    "N_pts = 300\n",
    "xlist = np.linspace(-2*a, 2*a, N_pts)\n",
    "ylist = np.linspace(-2*a, 2*a, N_pts)\n",
    "X, Y = np.meshgrid(xlist, ylist)\n",
    "points = np.zeros((X.shape[0],X.shape[1], 2),dtype=float)\n",
    "points[:, :, 0] = X\n",
    "points[:, :, 1] = Y\n",
    "\n",
    "points = points.reshape(-1, 2)\n",
    "\n",
    "batch_size = 128\n",
    "\n",
    "dens_vals = []\n",
    "for i in tqdm.tqdm(range(points.shape[0] // batch_size + (1 if points.shape[0] % batch_size else 0))):\n",
    "    z = torch.FloatTensor(points[i * batch_size: (i + 1) * batch_size]).to(device)\n",
    "    dens_vals.append(-get_energy_vanilla_gan(z).detach().cpu().numpy())\n",
    "\n",
    "dens_vals = np.concatenate(dens_vals).reshape(N_pts, N_pts)\n",
    "\n",
    "fig,ax=plt.subplots(1,1)\n",
    "cp = ax.contourf(X, Y, dens_vals)\n",
    "fig.colorbar(cp) # Add a colorbar to a plot\n",
    "ax.set_title('Filled Contours Plot')\n",
    "#ax.set_xlabel('x (cm)')\n",
    "ax.set_ylabel('y (cm)')\n",
    "plt.show()"
   ]
  },
  {
   "cell_type": "code",
   "execution_count": 14,
   "id": "f8df5967",
   "metadata": {},
   "outputs": [],
   "source": [
    "N_samples = 100\n",
    "N_particles = 3\n",
    "gamma = 0.2\n",
    "N_steps_mala = 3\n",
    "sigma_isir = 3.0\n",
    "\n",
    "### sample i-sir\n",
    "Samples_isir = np.zeros((N_samples,2),dtype = float)\n",
    "x0 = np.zeros(2)\n",
    "x_cur = x0\n",
    "np.random.seed(42)\n",
    "for i in range(N_samples):\n",
    "    x_cur = i_sir(x_cur,N_particles,sigma_isir)\n",
    "    Samples_isir[i] = x_cur"
   ]
  },
  {
   "cell_type": "code",
   "execution_count": null,
   "id": "4f5300f3-7a60-4642-8939-67268f7e46cf",
   "metadata": {},
   "outputs": [],
   "source": []
  },
  {
   "cell_type": "code",
   "execution_count": 15,
   "id": "35915fff",
   "metadata": {},
   "outputs": [
    {
     "data": {
      "image/png": "[encoded data removed]",
      "text/plain": [
       "<Figure size 432x288 with 2 Axes>"
      ]
     },
     "metadata": {
      "needs_background": "light"
     },
     "output_type": "display_data"
    }
   ],
   "source": [
    "\n",
    "fig,ax=plt.subplots(1,1)\n",
    "cp = ax.contourf(X, Y, dens_vals)\n",
    "fig.colorbar(cp) # Add a colorbar to a plot\n",
    "ax.scatter(Samples_isir[:,0],Samples_isir[:,1], s=1, c='r')\n",
    "ax.set_title('i_SIR samples')\n",
    "#ax.set_xlabel('x (cm)')\n",
    "ax.set_ylabel('y (cm)')\n",
    "plt.show()"
   ]
  },
  {
   "cell_type": "code",
   "execution_count": 16,
   "id": "9852830e",
   "metadata": {},
   "outputs": [
    {
     "name": "stdout",
     "output_type": "stream",
     "text": [
      "number accepts =  0\n"
     ]
    }
   ],
   "source": [
    "### sample mala\n",
    "Samples_mala = np.zeros((N_samples,2),dtype = float)\n",
    "x0 = np.zeros(2)\n",
    "x_cur = x0\n",
    "n_accepts = 0\n",
    "np.random.seed(42)\n",
    "\n",
    "for i in range(N_samples):\n",
    "    x_cur = mala(x_cur,gamma,N_steps_mala)\n",
    "    Samples_mala[i] = x_cur\n",
    "print(\"number accepts = \",n_accepts)"
   ]
  },
  {
   "cell_type": "code",
   "execution_count": 17,
   "id": "d47f5db2",
   "metadata": {},
   "outputs": [
    {
     "data": {
      "image/png": "[encoded data removed]",
      "text/plain": [
       "<Figure size 432x288 with 2 Axes>"
      ]
     },
     "metadata": {
      "needs_background": "light"
     },
     "output_type": "display_data"
    }
   ],
   "source": [
    "\n",
    "fig,ax=plt.subplots(1,1)\n",
    "cp = ax.contourf(X, Y, dens_vals)\n",
    "fig.colorbar(cp) # Add a colorbar to a plot\n",
    "ax.scatter(Samples_mala[:,0],Samples_mala[:,1], s=1, c='r')\n",
    "ax.set_title('MALA samples')\n",
    "#ax.set_xlabel('x (cm)')\n",
    "ax.set_ylabel('y (cm)')\n",
    "plt.show()"
   ]
  },
  {
   "cell_type": "code",
   "execution_count": 18,
   "id": "43dd1d9b",
   "metadata": {},
   "outputs": [
    {
     "name": "stdout",
     "output_type": "stream",
     "text": [
      "number accepts =  22\n"
     ]
    }
   ],
   "source": [
    "### sample ex2mcmc\n",
    "Samples_ex2 = np.zeros((N_samples,2),dtype = float)\n",
    "x0 = np.zeros(2)\n",
    "x_cur = x0\n",
    "n_accepts = 0\n",
    "np.random.seed(42)\n",
    "\n",
    "for i in range(N_samples):\n",
    "    x_cur = ex2_mcmc(x_cur,N_particles,sigma_isir,gamma,N_steps_mala)\n",
    "    Samples_ex2[i] = x_cur\n",
    "print(\"number accepts = \",n_accepts)"
   ]
  },
  {
   "cell_type": "code",
   "execution_count": 19,
   "id": "4226b1ab",
   "metadata": {},
   "outputs": [
    {
     "data": {
      "image/png": "[encoded data removed]",
      "text/plain": [
       "<Figure size 432x288 with 2 Axes>"
      ]
     },
     "metadata": {
      "needs_background": "light"
     },
     "output_type": "display_data"
    }
   ],
   "source": [
    "\n",
    "fig,ax=plt.subplots(1,1)\n",
    "cp = ax.contourf(X, Y, dens_vals)\n",
    "fig.colorbar(cp) # Add a colorbar to a plot\n",
    "ax.scatter(Samples_ex2[:,0],Samples_ex2[:,1], s=1, c='r')\n",
    "ax.set_title('Ex2 samples')\n",
    "#ax.set_xlabel('x (cm)')\n",
    "ax.set_ylabel('y (cm)')\n",
    "plt.show()"
   ]
  },
  {
   "cell_type": "markdown",
   "id": "511fde50",
   "metadata": {},
   "source": [
    "### Plot all 3 pictures together"
   ]
  },
  {
   "cell_type": "code",
   "execution_count": 20,
   "id": "89bd1aa6",
   "metadata": {},
   "outputs": [
    {
     "data": {
      "image/png": "[encoded data removed]",
      "text/plain": [
       "<Figure size 1080x288 with 4 Axes>"
      ]
     },
     "metadata": {
      "needs_background": "light"
     },
     "output_type": "display_data"
    }
   ],
   "source": [
    "fig,ax = plt.subplots(1,3,figsize=(15,4))\n",
    "im = ax[0].contourf(X, Y, dens_vals)\n",
    "im = ax[1].contourf(X, Y, dens_vals)\n",
    "im = ax[2].contourf(X, Y, dens_vals)\n",
    "fig.colorbar(im, ax=ax.flat) # Add a colorbar to a plot\n",
    "#i-sir plots\n",
    "ax[0].scatter(Samples_isir[:,0],Samples_isir[:,1], s=1, c='r')\n",
    "ax[0].set_title('i-SIR samples')\n",
    "ax[0].set_xlabel('$x_1$')\n",
    "ax[0].set_ylabel('$x_2$')\n",
    "#mala samples\n",
    "ax[1].scatter(Samples_mala[:,0],Samples_mala[:,1], s=1, c='r')\n",
    "ax[1].set_title('MALA samples')\n",
    "ax[1].set_xlabel('$x_1$')\n",
    "ax[1].set_ylabel('$x_2$')\n",
    "#ex2-mcmc samples\n",
    "ax[2].scatter(Samples_ex2[:,0],Samples_ex2[:,1], s=1, c='r')\n",
    "ax[2].set_title('Ex$^2$MCMC samples')\n",
    "ax[2].set_xlabel('$x_1$')\n",
    "ax[2].set_ylabel('$x_2$')\n",
    "plt.savefig(\"toy_samples_2d_gaus.pdf\", format=\"pdf\", bbox_inches=\"tight\") \n",
    "plt.show()"
   ]
  },
  {
   "cell_type": "code",
   "execution_count": 21,
   "id": "eeade7ce-f240-4f6e-88d7-26d702519428",
   "metadata": {},
   "outputs": [
    {
     "data": {
      "image/png": "[encoded data removed]",
      "text/plain": [
       "<Figure size 432x288 with 100 Axes>"
      ]
     },
     "metadata": {
      "needs_background": "light"
     },
     "output_type": "display_data"
    }
   ],
   "source": [
    "sampled_mnist = gen_mnist(torch.FloatTensor(Samples_isir))\n",
    "\n",
    "for i in range(100):\n",
    "  plt.subplot(10, 10, i + 1)\n",
    "  plt.axis('off')\n",
    "  plt.imshow(sampled_mnist[i, 0].detach().cpu().numpy(), cmap='gray')"
   ]
  },
  {
   "cell_type": "code",
   "execution_count": 22,
   "id": "41ef0105-334e-456e-b2be-35b0e246a88e",
   "metadata": {},
   "outputs": [
    {
     "data": {
      "image/png": "[encoded data removed]",
      "text/plain": [
       "<Figure size 432x288 with 100 Axes>"
      ]
     },
     "metadata": {
      "needs_background": "light"
     },
     "output_type": "display_data"
    }
   ],
   "source": [
    "sampled_mnist = gen_mnist(torch.FloatTensor(Samples_mala))\n",
    "\n",
    "for i in range(100):\n",
    "  plt.subplot(10, 10, i + 1)\n",
    "  plt.axis('off')\n",
    "  plt.imshow(sampled_mnist[i, 0].detach().cpu().numpy(), cmap='gray')"
   ]
  },
  {
   "cell_type": "code",
   "execution_count": 23,
   "id": "6977c056-b4eb-47ff-97be-563aad957802",
   "metadata": {},
   "outputs": [
    {
     "data": {
      "image/png": "[encoded data removed]",
      "text/plain": [
       "<Figure size 432x288 with 100 Axes>"
      ]
     },
     "metadata": {
      "needs_background": "light"
     },
     "output_type": "display_data"
    }
   ],
   "source": [
    "sampled_mnist = gen_mnist(torch.FloatTensor(Samples_ex2))\n",
    "\n",
    "for i in range(100):\n",
    "  plt.subplot(10, 10, i + 1)\n",
    "  plt.axis('off')\n",
    "  plt.imshow(sampled_mnist[i, 0].detach().cpu().numpy(), cmap='gray')"
   ]
  },
  {
   "cell_type": "code",
   "execution_count": null,
   "id": "e55ae702-9e3d-46f2-84d0-28720d8f7d0b",
   "metadata": {},
   "outputs": [],
   "source": []
  },
  {
   "cell_type": "code",
   "execution_count": 64,
   "id": "c7a68598-1ad6-492d-b0f6-5a57c88fdb79",
   "metadata": {},
   "outputs": [
    {
     "data": {
      "text/plain": [
       "(100, 2)"
      ]
     },
     "execution_count": 64,
     "metadata": {},
     "output_type": "execute_result"
    }
   ],
   "source": [
    "Samples_isir.shape"
   ]
  },
  {
   "cell_type": "code",
   "execution_count": 65,
   "id": "248e958e-e141-483c-8ede-a647d322dc0c",
   "metadata": {},
   "outputs": [
    {
     "data": {
      "text/plain": [
       "(100, 2)"
      ]
     },
     "execution_count": 65,
     "metadata": {},
     "output_type": "execute_result"
    }
   ],
   "source": [
    "Samples_mala.shape"
   ]
  },
  {
   "cell_type": "code",
   "execution_count": 66,
   "id": "49c26a98-29cf-4cf5-ac9a-aa52a319c22d",
   "metadata": {},
   "outputs": [
    {
     "data": {
      "text/plain": [
       "(100, 2)"
      ]
     },
     "execution_count": 66,
     "metadata": {},
     "output_type": "execute_result"
    }
   ],
   "source": [
    "Samples_ex2.shape"
   ]
  },
  {
   "cell_type": "code",
   "execution_count": null,
   "id": "5fe6fb1b-d58a-422a-85ca-e8c638c48bc7",
   "metadata": {},
   "outputs": [],
   "source": []
  }
 ],
 "metadata": {
  "kernelspec": {
   "display_name": "Python 3 (ipykernel)",
   "language": "python",
   "name": "python3"
  },
  "language_info": {
   "codemirror_mode": {
    "name": "ipython",
    "version": 3
   },
   "file_extension": ".py",
   "mimetype": "text/x-python",
   "name": "python",
   "nbconvert_exporter": "python",
   "pygments_lexer": "ipython3",
   "version": "3.9.11"
  }
 },
 "nbformat": 4,
 "nbformat_minor": 5
}
