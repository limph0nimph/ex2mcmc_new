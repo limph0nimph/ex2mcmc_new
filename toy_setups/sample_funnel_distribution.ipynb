{
 "cells": [
  {
   "cell_type": "code",
   "execution_count": 111,
   "id": "64e76fd7",
   "metadata": {},
   "outputs": [],
   "source": [
    "import argparse\n",
    "import datetime\n",
    "import pickle\n",
    "from collections import defaultdict\n",
    "from functools import partial\n",
    "from pathlib import Path\n",
    "from typing import Tuple\n",
    "\n",
    "import jax\n",
    "import matplotlib.colors as mcolors\n",
    "import matplotlib.pyplot as plt\n",
    "import numpy as np\n",
    "import ot\n",
    "import seaborn as sns\n",
    "import torch\n",
    "import pyro\n",
    "#from easydict import EasyDict as edict\n",
    "from matplotlib.colors import LinearSegmentedColormap\n",
    "from pyro.infer import HMC, MCMC, NUTS\n",
    "from scipy.stats import gaussian_kde\n",
    "from tqdm import tqdm\n",
    "#from utils import DotConfig\n",
    "\n",
    "from sampling_utils.adaptive_mc import CISIR, Ex2MCMC, FlowMCMC\n",
    "from sampling_utils.adaptive_sir_loss import MixKLLoss\n",
    "from sampling_utils.distributions import (\n",
    "    Banana,\n",
    "    CauchyMixture,\n",
    "    Distribution,\n",
    "    Funnel,\n",
    "    HalfBanana,\n",
    "    IndependentNormal,\n",
    ")\n",
    "from sampling_utils.ebm_sampling import MALA\n",
    "from sampling_utils.flows import RNVP\n",
    "from sampling_utils.metrics import ESS, acl_spectrum\n",
    "from sampling_utils.total_variation import (\n",
    "    average_total_variation,\n",
    ")"
   ]
  },
  {
   "cell_type": "code",
   "execution_count": 112,
   "id": "782aeab8",
   "metadata": {},
   "outputs": [],
   "source": [
    "sns.set_theme(style=\"ticks\", palette=\"deep\")"
   ]
  },
  {
   "cell_type": "code",
   "execution_count": 113,
   "id": "7114e62f",
   "metadata": {},
   "outputs": [],
   "source": [
    "def parse_arguments():\n",
    "    parser = argparse.ArgumentParser()\n",
    "    parser.add_argument(\"config\", type=str)\n",
    "    parser.add_argument(\"--dist_config\", type=str)\n",
    "    parser.add_argument(\"--result_path\", type=str)\n",
    "    # parser.add_argument('--dims', type=int, nargs='+')\n",
    "    # parser.add_argument\n",
    "    args = parser.parse_args()\n",
    "\n",
    "    return args\n",
    "\n",
    "\n",
    "def main(config, run=True):\n",
    "    device = config.device\n",
    "    method_metric_dict = defaultdict(lambda: defaultdict(list))\n",
    "\n",
    "    if run:\n",
    "        for dim in config.dims:\n",
    "            dist_class = eval(config.dist_class)\n",
    "            target = dist_class(\n",
    "                dim=dim,\n",
    "                device=device,\n",
    "                **config.dist_params.dict,\n",
    "            )\n",
    "\n",
    "            loc_proposal = torch.zeros(dim).to(device)\n",
    "            scale_proposal = config.scale_proposal * torch.ones(dim).to(device)\n",
    "            proposal = IndependentNormal(\n",
    "                dim=dim,\n",
    "                loc=loc_proposal,\n",
    "                scale=scale_proposal,\n",
    "                device=device,\n",
    "            )\n",
    "\n",
    "            print(\"========== NUTS ==========\")\n",
    "            samples_true = sample_nuts(\n",
    "                target,\n",
    "                proposal,\n",
    "                num_samples=10000,#config.trunc_chain_len,\n",
    "                batch_size=1, #config.batch_size\n",
    "            )[:, 0, :]\n",
    "\n",
    "            sample = sample_nuts(\n",
    "                target,\n",
    "                proposal,\n",
    "                num_samples=config.trunc_chain_len,\n",
    "                batch_size=config.batch_size,\n",
    "                burn_in=config.trunc_chain_len,\n",
    "            )\n",
    "\n",
    "            metrics = compute_metrics(\n",
    "                    samples_true,\n",
    "                    sample,\n",
    "                    name='NUTS',\n",
    "                    trunc_chain_len=config.trunc_chain_len,\n",
    "                    ess_rar=1,\n",
    "                )\n",
    "            for k, v in metrics.items():\n",
    "                method_metric_dict['NUTS'][k] = list(\n",
    "                    method_metric_dict['NUTS'][k],\n",
    "                )\n",
    "                method_metric_dict['NUTS'][k].append(v)\n",
    "\n",
    "            #sample = samples_true #[-config.trunc_chain_len :]\n",
    "            #print(target(torch.from_numpy(np.stack(sample, 0))).mean())\n",
    "            samples = [sample[:, 0, :]]\n",
    "            names = []\n",
    "            colors = []\n",
    "            for method_name, info in config.methods.items():\n",
    "                colors.append(info.color)\n",
    "                names.append(method_name)\n",
    "                print(f\"========== {method_name} =========== \")\n",
    "                params = info.params\n",
    "                try:\n",
    "                    mcmc_class = eval(info.mcmc_class)\n",
    "                except KeyError:\n",
    "                    print(\"Can't understand class\")\n",
    "\n",
    "                params = params.dict\n",
    "                if \"lr\" in params:\n",
    "                    params[\"lr\"] = eval(params[\"lr\"])\n",
    "\n",
    "                mcmc = mcmc_class(**params, dim=dim)\n",
    "\n",
    "                if \"flow\" in info.dict.keys():\n",
    "                    verbose = mcmc.verbose\n",
    "                    mcmc.verbose = False\n",
    "                    flow = RNVP(info.flow.num_flows, dim=dim)\n",
    "\n",
    "                    flow_mcmc = FlowMCMC(\n",
    "                        target,\n",
    "                        proposal,\n",
    "                        flow,\n",
    "                        mcmc,\n",
    "                        batch_size=info.flow.batch_size,\n",
    "                        lr=info.flow.lr,\n",
    "                    )\n",
    "                    flow.train()\n",
    "                    out_samples, nll = flow_mcmc.train(\n",
    "                        n_steps=info.flow.n_steps,\n",
    "                    )\n",
    "                    assert not torch.isnan(\n",
    "                        next(flow.parameters())[0, 0],\n",
    "                    ).item()\n",
    "\n",
    "                    flow.eval()\n",
    "                    mcmc.flow = flow\n",
    "                    mcmc.verbose = verbose\n",
    "\n",
    "                    if \"figpath\" in config.dict:\n",
    "                        fig = plot_learned_density(\n",
    "                            flow,\n",
    "                            proposal,\n",
    "                            xlim=target.xlim,\n",
    "                            ylim=target.ylim,\n",
    "                        )\n",
    "                        plt.savefig(\n",
    "                            Path(\n",
    "                                config.figpath,\n",
    "                                f\"flow_{config.dist}_{dim}.pdf\",\n",
    "                            ),\n",
    "                        )\n",
    "                        plt.close()\n",
    "\n",
    "                start = proposal.sample((config.batch_size,))\n",
    "\n",
    "                # s = time.time()\n",
    "                out = mcmc(start, target, proposal, n_steps=info.n_steps)\n",
    "                print(mcmc.grad_step)\n",
    "                # e = time.time()\n",
    "                # elapsed = (e - s)\n",
    "                if isinstance(out, tuple):\n",
    "                    sample = out[0]\n",
    "                else:\n",
    "                    sample = out\n",
    "\n",
    "                sample = np.array(\n",
    "                    [_.detach().numpy() for _ in sample],\n",
    "                ).reshape(-1, config.batch_size, dim)\n",
    "\n",
    "                metrics = compute_metrics(\n",
    "                    samples_true,\n",
    "                    sample,\n",
    "                    name=method_name,\n",
    "                    trunc_chain_len=config.trunc_chain_len,\n",
    "                    ess_rar=info.ess_rar,\n",
    "                )\n",
    "                for k, v in metrics.items():\n",
    "                    method_metric_dict[method_name][k] = list(\n",
    "                        method_metric_dict[method_name][k],\n",
    "                    )\n",
    "                    method_metric_dict[method_name][k].append(v)\n",
    "\n",
    "                sample = sample[-config.trunc_chain_len:, 0]\n",
    "\n",
    "                #print(target(torch.from_numpy(np.stack(sample, 0))).mean())\n",
    "                samples.append(sample)\n",
    "\n",
    "                if \"figpath\" in config.dict:\n",
    "                    SMALL_SIZE = 18  # 8\n",
    "                    MEDIUM_SIZE = 20  # 10\n",
    "                    BIGGER_SIZE = 20  # 12\n",
    "\n",
    "                    plt.rc(\n",
    "                        \"font\", size=SMALL_SIZE\n",
    "                    )  # controls default text sizes\n",
    "                    plt.rc(\n",
    "                        \"axes\", titlesize=BIGGER_SIZE\n",
    "                    )  # fontsize of the axes title\n",
    "                    plt.rc(\n",
    "                        \"axes\",\n",
    "                        labelsize=MEDIUM_SIZE,\n",
    "                    )  # fontsize of the x and y labels\n",
    "                    plt.rc(\n",
    "                        \"xtick\",\n",
    "                        labelsize=SMALL_SIZE,\n",
    "                    )  # fontsize of the tick labels\n",
    "                    plt.rc(\n",
    "                        \"ytick\",\n",
    "                        labelsize=SMALL_SIZE,\n",
    "                    )  # fontsize of the tick labels\n",
    "                    plt.rc(\"legend\", fontsize=MEDIUM_SIZE)  # legend fontsize\n",
    "                    plt.rc(\n",
    "                        \"figure\",\n",
    "                        titlesize=BIGGER_SIZE,\n",
    "                    )  # fontsize of the figure title\n",
    "\n",
    "            for i, (name, sample) in enumerate(zip(['NUTS']+names, samples)):\n",
    "                # fig, axs = plt.subplots(ncols=len(names), figsize=(24, 8))\n",
    "                fig, ax = plt.subplots(1, 1, figsize=(5,5)) #(4, 4))\n",
    "                ax.scatter(\n",
    "                    sample[:config.trunc_chain_len, 0],\n",
    "                    sample[:config.trunc_chain_len, 1],\n",
    "                    alpha=0.3,\n",
    "                    s=2,\n",
    "                    color=\"black\",\n",
    "                )\n",
    "\n",
    "                if i == 0:\n",
    "                    xlim = ax.get_xlim()\n",
    "                    ylim = ax.get_ylim()\n",
    "                    \n",
    "                    # xlim = (0, xlim[1])\n",
    "                    # ax.set_xlim(*xlim)\n",
    "                else:\n",
    "                    ax.set_xlim(*xlim)\n",
    "                    ax.set_ylim(*ylim)\n",
    "\n",
    "                target.plot_2d(fig, ax)\n",
    "\n",
    "                # plt.axis('equal')\n",
    "\n",
    "                ax.set_box_aspect(1)\n",
    "                ax.xaxis.set_tick_params(labelsize=15)\n",
    "                ax.yaxis.set_tick_params(labelsize=15)\n",
    "                #ax.axis('off')\n",
    "\n",
    "                plt.title(name)\n",
    "\n",
    "                plt.savefig(\n",
    "                    Path(\n",
    "                        config.figpath,\n",
    "                        fr\"{config.dist}_{dim}_{name}_proj.pdf\",\n",
    "                    )\n",
    "                )\n",
    "                plt.close()\n",
    "\n",
    "        sub = datetime.datetime.now().strftime(\"%d-%m-%Y_%H:%M\")\n",
    "\n",
    "        if \"respath\" in config.dict:\n",
    "            method_metric_dict = dict(method_metric_dict)\n",
    "            resdir = Path(config.respath, config.dist)\n",
    "            resdir.mkdir(parents=True, exist_ok=True)\n",
    "            respath = Path(resdir, f\"{sub}.npy\")\n",
    "            pickle.dump(method_metric_dict, respath.open(\"wb\"))\n",
    "            # method_metric_dict = pickle.load(respath.open('rb'))\n",
    "\n",
    "    else:\n",
    "        method_metric_dict = pickle.load(Path(config.respath).open(\"rb\"))\n",
    "        colors = []\n",
    "        for method_name, info in config.methods.items():\n",
    "            colors.append(info.color)\n",
    "\n",
    "    if \"figpath\" in config.dict:\n",
    "        SMALL_SIZE = 18  # 8\n",
    "        MEDIUM_SIZE = 20  # 10\n",
    "        BIGGER_SIZE = 20  # 12\n",
    "\n",
    "        plt.rc(\"font\", size=SMALL_SIZE)  # controls default text sizes\n",
    "        plt.rc(\"axes\", titlesize=BIGGER_SIZE)  # fontsize of the axes title\n",
    "        plt.rc(\"axes\", labelsize=MEDIUM_SIZE)  # fontsize of the x and y labels\n",
    "        plt.rc(\"xtick\", labelsize=SMALL_SIZE)  # fontsize of the tick labels\n",
    "        plt.rc(\"ytick\", labelsize=SMALL_SIZE)  # fontsize of the tick labels\n",
    "        plt.rc(\"legend\", fontsize=MEDIUM_SIZE)  # legend fontsize\n",
    "        plt.rc(\"figure\", titlesize=BIGGER_SIZE)  # fontsize of the figure title\n",
    "\n",
    "        Path(config.figpath, f\"{config.dist}\").mkdir(exist_ok=True)\n",
    "        plot_metrics(\n",
    "            method_metric_dict,\n",
    "            config.dims,\n",
    "            savepath=Path(config.figpath, f\"{config.dist}\"),\n",
    "            colors=colors,\n",
    "        )\n",
    "        # plt.savefig(Path(config.figpath, '{config.dist}_proj.png'))"
   ]
  },
  {
   "cell_type": "code",
   "execution_count": 114,
   "id": "eefb8f1e",
   "metadata": {},
   "outputs": [],
   "source": [
    "def sample_nuts(target, proposal, num_samples=1000, burn_in=1000, batch_size=1):\n",
    "    def true_target_energy(z):\n",
    "        return -target(z)\n",
    "\n",
    "    def energy(z):\n",
    "        z = z[\"points\"]\n",
    "        return true_target_energy(z).sum()\n",
    "\n",
    "    # kernel = HMC(potential_fn=energy, step_size = 0.1, num_steps = K, full_mass = False)\n",
    "    kernel_true = NUTS(potential_fn=energy, full_mass=False)\n",
    "    #kernel_true = HMC(potential_fn=energy, full_mass=False)\n",
    "    pyro.set_rng_seed(45)\n",
    "    init_samples = proposal.sample((batch_size,))\n",
    "    print(init_samples.shape) \n",
    "    #init_samples = torch.zeros_like(init_samples)\n",
    "    dim = init_samples.shape[-1]\n",
    "    init_params = {\"points\": init_samples}\n",
    "    mcmc_true = MCMC(\n",
    "        kernel=kernel_true,\n",
    "        num_samples=num_samples,\n",
    "        initial_params=init_params,\n",
    "        warmup_steps=burn_in,\n",
    "    )\n",
    "    mcmc_true.run()\n",
    "\n",
    "    q_true = mcmc_true.get_samples(group_by_chain=True)[\"points\"]\n",
    "    samples_true = np.array(q_true.view(-1, batch_size, dim))\n",
    "\n",
    "    return samples_true\n",
    "\n",
    "\n",
    "def plot_hist(\n",
    "    samples,\n",
    "    title=\"Histogram\",\n",
    "    bins=200,\n",
    "    gamma=0.5,\n",
    "    dims=[0, 1],\n",
    "    ax_lims=[(-2, 9), (-2, 4)],\n",
    "    save_path=\"pics/histogram_test.pdf\",\n",
    "    density=True,\n",
    "):\n",
    "    plt.close()\n",
    "    plt.figure(figsize=(5, 5), dpi=300)\n",
    "    plt.hist2d(\n",
    "        samples[:, dims[0]],\n",
    "        samples[:, dims[1]],\n",
    "        bins=bins,\n",
    "        density=density,\n",
    "        range=[ax_lims[0], ax_lims[1]],\n",
    "        norm=mcolors.PowerNorm(gamma),\n",
    "    )\n",
    "    plt.title(title)\n",
    "    plt.axis(\"off\")\n",
    "    plt.xlim((ax_lims[0][0], ax_lims[0][1]))\n",
    "    plt.ylim((ax_lims[1][0], ax_lims[1][1]))\n",
    "    plt.savefig(save_path, bbox_inches=\"tight\")\n",
    "    plt.show()"
   ]
  },
  {
   "cell_type": "code",
   "execution_count": 115,
   "id": "21ecc163",
   "metadata": {},
   "outputs": [],
   "source": [
    "def plot_learned_density(\n",
    "    flow,\n",
    "    proposal,\n",
    "    fig=None,\n",
    "    device=\"cpu\",\n",
    "    xlim=[-1, 1],\n",
    "    ylim=[-1, 1],\n",
    "    rest=0.0,\n",
    "):\n",
    "    if fig is None:\n",
    "        fig = plt.figure()\n",
    "    n_pts = 200\n",
    "    z = proposal.sample((n_pts**2,))\n",
    "    x = np.linspace(*xlim, n_pts)\n",
    "    y = np.linspace(*ylim, n_pts)\n",
    "    xx, yy = np.meshgrid(x, y)\n",
    "    zz = np.stack([xx, yy], -1)\n",
    "    z[:, :2] = torch.FloatTensor(zz).view(-1, 2).to(device)\n",
    "    z[:, 2:] = torch.FloatTensor([rest] * n_pts**2)[:, None]\n",
    "\n",
    "    inv, minus_log_jac = flow.inverse(z)\n",
    "    minus_log_jac = minus_log_jac.reshape(n_pts, n_pts)\n",
    "    inv = inv.reshape(n_pts, n_pts, -1)\n",
    "    vals = (proposal(inv) + minus_log_jac).exp().detach()\n",
    "\n",
    "    im = plt.contourf(xx, yy, vals.reshape(n_pts, n_pts), cmap=\"GnBu\")\n",
    "    fig.colorbar(im)\n",
    "    return fig\n",
    "\n",
    "def compute_metrics(\n",
    "    xs_true,\n",
    "    xs_pred,\n",
    "    name=None,\n",
    "    n_samples=1000,\n",
    "    scale=1.0,\n",
    "    trunc_chain_len=None,\n",
    "    ess_rar=1,\n",
    "):\n",
    "    metrics = dict()\n",
    "    key = jax.random.PRNGKey(0)\n",
    "    n_steps = 15\n",
    "    # n_samples = 100\n",
    "\n",
    "    ess = ESS(\n",
    "        acl_spectrum(\n",
    "            xs_pred[::ess_rar] - xs_pred[::ess_rar].mean(0)[None, ...],\n",
    "        ),\n",
    "    ).mean()\n",
    "    metrics[\"ess\"] = ess\n",
    "\n",
    "    xs_pred = xs_pred[-trunc_chain_len:]\n",
    "\n",
    "    tracker = average_total_variation(\n",
    "        key,\n",
    "        xs_true,\n",
    "        xs_pred,\n",
    "        n_steps=n_steps,\n",
    "        n_samples=n_samples,\n",
    "    )\n",
    "\n",
    "    metrics[\"tv_mean\"] = tracker.mean()\n",
    "    metrics[\"tv_conf_sigma\"] = tracker.std_of_mean()\n",
    "\n",
    "    mean = tracker.mean()\n",
    "    std = tracker.std()\n",
    "\n",
    "    metrics[\"emd\"] = 0\n",
    "    for b in range(xs_pred.shape[1]):\n",
    "        M = ot.dist(xs_true / scale, xs_pred[:, b] / scale)\n",
    "        emd = ot.lp.emd2([], [], M)\n",
    "        metrics[\"emd\"] += emd / xs_pred.shape[1]\n",
    "\n",
    "    if name is not None:\n",
    "        print(f\"===={name}====\")\n",
    "    print(\n",
    "        f\"TV distance. Mean: {mean:.3f}, Std: {std:.3f}. \\nESS: {ess:.3f} \\nEMD: {emd:.3f}\",\n",
    "    )\n",
    "\n",
    "    return metrics"
   ]
  },
  {
   "cell_type": "code",
   "execution_count": 116,
   "id": "e62fb19f",
   "metadata": {},
   "outputs": [],
   "source": [
    "def plot_metrics(metrics, ndims, savepath=None, scale=1.0, colors=None):\n",
    "    axs_names = [\"Sliced TV\", \"ESS\", \"EMD ratio\"]  # (on scaled data)']\n",
    "    ncols = len(axs_names)\n",
    "\n",
    "    figs = []\n",
    "    axs = []\n",
    "    for _ in range(ncols):\n",
    "        fig, ax = plt.subplots(ncols=1, nrows=1, figsize=(6, 6))\n",
    "        figs.append(fig)\n",
    "        axs.append(ax)\n",
    "\n",
    "    mala_emd = metrics['MALA']['emd']\n",
    "    \n",
    "    for (name, res), color in zip(metrics.items(), colors):\n",
    "        for k, v in res.items():\n",
    "            res[k] = np.array(v)\n",
    "\n",
    "        arr = res[\"tv_mean\"]\n",
    "        axs[0].plot(ndims, arr, label=name, marker=\"o\", color=color)\n",
    "\n",
    "        axs[0].fill_between(\n",
    "            ndims,\n",
    "            res[\"tv_mean\"] - 1.96 * res[\"tv_conf_sigma\"],\n",
    "            res[\"tv_mean\"] + 1.96 * res[\"tv_conf_sigma\"],\n",
    "            alpha=0.2,\n",
    "        )\n",
    "\n",
    "        arr = res[\"ess\"]\n",
    "        axs[1].plot(ndims, arr, label=name, marker=\"o\", color=color)\n",
    "\n",
    "        if name != 'MALA':\n",
    "            arr = mala_emd / res[\"emd\"]\n",
    "            axs[2].plot(ndims, arr, label=name, marker=\"o\", color=color)\n",
    "        #axs[2].set_yscale(\"log\")\n",
    "\n",
    "    for ax, fig, name in zip(axs, figs, axs_names):\n",
    "        ax.grid()\n",
    "        ax.set_title(name.split(' ')[0])\n",
    "        ax.set_xlabel(\"dim\")\n",
    "        if name == \"EMD ratio\":\n",
    "            ax.legend()\n",
    "\n",
    "        fig.tight_layout()\n",
    "\n",
    "        if savepath is not None:\n",
    "            fig.savefig(Path(savepath, f\"{name}.pdf\"))"
   ]
  },
  {
   "cell_type": "code",
   "execution_count": 117,
   "id": "455949ec",
   "metadata": {},
   "outputs": [],
   "source": [
    "def funnel_dens_2d(x):\n",
    "    \"\"\"\n",
    "    returns 2-dimensional funnel distribution density\n",
    "    \"\"\"\n",
    "    logprob_1 = -x[0]**2 / 2\n",
    "    logprob_2 = -0.5*np.exp(-x[0])*(x[1]**2) -0.5*x[0]\n",
    "    return logprob_1+logprob_2"
   ]
  },
  {
   "cell_type": "code",
   "execution_count": 118,
   "id": "0451eea7",
   "metadata": {},
   "outputs": [],
   "source": [
    "n_steps = 1\n",
    "dist = \"funnel\"\n",
    "dim = 10\n",
    "scale_target = 1.\n",
    "scale_proposal = 2.\n",
    "dist_class = \"Funnel\"\n",
    "dist_params = {\n",
    "    \"a\": 1.0,\n",
    "    \"b\": 0.5\n",
    "}\n",
    "a = 2.0\n",
    "b = 0.5"
   ]
  },
  {
   "cell_type": "code",
   "execution_count": 119,
   "id": "2e8ad069",
   "metadata": {},
   "outputs": [],
   "source": [
    "device = 'cpu'\n",
    "method_metric_dict = defaultdict(lambda: defaultdict(list))"
   ]
  },
  {
   "cell_type": "code",
   "execution_count": 77,
   "id": "309bf3de",
   "metadata": {},
   "outputs": [],
   "source": [
    "#target = Funnel(\n",
    "#                dim=dim,\n",
    "#                device=device,\n",
    "#                a = a,\n",
    "#                b = b\n",
    "                #**dist_params.dict,\n",
    "#)\n",
    "\n",
    "loc_proposal = torch.zeros(dim).to(device)\n",
    "scale_proposal = scale_proposal * torch.ones(dim).to(device)\n",
    "scale_target = scale_target * torch.ones(dim).to(device)\n",
    "proposal = IndependentNormal(\n",
    "    dim=dim,\n",
    "    loc=loc_proposal,\n",
    "    scale=scale_proposal,\n",
    "    device=device,\n",
    ")\n",
    "\n",
    "target = IndependentNormal(\n",
    "    dim=dim,\n",
    "    loc=loc_proposal,\n",
    "    scale=scale_target,\n",
    "    device=device,\n",
    ")"
   ]
  },
  {
   "cell_type": "markdown",
   "id": "ccb93c3e",
   "metadata": {},
   "source": [
    "### Generate ground-truth samples"
   ]
  },
  {
   "cell_type": "code",
   "execution_count": 78,
   "id": "f6bf6e44",
   "metadata": {},
   "outputs": [],
   "source": [
    "N_samples = 2*10**3\n",
    "np.random.seed(42)\n",
    "True_samples = np.random.randn(N_samples,dim)\n",
    "True_samples[:,0] *= a \n",
    "for i in range(1,dim):\n",
    "    True_samples[:,i] *= np.exp(True_samples[:,0]/2) "
   ]
  },
  {
   "cell_type": "code",
   "execution_count": 79,
   "id": "9257162b",
   "metadata": {},
   "outputs": [
    {
     "data": {
      "text/plain": [
       "'\\na = 2.0\\nN_pts = 100\\nxlist = np.linspace(-a, 3*a, 100)\\nylist = np.linspace(-2*a, 3*a, 100)\\nX, Y = np.meshgrid(xlist, ylist)\\npoints = np.zeros((2,X.shape[0],X.shape[1]),dtype=float)\\npoints[0] = X\\npoints[1] = Y\\ndens_vals = np.zeros_like(X)\\nfor i in range(N_pts):\\n    for j in range(N_pts):\\n        dens_vals[i,j] = funnel_dens_2d(points[:,i,j])\\n'"
      ]
     },
     "execution_count": 79,
     "metadata": {},
     "output_type": "execute_result"
    }
   ],
   "source": [
    "\"\"\"\n",
    "a = 2.0\n",
    "N_pts = 100\n",
    "xlist = np.linspace(-a, 3*a, 100)\n",
    "ylist = np.linspace(-2*a, 3*a, 100)\n",
    "X, Y = np.meshgrid(xlist, ylist)\n",
    "points = np.zeros((2,X.shape[0],X.shape[1]),dtype=float)\n",
    "points[0] = X\n",
    "points[1] = Y\n",
    "dens_vals = np.zeros_like(X)\n",
    "for i in range(N_pts):\n",
    "    for j in range(N_pts):\n",
    "        dens_vals[i,j] = funnel_dens_2d(points[:,i,j])\n",
    "\"\"\""
   ]
  },
  {
   "cell_type": "code",
   "execution_count": 80,
   "id": "4f23fb68",
   "metadata": {},
   "outputs": [
    {
     "data": {
      "image/png": "[encoded data removed]",
      "text/plain": [
       "<Figure size 432x288 with 1 Axes>"
      ]
     },
     "metadata": {},
     "output_type": "display_data"
    }
   ],
   "source": [
    "fig,ax=plt.subplots(1,1)\n",
    "#cp = ax.contourf(X, Y, dens_vals)\n",
    "#fig.colorbar(cp) # Add a colorbar to a plot\n",
    "ax.scatter(True_samples[:,0],True_samples[:,1])\n",
    "ax.set_title('Ground truth samples')\n",
    "#ax.set_xlabel('x (cm)')\n",
    "ax.set_ylabel('y (cm)')\n",
    "plt.show()"
   ]
  },
  {
   "cell_type": "markdown",
   "id": "2d7c4763",
   "metadata": {},
   "source": [
    "### Sample with NUTS"
   ]
  },
  {
   "cell_type": "code",
   "execution_count": 81,
   "id": "b663fb4b",
   "metadata": {},
   "outputs": [],
   "source": [
    "#samples to compute ground-truth metrics\n",
    "Nuts_samples_ground_truth = 2000\n",
    "#Nuts_samples_comparison\n",
    "trunc_chain_len = 1000\n",
    "#nuts samples burn_in\n",
    "nuts_burn_in = 500\n",
    "#nuts batch size\n",
    "nuts_batch = 1"
   ]
  },
  {
   "cell_type": "markdown",
   "id": "1f5f78d4",
   "metadata": {},
   "source": [
    "### Generate ground-truth samples (with NUTS)"
   ]
  },
  {
   "cell_type": "code",
   "execution_count": 82,
   "id": "d789c9e9",
   "metadata": {},
   "outputs": [],
   "source": [
    "#samples_true = sample_nuts(\n",
    "#                target,\n",
    "#                proposal,\n",
    "#                num_samples=Nuts_samples_ground_truth,#config.trunc_chain_len,\n",
    "#                batch_size=nuts_batch, #config.batch_size\n",
    "#)[:, 0, :]\n",
    "#print(samples_true.shape)"
   ]
  },
  {
   "cell_type": "code",
   "execution_count": 83,
   "id": "bc757f25",
   "metadata": {},
   "outputs": [
    {
     "name": "stdout",
     "output_type": "stream",
     "text": [
      "torch.Size([1, 10])\n"
     ]
    },
    {
     "name": "stderr",
     "output_type": "stream",
     "text": [
      "Sample: 100%|█| 1500/1500 [00:01, 845.34it/s, step size=7.53e-01, acc. prob=0.87"
     ]
    },
    {
     "name": "stdout",
     "output_type": "stream",
     "text": [
      "(1000, 1, 10)\n"
     ]
    },
    {
     "name": "stderr",
     "output_type": "stream",
     "text": [
      "\n"
     ]
    }
   ],
   "source": [
    "sample_nuts_ref = sample_nuts(\n",
    "                target,\n",
    "                proposal,\n",
    "                num_samples=trunc_chain_len,\n",
    "                batch_size=nuts_batch,\n",
    "                burn_in=nuts_burn_in,\n",
    ")\n",
    "print(sample_nuts_ref.shape)"
   ]
  },
  {
   "cell_type": "code",
   "execution_count": 84,
   "id": "c25210ad",
   "metadata": {},
   "outputs": [
    {
     "data": {
      "image/png": "[encoded data removed]",
      "text/plain": [
       "<Figure size 432x288 with 1 Axes>"
      ]
     },
     "metadata": {},
     "output_type": "display_data"
    }
   ],
   "source": [
    "fig,ax=plt.subplots(1,1)\n",
    "ax.scatter(sample_nuts_ref[:,0,0],sample_nuts_ref[:,0,1])\n",
    "ax.set_title('NUTS samples')\n",
    "#ax.set_xlabel('x (cm)')\n",
    "ax.set_ylabel('y (cm)')\n",
    "plt.show()"
   ]
  },
  {
   "cell_type": "code",
   "execution_count": 85,
   "id": "6147e47f",
   "metadata": {},
   "outputs": [
    {
     "data": {
      "application/vnd.jupyter.widget-view+json": {
       "model_id": "",
       "version_major": 2,
       "version_minor": 0
      },
      "text/plain": [
       "  0%|          | 0/15 [00:00<?, ?it/s]"
      ]
     },
     "metadata": {},
     "output_type": "display_data"
    },
    {
     "name": "stdout",
     "output_type": "stream",
     "text": [
      "====NUTS====\n",
      "TV distance. Mean: 0.189, Std: 0.038. \n",
      "ESS: 0.374 \n",
      "EMD: 49.257\n"
     ]
    }
   ],
   "source": [
    "metrics = compute_metrics(\n",
    "                    True_samples,\n",
    "                    sample_nuts_ref,\n",
    "                    name=\"NUTS\",\n",
    "                    trunc_chain_len=trunc_chain_len,\n",
    "                    ess_rar=1,\n",
    ")"
   ]
  },
  {
   "cell_type": "markdown",
   "id": "d4c58b7c",
   "metadata": {},
   "source": [
    "### Sample with Ex2MCMC"
   ]
  },
  {
   "cell_type": "code",
   "execution_count": 132,
   "id": "a6e1a1b7",
   "metadata": {},
   "outputs": [],
   "source": [
    "params = {\n",
    "      \"N\": 1,\n",
    "      \"grad_step\": 0.2,\n",
    "      \"adapt_stepsize\": False, #True\n",
    "      \"corr_coef\": 0.0,\n",
    "      \"bernoulli_prob_corr\": 0.0, #0.75\n",
    "      \"mala_steps\": 5\n",
    "}\n",
    "        \n",
    "n_steps_ex2 = 1000\n",
    "batch_size = 1"
   ]
  },
  {
   "cell_type": "code",
   "execution_count": 133,
   "id": "68680fc4",
   "metadata": {},
   "outputs": [
    {
     "name": "stderr",
     "output_type": "stream",
     "text": [
      "100%|██████████████████████████████████████| 1000/1000 [00:01<00:00, 597.59it/s]"
     ]
    },
    {
     "name": "stdout",
     "output_type": "stream",
     "text": [
      "tensor([0.9216])\n",
      "(1000, 10)\n"
     ]
    },
    {
     "name": "stderr",
     "output_type": "stream",
     "text": [
      "\n"
     ]
    }
   ],
   "source": [
    "mcmc = Ex2MCMC(**params, dim=dim)\n",
    "pyro.set_rng_seed(42)\n",
    "start = proposal.sample((batch_size,))\n",
    "# s = time.time()\n",
    "out = mcmc(start, target, proposal, n_steps = n_steps_ex2)\n",
    "print(out[1])\n",
    "if isinstance(out, tuple):\n",
    "    sample = out[0]\n",
    "else:\n",
    "    sample = out\n",
    "sample = np.array(\n",
    "    [_.detach().numpy() for _ in sample],\n",
    ").reshape(-1, batch_size, dim)\n",
    "sample_ex2_final = sample[:,0,:]\n",
    "print(sample_ex2_final.shape)"
   ]
  },
  {
   "cell_type": "code",
   "execution_count": 134,
   "id": "0b327d4b",
   "metadata": {},
   "outputs": [
    {
     "data": {
      "image/png": "[encoded data removed]",
      "text/plain": [
       "<Figure size 432x288 with 1 Axes>"
      ]
     },
     "metadata": {},
     "output_type": "display_data"
    }
   ],
   "source": [
    "fig,ax=plt.subplots(1,1)\n",
    "ax.scatter(sample_ex2_final[:,0],sample_ex2_final[:,1])\n",
    "ax.set_title('Ex2 samples')\n",
    "#ax.set_xlabel('x (cm)')\n",
    "ax.set_ylabel('y (cm)')\n",
    "plt.show()"
   ]
  },
  {
   "cell_type": "code",
   "execution_count": 135,
   "id": "457bef8f",
   "metadata": {},
   "outputs": [
    {
     "data": {
      "application/vnd.jupyter.widget-view+json": {
       "model_id": "",
       "version_major": 2,
       "version_minor": 0
      },
      "text/plain": [
       "  0%|          | 0/15 [00:00<?, ?it/s]"
      ]
     },
     "metadata": {},
     "output_type": "display_data"
    },
    {
     "name": "stdout",
     "output_type": "stream",
     "text": [
      "====Ex2MCMC====\n",
      "TV distance. Mean: 0.195, Std: 0.045. \n",
      "ESS: 0.312 \n",
      "EMD: 48.976\n"
     ]
    }
   ],
   "source": [
    "metrics = compute_metrics(\n",
    "                    True_samples,\n",
    "                    sample,\n",
    "                    name=\"Ex2MCMC\",\n",
    "                    trunc_chain_len=trunc_chain_len,\n",
    "                    ess_rar=1,\n",
    ")"
   ]
  },
  {
   "cell_type": "markdown",
   "id": "0023c116",
   "metadata": {},
   "source": [
    "### Sample with Flex2MCMC (adaptive version)"
   ]
  },
  {
   "cell_type": "code",
   "execution_count": 136,
   "id": "33583bca",
   "metadata": {},
   "outputs": [],
   "source": [
    "params_flex = {\n",
    "      \"N\": 20,\n",
    "      \"grad_step\": 0.2,\n",
    "      \"adapt_stepsize\": False,\n",
    "      \"corr_coef\": 0.0,\n",
    "      \"bernoulli_prob_corr\": 0.0,\n",
    "      \"mala_steps\": 0,\n",
    "    \"flow\": {\n",
    "      \"num_flows\": 3, # number of normalizing layers \n",
    "      \"lr\": 1e-3, # learning rate \n",
    "      \"batch_size\": 100,\n",
    "      \"n_steps\": 1000,\n",
    "    }\n",
    "}"
   ]
  },
  {
   "cell_type": "code",
   "execution_count": 137,
   "id": "6d5d2d67",
   "metadata": {},
   "outputs": [
    {
     "name": "stderr",
     "output_type": "stream",
     "text": [
      "100%|███████████████████████████████████████| 1000/1000 [00:12<00:00, 81.92it/s]\n"
     ]
    }
   ],
   "source": [
    "pyro.set_rng_seed(42)\n",
    "mcmc = Ex2MCMC(**params_flex, dim=dim)\n",
    "verbose = mcmc.verbose\n",
    "mcmc.verbose = False\n",
    "flow = RNVP(params_flex[\"flow\"][\"num_flows\"], dim=dim)\n",
    "flow_mcmc = FlowMCMC(\n",
    "    target,\n",
    "    proposal,\n",
    "    flow,\n",
    "    mcmc,\n",
    "    batch_size=params_flex[\"flow\"][\"batch_size\"],\n",
    "    lr=params_flex[\"flow\"][\"lr\"],\n",
    ")\n",
    "flow.train()\n",
    "out_samples, nll = flow_mcmc.train(\n",
    "    n_steps=params_flex[\"flow\"][\"n_steps\"],\n",
    ")\n",
    "assert not torch.isnan(\n",
    "    next(flow.parameters())[0, 0],\n",
    ").item()\n",
    "\n",
    "flow.eval()\n",
    "mcmc.flow = flow\n",
    "mcmc.verbose = verbose"
   ]
  },
  {
   "cell_type": "code",
   "execution_count": 138,
   "id": "2ed41a89",
   "metadata": {},
   "outputs": [
    {
     "name": "stdout",
     "output_type": "stream",
     "text": [
      "[17.125240325927734, 15.581430435180664, 15.35763168334961, 14.913264274597168, 14.844963073730469, 14.794836044311523, 14.571760177612305, 14.54067611694336, 14.322901725769043, 14.403083801269531, 14.562422752380371, 14.4896821975708, 14.167149543762207, 14.24804401397705, 14.32513427734375, 14.458484649658203, 14.664759635925293, 14.469200134277344, 14.405077934265137, 14.318848609924316, 14.638646125793457, 14.353560447692871, 14.207006454467773, 14.098204612731934, 14.443650245666504, 14.101104736328125, 14.27823257446289, 14.03512954711914, 14.094067573547363, 14.035270690917969, 14.628927230834961, 14.526202201843262, 14.482708930969238, 14.195717811584473, 14.478649139404297, 14.29306411743164, 14.08102798461914, 14.35363483428955, 14.35470199584961, 13.960319519042969, 14.316607475280762, 14.292071342468262, 13.968520164489746, 14.28332805633545, 14.227355003356934, 14.188464164733887, 13.912846565246582, 14.255404472351074, 14.121971130371094, 14.187960624694824, 14.081336975097656, 14.152604103088379, 14.249661445617676, 14.386139869689941, 14.198134422302246, 14.544394493103027, 14.3157958984375, 14.104035377502441, 14.102644920349121, 14.106927871704102, 13.734339714050293, 14.10930061340332, 13.849743843078613, 14.095503807067871, 14.061327934265137, 14.13543701171875, 14.416197776794434, 14.042708396911621, 14.025254249572754, 14.477490425109863, 14.209490776062012, 13.84337043762207, 13.947754859924316, 14.229033470153809, 14.533787727355957, 13.99928092956543, 14.461402893066406, 14.374103546142578, 14.677268028259277, 14.145294189453125, 14.129735946655273, 14.559477806091309, 14.889272689819336, 14.806365966796875, 14.105927467346191, 14.058830261230469, 13.726337432861328, 14.116236686706543, 14.118907928466797, 14.083660125732422, 13.88575553894043, 13.96246337890625, 14.346722602844238, 14.163217544555664, 14.373373031616211, 14.053692817687988, 14.134235382080078, 13.947809219360352, 14.006752967834473, 13.942304611206055, 14.018864631652832, 14.171215057373047, 14.27518081665039, 13.760113716125488, 13.617132186889648, 13.619915962219238, 14.23801040649414, 14.257306098937988, 14.237107276916504, 14.213900566101074, 14.47973346710205, 13.975320816040039, 14.228094100952148, 14.480365753173828, 14.253591537475586, 14.112504959106445, 14.09557819366455, 14.564589500427246, 14.597786903381348, 14.079188346862793, 14.049612998962402, 14.272541046142578, 14.407461166381836, 14.319546699523926, 14.806735038757324, 14.350772857666016, 14.008658409118652, 14.11050796508789, 14.000292778015137, 13.921263694763184, 14.193841934204102, 14.213174819946289, 14.254134178161621, 13.974769592285156, 14.09360122680664, 13.889307975769043, 14.320708274841309, 14.45626449584961, 14.410920143127441, 13.951607704162598, 14.2459716796875, 14.327340126037598, 14.39160442352295, 13.871186256408691, 14.361968040466309, 14.318934440612793, 14.054282188415527, 14.366074562072754, 13.98699951171875, 14.451277732849121, 13.718073844909668, 14.44235610961914, 14.023249626159668, 13.824311256408691, 14.364908218383789, 13.928792953491211, 14.3704252243042, 13.950852394104004, 14.312395095825195, 13.74361801147461, 14.338294982910156, 14.114289283752441, 14.401174545288086, 14.13183307647705, 13.988434791564941, 14.126521110534668, 14.466052055358887, 14.543807029724121, 14.015131950378418, 13.862771987915039, 14.021087646484375, 13.953044891357422, 13.965519905090332, 13.8309965133667, 13.965068817138672, 13.97729206085205, 13.934720039367676, 14.396637916564941, 14.173179626464844, 14.293183326721191, 13.786321640014648, 14.530834197998047, 14.661052703857422, 13.917322158813477, 14.480371475219727, 13.726122856140137, 14.176732063293457, 14.041173934936523, 14.009988784790039, 14.088617324829102, 13.777751922607422, 14.655957221984863, 14.212441444396973, 13.98721694946289, 14.21225357055664, 14.015514373779297, 14.461152076721191, 14.212959289550781, 14.0047607421875, 13.969698905944824, 13.997489929199219, 14.003144264221191, 14.524004936218262, 13.938429832458496, 14.344196319580078, 14.095911026000977, 14.548486709594727, 14.008981704711914, 14.287858963012695, 14.202098846435547, 14.327339172363281, 14.243247032165527, 14.280671119689941, 13.820110321044922, 14.297100067138672, 14.298803329467773, 14.081317901611328, 14.062668800354004, 14.313079833984375, 13.944620132446289, 14.369243621826172, 14.460555076599121, 14.463403701782227, 14.395600318908691, 14.391757011413574, 14.241837501525879, 14.159078598022461, 13.90510368347168, 14.105339050292969, 14.061995506286621, 14.293901443481445, 14.001712799072266, 14.447498321533203, 14.064774513244629, 14.279943466186523, 14.27844524383545, 14.10300064086914, 13.93090534210205, 13.949150085449219, 13.723615646362305, 13.897591590881348, 13.843194961547852, 14.031484603881836, 14.268841743469238, 14.218439102172852, 14.150737762451172, 14.173083305358887, 14.365209579467773, 14.918647766113281, 14.154450416564941, 13.922998428344727, 14.14732551574707, 14.345948219299316, 14.213034629821777, 14.33597183227539, 14.26423454284668, 14.300431251525879, 14.218696594238281, 14.503412246704102, 14.393284797668457, 14.50677490234375, 14.104696273803711, 14.186689376831055, 14.457657814025879, 14.122575759887695, 14.291975975036621, 13.795356750488281, 13.6908540725708, 14.112004280090332, 13.981541633605957, 14.232488632202148, 14.504709243774414, 14.123980522155762, 14.173484802246094, 14.368603706359863, 14.1426420211792, 13.880939483642578, 14.080453872680664, 13.9871244430542, 14.116351127624512, 14.136916160583496, 14.057831764221191, 14.217276573181152, 14.350101470947266, 14.494668006896973, 14.110810279846191, 14.405828475952148, 14.128044128417969, 14.356586456298828, 14.617759704589844, 14.425398826599121, 13.855420112609863, 14.200282096862793, 13.735151290893555, 14.276230812072754, 14.301334381103516, 13.944418907165527, 13.927830696105957, 14.243823051452637, 13.991987228393555, 14.050057411193848, 14.42675495147705, 14.185254096984863, 14.851329803466797, 14.442449569702148, 14.385974884033203, 14.156303405761719, 14.092426300048828, 14.067034721374512, 14.078975677490234, 14.161394119262695, 14.537549018859863, 13.946493148803711, 13.753094673156738, 13.927864074707031, 14.256725311279297, 14.436304092407227, 14.089832305908203, 14.16723346710205, 14.17538833618164, 13.983803749084473, 14.150677680969238, 14.045578956604004, 14.304723739624023, 14.324345588684082, 14.044559478759766, 14.168988227844238, 14.3405122756958, 14.333961486816406, 14.252951622009277, 13.922574043273926, 14.037288665771484, 13.973662376403809, 14.04511833190918, 14.340959548950195, 14.598590850830078, 14.125954627990723, 14.215961456298828, 14.053274154663086, 13.845385551452637, 14.293490409851074, 14.302713394165039, 13.925890922546387, 13.955301284790039, 14.275199890136719, 14.047524452209473, 14.190038681030273, 13.836008071899414, 14.282719612121582, 14.870179176330566, 14.482280731201172, 14.414636611938477, 14.099769592285156, 14.386496543884277, 14.306126594543457, 13.922872543334961, 14.247536659240723, 14.256250381469727, 14.063668251037598, 14.482165336608887, 13.785072326660156, 14.374275207519531, 14.277714729309082, 14.181772232055664, 14.190476417541504, 14.455899238586426, 14.318756103515625, 14.4331636428833, 13.997333526611328, 13.874770164489746, 14.2095365524292, 14.479758262634277, 13.856749534606934, 13.7855806350708, 14.296778678894043, 14.100320816040039, 14.103982925415039, 14.497014045715332, 13.941441535949707, 14.186156272888184, 13.660932540893555, 14.302596092224121, 14.086006164550781, 14.154367446899414, 13.842981338500977, 14.536572456359863, 14.30314826965332, 14.32465934753418, 14.228494644165039, 14.373815536499023, 14.16661262512207, 14.088894844055176, 13.871245384216309, 14.373099327087402, 14.003859519958496, 14.551828384399414, 14.184121131896973, 14.103667259216309, 14.05197525024414, 14.365335464477539, 13.978856086730957, 14.234491348266602, 14.067910194396973, 14.034191131591797, 13.950861930847168, 13.780869483947754, 14.352046966552734, 14.043173789978027, 14.370818138122559, 14.29953384399414, 14.268972396850586, 14.377885818481445, 13.993727684020996, 14.064314842224121, 13.952239036560059, 14.272988319396973, 14.306680679321289, 14.310022354125977, 14.22861099243164, 13.844341278076172, 14.068675994873047, 14.312211036682129, 14.058510780334473, 14.263507843017578, 14.419317245483398, 13.848737716674805, 14.094731330871582, 13.987621307373047, 14.088212966918945, 13.925765037536621, 14.078510284423828, 14.083056449890137, 14.455760955810547, 14.082515716552734, 14.289848327636719, 14.120230674743652, 14.685922622680664, 14.131305694580078, 14.1326322555542, 14.151802062988281, 14.320588111877441, 14.455135345458984, 14.833102226257324, 14.308393478393555, 14.047040939331055, 13.891946792602539, 13.849433898925781, 14.679539680480957, 14.169254302978516, 14.336203575134277, 14.464293479919434, 14.059377670288086, 14.25365924835205, 14.420052528381348, 13.918099403381348, 14.185622215270996, 14.388039588928223, 14.547757148742676, 14.351828575134277, 14.153850555419922, 13.892419815063477, 13.978253364562988, 14.368905067443848, 14.460029602050781, 14.035030364990234, 14.727117538452148, 14.176017761230469, 14.19933795928955, 14.239461898803711, 14.012181282043457, 14.36618423461914, 14.300422668457031, 14.118146896362305, 14.178498268127441, 14.484614372253418, 14.018847465515137, 13.876850128173828, 14.359641075134277, 14.624154090881348, 14.349595069885254, 14.166269302368164, 13.93083381652832, 14.426730155944824, 13.823744773864746, 14.530190467834473, 14.002758979797363, 13.923179626464844, 13.856427192687988, 14.101520538330078, 14.107394218444824, 14.216082572937012, 14.298320770263672, 14.069729804992676, 13.97732925415039, 14.322243690490723, 14.206748008728027, 13.916108131408691, 13.981091499328613, 14.246683120727539, 14.205440521240234, 14.096260070800781, 14.088388442993164, 14.454241752624512, 13.917166709899902, 13.937204360961914, 14.292384147644043, 14.318410873413086, 14.181523323059082, 14.189692497253418, 14.302132606506348, 14.29130744934082, 13.881326675415039, 14.23251724243164, 13.817340850830078, 14.179581642150879, 14.070076942443848, 14.033899307250977, 14.439927101135254, 14.148316383361816, 14.057168006896973, 14.133820533752441, 14.564867973327637, 14.093799591064453, 13.974189758300781, 13.957649230957031, 14.370844841003418, 14.377328872680664, 13.909006118774414, 14.151379585266113, 13.967002868652344, 13.79153060913086, 14.107102394104004, 14.295848846435547, 14.4312105178833, 13.73705768585205, 13.877982139587402, 13.82905387878418, 14.234375, 14.26159954071045, 14.031272888183594, 14.116998672485352, 14.030495643615723, 14.457148551940918, 14.066339492797852, 14.164375305175781, 14.220190048217773, 14.283393859863281, 14.1892671585083, 14.139410018920898, 13.94582748413086, 14.289691925048828, 14.090492248535156, 14.173559188842773, 14.516956329345703, 14.313913345336914, 14.038801193237305, 14.211901664733887, 14.555865287780762, 14.05296516418457, 14.157588005065918, 13.946436882019043, 13.898926734924316, 14.321776390075684, 14.378179550170898, 13.982525825500488, 14.443631172180176, 14.587458610534668, 14.11968994140625, 14.400822639465332, 14.237107276916504, 14.244297981262207, 14.428293228149414, 13.991006851196289, 14.377198219299316, 13.996367454528809, 14.139435768127441, 14.040976524353027, 14.084580421447754, 14.456502914428711, 14.62906265258789, 14.502253532409668, 14.183767318725586, 14.24560260772705, 14.121391296386719, 13.946344375610352, 14.317586898803711, 14.349722862243652, 13.834035873413086, 13.548962593078613, 14.001666069030762, 13.963849067687988, 14.188454627990723, 13.79597282409668, 14.430741310119629, 14.031364440917969, 14.327471733093262, 14.041823387145996, 14.39462661743164, 14.31235122680664, 14.005539894104004, 14.176898956298828, 13.959267616271973, 14.309165000915527, 13.889758110046387, 13.879266738891602, 14.034809112548828, 14.697811126708984, 14.360461235046387, 14.019484519958496, 14.0851469039917, 14.335392951965332, 14.56739616394043, 13.889649391174316, 14.31552505493164, 13.90432357788086, 14.136261940002441, 13.981664657592773, 14.230596542358398, 14.144194602966309, 14.19430923461914, 13.984972953796387, 13.90466594696045, 14.178428649902344, 14.453944206237793, 14.369956970214844, 14.241567611694336, 14.008771896362305, 14.180643081665039, 14.276161193847656, 14.178350448608398, 14.406335830688477, 13.901763916015625, 13.999689102172852, 13.83294677734375, 14.134479522705078, 14.50949478149414, 14.441181182861328, 14.129676818847656, 14.342035293579102, 13.945764541625977, 13.931513786315918, 14.043903350830078, 14.230179786682129, 14.193594932556152, 13.842828750610352, 14.231103897094727, 14.472343444824219, 14.008687973022461, 14.268465995788574, 14.122651100158691, 14.183009147644043, 14.021345138549805, 14.451621055603027, 13.713451385498047, 14.040497779846191, 14.108940124511719, 14.268078804016113, 14.154480934143066, 14.807391166687012, 14.331852912902832, 14.744524955749512, 13.877559661865234, 14.103014945983887, 14.016911506652832, 14.352147102355957, 14.544807434082031, 14.290616035461426, 14.146739959716797, 14.044770240783691, 13.977910995483398, 14.157415390014648, 14.280592918395996, 14.129254341125488, 14.042867660522461, 14.410919189453125, 14.4446382522583, 14.345788955688477, 14.069169998168945, 14.192015647888184, 14.326912879943848, 14.202315330505371, 14.257110595703125, 14.292449951171875, 14.251538276672363, 14.439589500427246, 13.815757751464844, 14.340673446655273, 14.228816032409668, 14.2848539352417, 14.11291790008545, 13.965827941894531, 14.159198760986328, 14.617086410522461, 14.211084365844727, 14.147199630737305, 14.293020248413086, 14.336045265197754, 14.268058776855469, 14.02195930480957, 13.680804252624512, 13.996245384216309, 13.857649803161621, 14.824199676513672, 14.513562202453613, 13.807587623596191, 14.497105598449707, 14.208690643310547, 14.220431327819824, 14.247034072875977, 14.027997970581055, 14.180986404418945, 14.173083305358887, 14.065539360046387, 14.17149543762207, 14.17037582397461, 14.23852825164795, 13.786859512329102, 14.439072608947754, 14.145001411437988, 14.281028747558594, 14.485164642333984, 14.551918029785156, 14.167208671569824, 14.239496231079102, 14.024087905883789, 14.300437927246094, 14.141282081604004, 14.626609802246094, 14.34419059753418, 14.344213485717773, 13.831354141235352, 14.558246612548828, 14.235037803649902, 14.2984619140625, 13.963689804077148, 14.234685897827148, 14.121272087097168, 14.451571464538574, 14.057538986206055, 14.034160614013672, 14.448070526123047, 14.022241592407227, 14.115113258361816, 14.371025085449219, 14.21590805053711, 14.353368759155273, 14.04065227508545, 14.285547256469727, 13.99535846710205, 13.782428741455078, 14.4329833984375, 14.154335021972656, 14.199100494384766, 14.285837173461914, 13.822669982910156, 14.21186637878418, 14.304679870605469, 14.229547500610352, 14.521824836730957, 14.071215629577637, 13.726016998291016, 14.31147575378418, 13.88403606414795, 14.052851676940918, 14.162049293518066, 14.09762954711914, 14.693526268005371, 14.15188980102539, 14.178696632385254, 14.357783317565918, 14.105507850646973, 14.138287544250488, 14.308838844299316, 14.437967300415039, 14.05180549621582, 14.215579986572266, 14.467236518859863, 14.190940856933594, 14.186051368713379, 13.841628074645996, 14.322595596313477, 14.188719749450684, 13.91604232788086, 14.050710678100586, 14.018869400024414, 14.247369766235352, 14.028364181518555, 14.341609001159668, 14.188027381896973, 14.461636543273926, 14.313570976257324, 14.011859893798828, 14.0767240524292, 14.0015230178833, 14.223993301391602, 14.4694185256958, 14.441686630249023, 14.27563762664795, 14.16702651977539, 14.036638259887695, 14.077400207519531, 14.283477783203125, 14.1403169631958, 14.005001068115234, 14.037553787231445, 13.94937515258789, 13.877385139465332, 13.840616226196289, 14.122410774230957, 14.560995101928711, 13.989052772521973, 13.994479179382324, 13.976633071899414, 13.750102996826172, 14.360377311706543, 13.951617240905762, 13.930795669555664, 13.742483139038086, 14.155198097229004, 14.0088472366333, 14.194779396057129, 14.629382133483887, 14.169170379638672, 14.20273208618164, 14.256094932556152, 14.071761131286621, 14.159375190734863, 14.302602767944336, 14.16246223449707, 14.113306999206543, 13.987959861755371, 14.071808815002441, 13.910262107849121, 14.132939338684082, 14.317519187927246, 14.078849792480469, 13.8272066116333, 14.255692481994629, 14.01199722290039, 13.94638442993164, 14.393976211547852, 13.980528831481934, 13.987234115600586, 14.452949523925781, 14.259247779846191, 13.762519836425781, 14.438586235046387, 14.01806926727295, 13.796939849853516, 14.31142807006836, 13.910588264465332, 14.463081359863281, 13.95013427734375, 14.075031280517578, 14.737260818481445, 14.347625732421875, 14.026789665222168, 14.120859146118164, 14.407951354980469, 13.909480094909668, 14.311095237731934, 13.786567687988281, 14.141695976257324, 14.254185676574707, 13.946320533752441, 14.02200698852539, 14.17955207824707, 13.735377311706543, 14.012866020202637, 14.283090591430664, 14.318107604980469, 14.228846549987793, 14.598917007446289, 14.209272384643555, 14.33200454711914, 14.787705421447754, 14.294075965881348, 13.631948471069336, 14.161455154418945, 14.13833999633789, 13.998944282531738, 14.423566818237305, 13.825949668884277, 14.1682767868042, 14.316936492919922, 13.941637992858887, 14.617478370666504, 13.8987455368042, 14.400982856750488, 13.957877159118652, 13.876197814941406, 14.565155029296875, 14.663531303405762, 14.001220703125, 14.179142951965332, 14.383493423461914, 14.03885269165039, 14.401537895202637, 14.047013282775879, 13.909689903259277, 14.394923210144043, 14.236589431762695, 14.12331771850586, 14.257698059082031, 14.323685646057129, 13.876093864440918, 14.183712005615234, 13.960755348205566, 14.26138687133789, 14.136837005615234, 14.337618827819824, 14.19748306274414, 14.24669075012207, 13.89065933227539, 14.182446479797363, 14.052343368530273, 13.964550018310547, 13.908112525939941, 14.566811561584473, 14.199825286865234, 14.328437805175781, 14.114810943603516, 14.208296775817871, 14.067797660827637, 14.068324089050293, 14.3507719039917, 14.331459999084473, 14.204181671142578, 14.000649452209473, 14.003985404968262, 14.104483604431152, 13.95520305633545, 14.260318756103516, 14.248485565185547, 13.901108741760254, 14.465214729309082, 14.245645523071289, 14.516740798950195, 14.164623260498047, 14.188337326049805, 14.182639122009277, 14.14630126953125, 14.235960960388184, 14.697081565856934, 14.235576629638672, 13.92334270477295, 14.324538230895996, 14.527950286865234, 14.207210540771484, 14.401905059814453, 13.958413124084473, 14.200725555419922, 14.176480293273926, 13.998839378356934, 14.215350151062012, 13.821383476257324, 14.211918830871582, 13.931055068969727, 14.398656845092773, 14.145639419555664, 14.5250883102417, 14.379926681518555, 14.187451362609863, 13.72665023803711, 14.5477876663208, 14.271862983703613, 14.220074653625488, 14.325211524963379, 14.397077560424805, 14.231515884399414, 14.51391887664795, 14.000126838684082, 14.360045433044434, 14.016504287719727, 14.437138557434082, 14.217962265014648, 13.925110816955566, 13.993904113769531, 14.00527572631836, 13.993309020996094, 13.775550842285156, 14.0413818359375, 14.050226211547852, 14.268306732177734, 14.081496238708496, 14.146501541137695, 14.379201889038086, 13.965031623840332, 14.12049674987793, 14.085613250732422, 13.842926025390625, 14.305569648742676, 14.275463104248047, 14.081912994384766, 14.338815689086914, 14.379901885986328, 13.819772720336914, 14.327601432800293, 14.240198135375977, 13.897072792053223]\n"
     ]
    }
   ],
   "source": [
    "print(nll)"
   ]
  },
  {
   "cell_type": "code",
   "execution_count": 142,
   "id": "0952eff0",
   "metadata": {},
   "outputs": [
    {
     "name": "stderr",
     "output_type": "stream",
     "text": [
      "100%|██████████████████████████████████████| 1000/1000 [00:01<00:00, 984.97it/s]\n",
      "100%|██████████████████████████████████████| 1000/1000 [00:02<00:00, 400.94it/s]"
     ]
    },
    {
     "name": "stdout",
     "output_type": "stream",
     "text": [
      "(1000, 1, 10)\n"
     ]
    },
    {
     "name": "stderr",
     "output_type": "stream",
     "text": [
      "\n"
     ]
    }
   ],
   "source": [
    "#sample from a normalizing flow\n",
    "n_steps_flex2 = 1000\n",
    "pyro.set_rng_seed(42)\n",
    "start = proposal.sample((batch_size,))\n",
    "mcmc.N = 10\n",
    "mcmc.mala_steps = 0\n",
    "mcmc.grad_step = 0.1\n",
    "# s = time.time()\n",
    "out = mcmc(start, target, proposal, n_steps = n_steps_flex2)\n",
    "if isinstance(out, tuple):\n",
    "    sample = out[0]\n",
    "else:\n",
    "    sample = out\n",
    "sample = np.array(\n",
    "    [_.detach().numpy() for _ in sample],\n",
    ").reshape(-1, batch_size, dim)\n",
    "sample_flex2_new = sample\n",
    "#resample with 0 mala steps\n",
    "mcmc.mala_steps = 5\n",
    "out_new = mcmc(start, target, proposal, n_steps = n_steps_flex2)[0]\n",
    "out_new = np.array(\n",
    "    [_.detach().numpy() for _ in out_new],\n",
    ").reshape(-1, batch_size, dim)\n",
    "sample_flex2_final = out_new\n",
    "print(sample_flex2_final.shape)"
   ]
  },
  {
   "cell_type": "code",
   "execution_count": 143,
   "id": "18619667",
   "metadata": {},
   "outputs": [
    {
     "data": {
      "image/png": "[encoded data removed]",
      "text/plain": [
       "<Figure size 432x288 with 1 Axes>"
      ]
     },
     "metadata": {},
     "output_type": "display_data"
    }
   ],
   "source": [
    "fig,ax=plt.subplots(1,1)\n",
    "ax.scatter(sample_flex2_final[:,0,0],sample_flex2_final[:,0,5])\n",
    "ax.set_title('Flex2 samples')\n",
    "#ax.set_xlabel('x (cm)')\n",
    "ax.set_ylabel('y (cm)')\n",
    "#ax.set_yscale('log')\n",
    "plt.show()"
   ]
  },
  {
   "cell_type": "code",
   "execution_count": 144,
   "id": "c4770bf8",
   "metadata": {},
   "outputs": [
    {
     "data": {
      "image/png": "[encoded data removed]",
      "text/plain": [
       "<Figure size 432x288 with 1 Axes>"
      ]
     },
     "metadata": {},
     "output_type": "display_data"
    }
   ],
   "source": [
    "fig,ax=plt.subplots(1,1)\n",
    "ax.scatter(sample_flex2_new[:,0,0],sample_flex2_new[:,0,1])\n",
    "ax.set_title('Flex2 samples')\n",
    "#ax.set_xlabel('x (cm)')\n",
    "ax.set_ylabel('y (cm)')\n",
    "#ax.set_yscale('log')\n",
    "plt.show()"
   ]
  },
  {
   "cell_type": "code",
   "execution_count": 97,
   "id": "e4f33400",
   "metadata": {},
   "outputs": [
    {
     "data": {
      "application/vnd.jupyter.widget-view+json": {
       "model_id": "",
       "version_major": 2,
       "version_minor": 0
      },
      "text/plain": [
       "  0%|          | 0/15 [00:00<?, ?it/s]"
      ]
     },
     "metadata": {},
     "output_type": "display_data"
    },
    {
     "name": "stdout",
     "output_type": "stream",
     "text": [
      "====Flex2====\n",
      "TV distance. Mean: 0.193, Std: 0.040. \n",
      "ESS: 0.523 \n",
      "EMD: 49.232\n"
     ]
    }
   ],
   "source": [
    "metrics = compute_metrics(\n",
    "                    True_samples,\n",
    "                    sample_flex2_final,\n",
    "                    name=\"Flex2\",\n",
    "                    trunc_chain_len=trunc_chain_len,\n",
    "                    ess_rar=1,\n",
    ")"
   ]
  },
  {
   "cell_type": "code",
   "execution_count": 98,
   "id": "dd29d184",
   "metadata": {},
   "outputs": [
    {
     "data": {
      "application/vnd.jupyter.widget-view+json": {
       "model_id": "",
       "version_major": 2,
       "version_minor": 0
      },
      "text/plain": [
       "  0%|          | 0/15 [00:00<?, ?it/s]"
      ]
     },
     "metadata": {},
     "output_type": "display_data"
    },
    {
     "name": "stdout",
     "output_type": "stream",
     "text": [
      "====Flex2====\n",
      "TV distance. Mean: 0.194, Std: 0.036. \n",
      "ESS: 0.474 \n",
      "EMD: 49.147\n"
     ]
    }
   ],
   "source": [
    "metrics = compute_metrics(\n",
    "                    True_samples,\n",
    "                    sample_flex2_new,\n",
    "                    name=\"Flex2\",\n",
    "                    trunc_chain_len=trunc_chain_len,\n",
    "                    ess_rar=1,\n",
    ")"
   ]
  },
  {
   "cell_type": "code",
   "execution_count": null,
   "id": "341648eb",
   "metadata": {},
   "outputs": [],
   "source": [
    "print(np.sum(True_samples[:,0] < -2))\n",
    "print(np.sum(sample_nuts_ref[:,0,0] < -2))\n",
    "print(np.sum(sample_flex2_final[:,0,0] < -2))"
   ]
  },
  {
   "cell_type": "code",
   "execution_count": null,
   "id": "b0b7c146",
   "metadata": {},
   "outputs": [],
   "source": [
    "fig,ax=plt.subplots(1,2,figsize=(12,4))\n",
    "ax[0].scatter(True_samples[:,0],True_samples[:,1],c='#ff7f0e',label = \"True samples\")\n",
    "ax[0].scatter(sample_flex2_final[:,0,0],sample_flex2_final[:,0,1],c='#1f77b4',label = \"Flex$^2$MCMC, 5 MALA steps\")\n",
    "#ax.scatter(sample_ex2_final[:,0],sample_ex2_final[:,1],c='#ff7f0e',label = \"Ex2 samples\")\n",
    "#ax[0].set_title('All samples')\n",
    "ax[0].set_xlabel('x_1')\n",
    "ax[0].set_ylabel('x_2')\n",
    "ax[0].legend(fontsize=14)\n",
    "#ax.set_yscale('log')\n",
    "#plt.legend()\n",
    "#plt.show()\n",
    "#ax.scatter(sample_flex2_final[:,0,0],sample_flex2_final[:,0,1],c='#1f77b4',label = \"Flex samples\")\n",
    "#ax.scatter(sample_ex2_final[:,0],sample_ex2_final[:,1],c='#ff7f0e',label = \"Ex2 samples\")\n",
    "ax[1].scatter(True_samples[:,0],True_samples[:,1],c='#ff7f0e',label = \"True samples\")\n",
    "ax[1].scatter(sample_flex2_new[:,0,0],sample_flex2_new[:,0,1],c='#1f77b4',label = \"Flex$^2$MCMC, no MALA steps\")\n",
    "#ax[1].set_title('All samples')\n",
    "ax[1].set_xlabel('x_1')\n",
    "ax[1].set_ylabel('x_2')\n",
    "#ax.set_yscale('log')\n",
    "plt.legend(fontsize=14)\n",
    "plt.savefig(Path(\n",
    "        \"./\",\n",
    "        f\"flow_funnel_samples_dim_{dim}_var_2_N_{mcmc.N}_mala_{mcmc.mala_steps}.pdf\",\n",
    "        ), format=\"pdf\", bbox_inches=\"tight\") \n",
    "plt.show()"
   ]
  },
  {
   "cell_type": "code",
   "execution_count": null,
   "id": "6170dfb0",
   "metadata": {},
   "outputs": [],
   "source": [
    "fig,ax=plt.subplots(1,1,figsize=(10,4))\n",
    "ax = sns.kdeplot(x=True_samples[:,0],label = \"True samples\")\n",
    "ax = sns.kdeplot(x=sample_flex2_final[:,0,0],label = \"Flex$^2$MCMC, 5 MALA steps\")\n",
    "ax = sns.kdeplot(x=sample_flex2_new[:,0,0],label = \"Flex$^2$MCMC, no MALA steps\")\n",
    "plt.legend(loc =\"upper left\",fontsize=14)\n",
    "plt.savefig(f\"flow_dim_{dim}_density_var_2_N_{mcmc.N}_mala_{mcmc.mala_steps}.pdf\",format=\"pdf\", bbox_inches=\"tight\")\n",
    "plt.show()"
   ]
  },
  {
   "cell_type": "code",
   "execution_count": null,
   "id": "efdcbe96",
   "metadata": {},
   "outputs": [],
   "source": [
    "fig,ax=plt.subplots(1,2,figsize=(12,4))\n",
    "ax[0].scatter(True_samples[:,0],True_samples[:,1],c='#ff7f0e',label = \"True samples\")\n",
    "ax[0].scatter(sample_flex2_final[:,0,0],sample_flex2_final[:,0,1],c='#1f77b4',label = \"Flex samples\")\n",
    "#ax.scatter(sample_ex2_final[:,0],sample_ex2_final[:,1],c='#ff7f0e',label = \"Ex2 samples\")\n",
    "#ax[0].set_title('All samples')\n",
    "ax[0].set_xlabel('x_1')\n",
    "ax[0].set_ylabel('x_2')\n",
    "ax[0].legend(fontsize=16)\n",
    "#ax.set_yscale('log')\n",
    "#plt.legend()\n",
    "#plt.show()\n",
    "#ax.scatter(sample_flex2_final[:,0,0],sample_flex2_final[:,0,1],c='#1f77b4',label = \"Flex samples\")\n",
    "#ax.scatter(sample_ex2_final[:,0],sample_ex2_final[:,1],c='#ff7f0e',label = \"Ex2 samples\")\n",
    "ax[1].scatter(True_samples[:,0],True_samples[:,1],c='#ff7f0e',label = \"True samples\")\n",
    "ax[1].scatter(sample_nuts_ref[:,0,0],sample_nuts_ref[:,0,1],c='#1f77b4',label = \"NUTS samples\")\n",
    "#ax[1].set_title('All samples')\n",
    "ax[1].set_xlabel('x_1')\n",
    "ax[1].set_ylabel('x_2')\n",
    "#ax.set_yscale('log')\n",
    "plt.legend(fontsize=16)\n",
    "plt.savefig(Path(\n",
    "        \"./\",\n",
    "        f\"flow_funnel_samples_dim_{dim}_var_2_N_{mcmc.N}_mala_{mcmc.mala_steps}.pdf\",\n",
    "        ), format=\"pdf\", bbox_inches=\"tight\") \n",
    "plt.show()"
   ]
  },
  {
   "cell_type": "code",
   "execution_count": null,
   "id": "43405c0c",
   "metadata": {},
   "outputs": [],
   "source": [
    "fig,ax=plt.subplots(1,1,figsize=(8,4))\n",
    "ax = sns.kdeplot(x=True_samples[:,0],label = \"True samples\")\n",
    "ax = sns.kdeplot(x=sample_flex2_final[:,0,0],label = \"Flex$^2$MCMC \")\n",
    "ax = sns.kdeplot(x=sample_nuts_ref[:,0,0],label = \"NUTS\")\n",
    "plt.legend(loc = \"upper left\",fontsize=16)\n",
    "plt.savefig(f\"flow_dim_{dim}_density_var_2_N_{mcmc.N}_mala_{mcmc.mala_steps}.pdf\",format=\"pdf\", bbox_inches=\"tight\")\n",
    "plt.show()"
   ]
  },
  {
   "cell_type": "code",
   "execution_count": null,
   "id": "90af8eb8",
   "metadata": {},
   "outputs": [],
   "source": [
    "fig,ax=plt.subplots(1,1,figsize=(8,4))\n",
    "ax = sns.kdeplot(x=True_samples[:,1],label = \"True samples KDE\")\n",
    "ax = sns.kdeplot(x=sample_flex2_final[:,0,1],label = \"Flex$^2$MCMC samples KDE\")\n",
    "ax = sns.kdeplot(x=sample_nuts_ref[:,0,1],label = \"NUTS samples KDE\")\n",
    "plt.legend(loc = \"upper right\",fontsize=12)\n",
    "#plt.savefig(f\"flow_dim_{dim}_density_var_2.pdf\",format=\"pdf\", bbox_inches=\"tight\")\n",
    "plt.show()"
   ]
  },
  {
   "cell_type": "code",
   "execution_count": null,
   "id": "0801a863",
   "metadata": {},
   "outputs": [],
   "source": []
  }
 ],
 "metadata": {
  "kernelspec": {
   "display_name": "Python 3 (ipykernel)",
   "language": "python",
   "name": "python3"
  },
  "language_info": {
   "codemirror_mode": {
    "name": "ipython",
    "version": 3
   },
   "file_extension": ".py",
   "mimetype": "text/x-python",
   "name": "python",
   "nbconvert_exporter": "python",
   "pygments_lexer": "ipython3",
   "version": "3.9.11"
  }
 },
 "nbformat": 4,
 "nbformat_minor": 5
}
