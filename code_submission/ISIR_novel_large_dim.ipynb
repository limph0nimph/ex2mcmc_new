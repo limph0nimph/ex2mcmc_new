{
 "cells": [
  {
   "cell_type": "code",
   "execution_count": 8,
   "id": "1ef649be",
   "metadata": {},
   "outputs": [],
   "source": [
    "import numpy as np\n",
    "import matplotlib.pyplot as plt\n",
    "\n",
    "import torch\n",
    "from torch.distributions import MultivariateNormal as MNormal\n",
    "from torch.distributions import Normal, Categorical\n",
    "from matplotlib import pyplot as plt\n",
    "\n",
    "from samplers_new import mala, i_sir, ex2_mcmc, flex2_mcmc, flex2_mcmc_imh, RealNVPProposal\n",
    "import tqdm"
   ]
  },
  {
   "cell_type": "code",
   "execution_count": 9,
   "id": "dbeec542",
   "metadata": {},
   "outputs": [],
   "source": [
    "def target_dens(x):\n",
    "    \"\"\"\n",
    "    returns the value of a target density - mixture of the 3 gaussians \n",
    "    \"\"\"\n",
    "    return np.exp(-np.sum((x-mu[0])**2)/(2*sigma**2)) + np.exp(-np.sum((x-mu[1])**2)/(2*sigma**2)) +\\\n",
    "                 np.exp(-np.sum((x-mu[2])**2)/(2*sigma**2))\n",
    "\n",
    "def grad_target_dens(x):\n",
    "    \"\"\"\n",
    "    returns the gradient of log-density \n",
    "    \"\"\"\n",
    "    lin_x = np.zeros(3,dtype = float)\n",
    "    exp_x = np.zeros(3,dtype = float)\n",
    "    for i in range(3):\n",
    "        exp_x[i] = np.exp(-np.sum((x-mu[i])**2)/(2*sigma**2))\n",
    "    grad = np.zeros(2,dtype=float)\n",
    "    for i in range(3):\n",
    "        grad -= exp_x[i]*(x-mu[i])/sigma**2\n",
    "    return grad/target_dens(x)\n",
    "\n",
    "def logp_mala(y,z,gamma):\n",
    "    return -1/(4*gamma)*(np.sum((y - z - gamma*grad_target_dens(z))**2))\n",
    "\n",
    "def discretesampling(w):\n",
    "    u = np.random.rand()\n",
    "    bins = np.cumsum(w)\n",
    "    return np.digitize(u,bins)\n",
    "\n",
    "def log_dens_isir(x,sigma):\n",
    "    \"\"\"\n",
    "    compute log-density of a normal distributio nwith standard deviation sigma**2\n",
    "    \"\"\"\n",
    "    return -np.sum(x**2)/(2*sigma**2)"
   ]
  },
  {
   "cell_type": "markdown",
   "id": "9302dba9",
   "metadata": {},
   "source": [
    "### Put parameters of the target density"
   ]
  },
  {
   "cell_type": "code",
   "execution_count": 10,
   "id": "8b601e43",
   "metadata": {},
   "outputs": [],
   "source": [
    "#method to compute log probability\n",
    "def log_prob(x: torch.FloatTensor, detach = False) -> torch.FloatTensor:\n",
    "        \"\"\"\n",
    "        Returns:\n",
    "            log p(x)\n",
    "        \"\"\"\n",
    "        log_ps = torch.stack([\n",
    "            torch.log(weight) + gauss.log_prob(x) for weight, gauss in zip(weights, gaussians)\n",
    "            ], dim=0)\n",
    "        return torch.logsumexp(log_ps, dim=0)"
   ]
  },
  {
   "cell_type": "code",
   "execution_count": 11,
   "id": "45bdc9f4",
   "metadata": {},
   "outputs": [],
   "source": [
    "#initialize starting points for the distribution\n",
    "seed = 42\n",
    "torch.manual_seed(42)\n",
    "device = 'cpu'\n",
    "\n",
    "#initialize dimension\n",
    "dim = 100\n",
    "#init scaling parameter for the density\n",
    "a = 4.0\n",
    "#standard deviations for the cluster centers\n",
    "sigma = 1.0\n",
    "\n",
    "#initialize centers of the clusters\n",
    "center_pts = (np.random.rand(3,dim)-0.5)\n",
    "\n",
    "locs = a*torch.FloatTensor([center_pts[0,0:(dim-2)].tolist() + [0.0, 1.0], \\\n",
    "                          center_pts[1,0:(dim-2)].tolist() + [np.sqrt(3)/2,-0.5], \\\n",
    "                          center_pts[2,0:(dim-2)].tolist()+ [-np.sqrt(3)/2,-0.5]])\n",
    "covs = sigma*torch.eye(dim)[None, ...].repeat(3, 1, 1).float()\n",
    "#normalized weights of the mixture\n",
    "weights = torch.FloatTensor([1, 1, 1])\n",
    "weights /= weights.sum()\n",
    "#create Gaussian densities with different centers\n",
    "gaussians = [MNormal(loc, cov) for loc, cov in zip(locs, covs)]\n",
    "\n",
    "\n",
    "#init number of trajectories\n",
    "N_traj = 100\n",
    "#init starting points \n",
    "x0 = torch.randn(N_traj, dim).to(device)"
   ]
  },
  {
   "cell_type": "markdown",
   "id": "418ea687",
   "metadata": {},
   "source": [
    "### Plot density contours"
   ]
  },
  {
   "cell_type": "code",
   "execution_count": 12,
   "id": "d15fec64",
   "metadata": {},
   "outputs": [
    {
     "data": {
      "image/png": "[encoded data removed]",
      "text/plain": [
       "<Figure size 640x480 with 2 Axes>"
      ]
     },
     "metadata": {},
     "output_type": "display_data"
    }
   ],
   "source": [
    "N_pts = 100\n",
    "x = np.linspace(-2*a, 2*a, 100)\n",
    "y = np.linspace(-2*a, 2*a, 100)\n",
    "X, Y = np.meshgrid(x, y)\n",
    "#stack the two\n",
    "inp = torch.FloatTensor(np.stack([X, Y], -1))\n",
    "proj_slice = [-2, -1]\n",
    "\n",
    "#project onto the last 2 coordinates\n",
    "loc_gaussians = [MNormal(loc[proj_slice], cov[proj_slice, :][:, proj_slice]) for loc, cov in zip(locs, covs)]\n",
    "log_ps = torch.stack([\n",
    "    torch.log(weight) + gauss.log_prob(inp.reshape(-1, 2)) for weight, gauss in zip(weights, loc_gaussians)\n",
    "], dim=0)\n",
    "dens_vals = torch.logsumexp(log_ps, dim=0).reshape(inp.shape[:-1])\n",
    "#plot density values\n",
    "fig,ax=plt.subplots(1,1)\n",
    "cp = ax.contourf(X, Y, dens_vals.exp())\n",
    "fig.colorbar(cp) # Add a colorbar to a plot\n",
    "ax.set_title('Filled Contours Plot')\n",
    "#ax.set_xlabel('x (cm)')\n",
    "ax.set_ylabel('y (cm)')\n",
    "plt.show()"
   ]
  },
  {
   "cell_type": "markdown",
   "id": "26b82cfd",
   "metadata": {},
   "source": [
    "### Sample with i-SIR algorithm"
   ]
  },
  {
   "cell_type": "code",
   "execution_count": null,
   "id": "54a42629",
   "metadata": {},
   "outputs": [],
   "source": [
    "N_steps = 1000\n",
    "N_part = 200\n",
    "sigma_isir = 4.0\n",
    "\n",
    "#choose proposal for i-SIR algorithm\n",
    "isir_proposal = MNormal(\n",
    "    torch.zeros(dim).to(device), (sigma_isir ** 2) * torch.eye(dim).to(device)\n",
    ")\n",
    "\n",
    "#run i-SIR\n",
    "Samples_isir = i_sir(log_prob, x0, N_steps, N_part, isir_proposal, seed=42)"
   ]
  },
  {
   "cell_type": "code",
   "execution_count": null,
   "id": "e4b79060",
   "metadata": {},
   "outputs": [],
   "source": [
    "Samples_isir.shape"
   ]
  },
  {
   "cell_type": "code",
   "execution_count": null,
   "id": "8880ab9d",
   "metadata": {},
   "outputs": [],
   "source": [
    "x = np.linspace(-2*a, 2*a, 100)\n",
    "y = np.linspace(-2*a, 2*a, 100)\n",
    "X, Y = np.meshgrid(x, y)\n",
    "#stack the two\n",
    "inp = torch.FloatTensor(np.stack([X, Y], -1))\n",
    "proj_slice = [-2, -1]\n",
    "\n",
    "#project onto the last 2 coordinates\n",
    "loc_gaussians = [MNormal(loc[proj_slice], cov[proj_slice, :][:, proj_slice]) for loc, cov in zip(locs, covs)]\n",
    "log_ps = torch.stack([\n",
    "    torch.log(weight) + gauss.log_prob(inp.reshape(-1, 2)) for weight, gauss in zip(weights, loc_gaussians)\n",
    "], dim=0)\n",
    "dens_vals = torch.logsumexp(log_ps, dim=0).reshape(inp.shape[:-1])\n",
    "#plot density values\n",
    "fig,ax=plt.subplots(1,1)\n",
    "cp = ax.contourf(X, Y, dens_vals.exp())\n",
    "fig.colorbar(cp) # Add a colorbar to a plot\n",
    "#plot i-sir samples\n",
    "ax.scatter(Samples_isir[0,:,-2],Samples_isir[0,:,-1])\n",
    "ax.set_title('i_SIR samples')\n",
    "#ax.set_xlabel('x (cm)')\n",
    "ax.set_ylabel('y (cm)')\n",
    "plt.show()"
   ]
  },
  {
   "cell_type": "markdown",
   "id": "77fac81c",
   "metadata": {},
   "source": [
    "### Sample the same mixture with MALA"
   ]
  },
  {
   "cell_type": "code",
   "execution_count": null,
   "id": "2a03c957",
   "metadata": {},
   "outputs": [],
   "source": [
    "#MALA steps\n",
    "N_steps = 1000\n",
    "gamma = 0.5\n",
    "N_steps_mala = 3\n",
    "\n",
    "stats = None\n",
    "\n",
    "#sample with MALA\n",
    "Samples_mala = mala(log_prob, x0, N_steps, gamma, N_steps_mala, stats=None, seed=42)\n",
    "Samples_mala.shape"
   ]
  },
  {
   "cell_type": "code",
   "execution_count": null,
   "id": "50f0dd0a",
   "metadata": {},
   "outputs": [],
   "source": [
    "N_pts = 100\n",
    "traj_number = 0\n",
    "x = np.linspace(-2*a, 2*a, N_pts)\n",
    "y = np.linspace(-2*a, 2*a, N_pts)\n",
    "X, Y = np.meshgrid(x, y)\n",
    "#stack the two\n",
    "inp = torch.FloatTensor(np.stack([X, Y], -1))\n",
    "proj_slice = [-2, -1]\n",
    "\n",
    "#project onto the last 2 coordinates\n",
    "loc_gaussians = [MNormal(loc[proj_slice], cov[proj_slice, :][:, proj_slice]) for loc, cov in zip(locs, covs)]\n",
    "log_ps = torch.stack([\n",
    "    torch.log(weight) + gauss.log_prob(inp.reshape(-1, 2)) for weight, gauss in zip(weights, loc_gaussians)\n",
    "], dim=0)\n",
    "dens_vals = torch.logsumexp(log_ps, dim=0).reshape(inp.shape[:-1])\n",
    "#plot density values\n",
    "fig,ax=plt.subplots(1,1)\n",
    "cp = ax.contourf(X, Y, dens_vals.exp())\n",
    "fig.colorbar(cp) # Add a colorbar to a plot\n",
    "#plot mala samples\n",
    "ax.scatter(Samples_mala[traj_number,:,-2],Samples_mala[traj_number,:,-1])\n",
    "ax.set_title('MALA samples')\n",
    "#ax.set_xlabel('x (cm)')\n",
    "ax.set_ylabel('y (cm)')\n",
    "plt.show()"
   ]
  },
  {
   "cell_type": "markdown",
   "id": "9e3ec2fd",
   "metadata": {},
   "source": [
    "### Sample the same mixture with Ex$^2$MCMC"
   ]
  },
  {
   "cell_type": "code",
   "execution_count": null,
   "id": "f708a627",
   "metadata": {},
   "outputs": [],
   "source": [
    "Samples_ex2 = ex2_mcmc(log_prob, x0, N_steps, N_part, isir_proposal, gamma, N_steps_mala, stats=None, seed=42)\n",
    "Samples_ex2.shape"
   ]
  },
  {
   "cell_type": "code",
   "execution_count": null,
   "id": "1ec0fd57",
   "metadata": {},
   "outputs": [],
   "source": [
    "traj_number = 0\n",
    "x = np.linspace(-2*a, 2*a, N_pts)\n",
    "y = np.linspace(-2*a, 2*a, N_pts)\n",
    "X, Y = np.meshgrid(x, y)\n",
    "traj_number = 1\n",
    "#stack the two\n",
    "inp = torch.FloatTensor(np.stack([X, Y], -1))\n",
    "proj_slice = [-2, -1]\n",
    "\n",
    "#project onto the last 2 coordinates\n",
    "loc_gaussians = [MNormal(loc[proj_slice], cov[proj_slice, :][:, proj_slice]) for loc, cov in zip(locs, covs)]\n",
    "log_ps = torch.stack([\n",
    "    torch.log(weight) + gauss.log_prob(inp.reshape(-1, 2)) for weight, gauss in zip(weights, loc_gaussians)\n",
    "], dim=0)\n",
    "dens_vals = torch.logsumexp(log_ps, dim=0).reshape(inp.shape[:-1])\n",
    "#plot density values\n",
    "fig,ax=plt.subplots(1,1)\n",
    "cp = ax.contourf(X, Y, dens_vals.exp())\n",
    "fig.colorbar(cp) # Add a colorbar to a plot\n",
    "#plot mala samples\n",
    "ax.scatter(Samples_ex2[traj_number,:,-2],Samples_ex2[traj_number,:,-1])\n",
    "ax.set_title('Ex$^2$MCMC samples')\n",
    "#ax.set_xlabel('x (cm)')\n",
    "ax.set_ylabel('y (cm)')\n",
    "plt.show()"
   ]
  },
  {
   "cell_type": "markdown",
   "id": "71853422",
   "metadata": {},
   "source": [
    "### Sample the same mixture with Flex$^2$MCMC"
   ]
  },
  {
   "cell_type": "code",
   "execution_count": 25,
   "id": "9fefe16b",
   "metadata": {},
   "outputs": [
    {
     "name": "stderr",
     "output_type": "stream",
     "text": [
      "100%|██████████| 50/50 [00:04<00:00, 12.37it/s]\n",
      "KL forw 147.5091094970703, KL back 160.42999267578125: 100%|██████████| 200/200 [01:17<00:00,  2.59it/s] \n"
     ]
    },
    {
     "data": {
      "text/plain": [
       "torch.Size([100, 201, 100])"
      ]
     },
     "execution_count": 25,
     "metadata": {},
     "output_type": "execute_result"
    }
   ],
   "source": [
    "seed = 42\n",
    "torch.manual_seed(seed)\n",
    "\n",
    "N_samples=100\n",
    "\n",
    "x0 = torch.randn(N_samples, dim).to(device)\n",
    "\n",
    "isir_proposal = RealNVPProposal(lat_size=dim,device=device).to(device)\n",
    "proposal_opt = torch.optim.Adam(isir_proposal.parameters(), lr=1e-3)\n",
    "\n",
    "for _ in tqdm.tqdm(range(50)):\n",
    "    proposal_opt.zero_grad()\n",
    "    loss = -isir_proposal.log_prob(torch.randn(1000, dim).to(device)).mean()\n",
    "    loss.backward()\n",
    "    proposal_opt.step()\n",
    "    \n",
    "N_steps = 200\n",
    "sigma_isir = 4.0\n",
    "N_particles = 10\n",
    "#mixture parameter in losss: we optimize alpha*kl_forward + (1-alpha)*kl_backward\n",
    "alpha = 1.0\n",
    "\n",
    "gamma = 0.5\n",
    "mala_iters = 3\n",
    "\n",
    "stats = {'n_accepts': 0}\n",
    "\n",
    "#generate flex2 samples\n",
    "Samples_flex2 = flex2_mcmc(log_target_dens=log_prob, x0=x0, N_steps=N_steps, \n",
    "                       N_part=N_particles, isir_proposal=isir_proposal ,\n",
    "                       gamma=gamma, mala_iters=mala_iters, alpha = alpha, stats=stats)\n",
    "\n",
    "Samples_flex2.shape"
   ]
  },
  {
   "cell_type": "code",
   "execution_count": 37,
   "id": "f08d768e",
   "metadata": {},
   "outputs": [
    {
     "data": {
      "image/png": "[encoded data removed]",
      "text/plain": [
       "<Figure size 640x480 with 2 Axes>"
      ]
     },
     "metadata": {},
     "output_type": "display_data"
    }
   ],
   "source": [
    "N_pts = 100\n",
    "part_n = 20\n",
    "x = np.linspace(-2*a, 2*a, N_pts)\n",
    "y = np.linspace(-2*a, 2*a, N_pts)\n",
    "X, Y = np.meshgrid(x, y)\n",
    "#stack the two\n",
    "inp = torch.FloatTensor(np.stack([X, Y], -1))\n",
    "proj_slice = [-2, -1]\n",
    "\n",
    "#project onto the last 2 coordinates\n",
    "loc_gaussians = [MNormal(loc[proj_slice], cov[proj_slice, :][:, proj_slice]) for loc, cov in zip(locs, covs)]\n",
    "log_ps = torch.stack([\n",
    "    torch.log(weight) + gauss.log_prob(inp.reshape(-1, 2)) for weight, gauss in zip(weights, loc_gaussians)\n",
    "], dim=0)\n",
    "dens_vals = torch.logsumexp(log_ps, dim=0).reshape(inp.shape[:-1])\n",
    "#plot density values\n",
    "fig,ax=plt.subplots(1,1)\n",
    "cp = ax.contourf(X, Y, dens_vals.exp())\n",
    "fig.colorbar(cp) # Add a colorbar to a plot\n",
    "#plot mala samples\n",
    "ax.scatter(Samples_flex2[part_n,:,-2],Samples_flex2[part_n,:,-1])\n",
    "ax.set_title('Flex$^2$MCMC samples')\n",
    "#ax.set_xlabel('x (cm)')\n",
    "ax.set_ylabel('y (cm)')\n",
    "plt.show()"
   ]
  },
  {
   "cell_type": "markdown",
   "id": "21287c3c",
   "metadata": {},
   "source": [
    "### Sample the same mixture with Flex$^2$MCMC, IMH proposal instead of i-SIR"
   ]
  },
  {
   "cell_type": "code",
   "execution_count": 27,
   "id": "3b33eaa0",
   "metadata": {},
   "outputs": [
    {
     "name": "stderr",
     "output_type": "stream",
     "text": [
      "100%|██████████| 50/50 [00:03<00:00, 12.75it/s]\n",
      "KL forw 147.26255798339844, KL back 158.09190368652344: 100%|██████████| 200/200 [01:08<00:00,  2.94it/s]\n"
     ]
    },
    {
     "data": {
      "text/plain": [
       "torch.Size([100, 201, 100])"
      ]
     },
     "execution_count": 27,
     "metadata": {},
     "output_type": "execute_result"
    }
   ],
   "source": [
    "seed = 42\n",
    "torch.manual_seed(seed)\n",
    "\n",
    "N_samples=100\n",
    "\n",
    "x0 = torch.randn(N_samples, dim).to(device)\n",
    "\n",
    "mh_proposal = RealNVPProposal(lat_size=dim,device=device).to(device)\n",
    "proposal_opt = torch.optim.Adam(mh_proposal.parameters(), lr=1e-3)\n",
    "\n",
    "for _ in tqdm.tqdm(range(50)):\n",
    "    proposal_opt.zero_grad()\n",
    "    loss = -mh_proposal.log_prob(torch.randn(1000, dim).to(device)).mean()\n",
    "    loss.backward()\n",
    "    proposal_opt.step()\n",
    "    \n",
    "N_steps = 200\n",
    "sigma_isir = 4.0\n",
    "N_particles_backward = 10\n",
    "#mixture parameter in losss: we optimize alpha*kl_forward + (1-alpha)*kl_backward\n",
    "alpha = 1.0\n",
    "\n",
    "gamma = 0.5\n",
    "mala_iters = 3\n",
    "\n",
    "stats = {'n_accepts': 0}\n",
    "\n",
    "#generate flex2 samples\n",
    "Samples_flex2_imh = flex2_mcmc_imh(log_target_dens=log_prob, x0=x0, N_steps=N_steps, \n",
    "                       N_part=N_particles_backward, mh_proposal=mh_proposal,\n",
    "                       gamma=gamma, mala_iters=mala_iters, alpha = alpha, stats=stats)\n",
    "\n",
    "Samples_flex2_imh.shape"
   ]
  },
  {
   "cell_type": "code",
   "execution_count": 32,
   "id": "465febaa",
   "metadata": {},
   "outputs": [
    {
     "data": {
      "image/png": "[encoded data removed]",
      "text/plain": [
       "<Figure size 640x480 with 2 Axes>"
      ]
     },
     "metadata": {},
     "output_type": "display_data"
    }
   ],
   "source": [
    "N_pts = 100\n",
    "part_n = 3\n",
    "x = np.linspace(-2*a, 2*a, N_pts)\n",
    "y = np.linspace(-2*a, 2*a, N_pts)\n",
    "X, Y = np.meshgrid(x, y)\n",
    "#stack the two\n",
    "inp = torch.FloatTensor(np.stack([X, Y], -1))\n",
    "proj_slice = [-2, -1]\n",
    "\n",
    "#project onto the last 2 coordinates\n",
    "loc_gaussians = [MNormal(loc[proj_slice], cov[proj_slice, :][:, proj_slice]) for loc, cov in zip(locs, covs)]\n",
    "log_ps = torch.stack([\n",
    "    torch.log(weight) + gauss.log_prob(inp.reshape(-1, 2)) for weight, gauss in zip(weights, loc_gaussians)\n",
    "], dim=0)\n",
    "dens_vals = torch.logsumexp(log_ps, dim=0).reshape(inp.shape[:-1])\n",
    "#plot density values\n",
    "fig,ax=plt.subplots(1,1)\n",
    "cp = ax.contourf(X, Y, dens_vals.exp())\n",
    "fig.colorbar(cp) # Add a colorbar to a plot\n",
    "#plot mala samples\n",
    "ax.scatter(Samples_flex2_imh[part_n,:,-2],Samples_flex2_imh[part_n,:,-1])\n",
    "ax.set_title('Flex$^2$MCMC samples, IMH sampler')\n",
    "#ax.set_xlabel('x (cm)')\n",
    "ax.set_ylabel('y (cm)')\n",
    "plt.show()"
   ]
  },
  {
   "cell_type": "markdown",
   "id": "bc3bdaa3",
   "metadata": {},
   "source": [
    "### Prepare some nice plots"
   ]
  },
  {
   "cell_type": "code",
   "execution_count": null,
   "id": "c40a717e",
   "metadata": {},
   "outputs": [],
   "source": [
    "fig,ax = plt.subplots(1,3,figsize=(15,4))\n",
    "#select the index of the visualized trajectory\n",
    "traj_ind = 0\n",
    "im = ax[0].contourf(X, Y, dens_vals.exp())\n",
    "im = ax[1].contourf(X, Y, dens_vals.exp())\n",
    "im = ax[2].contourf(X, Y, dens_vals.exp())\n",
    "fig.colorbar(im, ax=ax.flat) # Add a colorbar to a plot\n",
    "#i-sir plots\n",
    "ax[0].scatter(Samples_isir[traj_ind,:,-2],Samples_isir[traj_ind,:,-1])\n",
    "ax[0].set_title('i-SIR samples')\n",
    "ax[0].set_xlabel('$x_1$')\n",
    "ax[0].set_ylabel('$x_2$')\n",
    "#mala samples\n",
    "ax[1].scatter(Samples_mala[traj_ind,:,-2],Samples_mala[traj_ind,:,-1])\n",
    "ax[1].set_title('MALA samples')\n",
    "ax[1].set_xlabel('$x_1$')\n",
    "ax[1].set_ylabel('$x_2$')\n",
    "#flex2-mcmc sample\n",
    "ax[2].scatter(Samples_flex2[traj_ind,:,-2],Samples_flex2[traj_ind,:,-1])\n",
    "ax[2].set_title('Flex$^2$MCMC samples')\n",
    "ax[2].set_xlabel('$x_1$')\n",
    "ax[2].set_ylabel('$x_2$')\n",
    "plt.savefig(\"toy_samples_flex_50d_the_guy_not_to_worry_about.png\", format=\"png\", bbox_inches=\"tight\") \n",
    "plt.show()"
   ]
  },
  {
   "cell_type": "code",
   "execution_count": null,
   "id": "e269529f",
   "metadata": {},
   "outputs": [],
   "source": []
  },
  {
   "cell_type": "code",
   "execution_count": null,
   "id": "4e106b22",
   "metadata": {},
   "outputs": [],
   "source": []
  },
  {
   "cell_type": "code",
   "execution_count": null,
   "id": "453d182c",
   "metadata": {},
   "outputs": [],
   "source": []
  },
  {
   "cell_type": "code",
   "execution_count": null,
   "id": "89bd1aa6",
   "metadata": {},
   "outputs": [],
   "source": []
  },
  {
   "cell_type": "code",
   "execution_count": null,
   "id": "2865da04",
   "metadata": {},
   "outputs": [],
   "source": [
    "import torch\n",
    "\n",
    "fig, axes = plt.subplots(1,3,figsize=(15,4))\n",
    "N_pts = 100\n",
    "xlist = np.linspace(-2*a, 2*a, 100)\n",
    "ylist = np.linspace(-2*a, 2*a, 100)\n",
    "X, Y = np.meshgrid(xlist, ylist)\n",
    "points = np.zeros((2,X.shape[0],X.shape[1]),dtype=float)\n",
    "points[0] = X\n",
    "points[1] = Y\n",
    "dens_vals = np.zeros_like(X)\n",
    "prop_vals = np.zeros_like(X)\n",
    "for i in range(N_pts):\n",
    "    for j in range(N_pts):\n",
    "        dens_vals[i,j] = target_dens(points[:,i,j])\n",
    "        prop_vals[i,j] = log_dens_isir(points[:,i,j], sigma_isir)\n",
    "\n",
    "for na, ax in enumerate(axes):\n",
    "    plt.sca(ax)\n",
    "    plt.contourf(X, Y, dens_vals, 10, cmap='GnBu')\n",
    "    plt.axis('off')\n",
    "    if na > 0:\n",
    "        plt.contour(X, Y, prop_vals, 10, colors='k', linestyles=':', alpha=0.25)\n",
    "## to do equal ratio\n",
    "\n",
    "# plt.title(title)\n",
    "    \n",
    "# plt.colorbar()\n",
    "# plt.plot(xs[:, 0, 0], xs[:, 0, 1], 'o', c='r', alpha=0.25, ms=2.5)\n",
    "chainss = [Samples_mala, Samples_isir, Samples_ex2]\n",
    "titles = ['MALA samples', 'i-SIR samples', 'Ex$^2$MCMC samples']\n",
    "for ax, chains, title in zip(axes, chainss, titles):\n",
    "    plt.sca(ax)\n",
    "    plt.title(title)\n",
    "    xs = torch.tensor(chains, dtype=torch.float)\n",
    "    posx, invx, countsx = torch.unique_consecutive(xs[:, 0], return_counts=True, return_inverse=True)\n",
    "\n",
    "    posy, invy, countsy = torch.unique_consecutive(xs[:, 1], return_counts=True, return_inverse=True)\n",
    "\n",
    "    plt.plot(xs[:, 0], xs[:, 1], '-', c='k', alpha=0.25)\n",
    "    plt.scatter(posx, posy, marker='o', c='r', alpha=0.5, s=countsx*20)\n",
    "    plt.scatter(xs[0,0], xs[0,1],  marker='*', c='k', alpha=0.75, s=40)\n",
    "#plt.show()\n",
    "plt.savefig('toy_samples_2d_gaus.pdf', format=\"pdf\", bbox_inches=\"tight\")\n",
    "plt.show()"
   ]
  }
 ],
 "metadata": {
  "kernelspec": {
   "display_name": "Python 3",
   "language": "python",
   "name": "python3"
  },
  "language_info": {
   "codemirror_mode": {
    "name": "ipython",
    "version": 3
   },
   "file_extension": ".py",
   "mimetype": "text/x-python",
   "name": "python",
   "nbconvert_exporter": "python",
   "pygments_lexer": "ipython3",
   "version": "3.7.11"
  }
 },
 "nbformat": 4,
 "nbformat_minor": 5
}
