{
 "cells": [
  {
   "cell_type": "code",
   "execution_count": 1,
   "id": "64e76fd7",
   "metadata": {
    "colab": {
     "base_uri": "https://localhost:8080/"
    },
    "id": "64e76fd7",
    "outputId": "aa6f845e-6f0e-4a63-a7df-fba63080d8d0"
   },
   "outputs": [],
   "source": [
    "import numpy as np\n",
    "\n",
    "import torch\n",
    "from torch import nn\n",
    "from torch import optim\n",
    "\n",
    "import time\n",
    "import tqdm\n",
    "\n",
    "import tkinter\n",
    "import pickle\n",
    "\n",
    "from IPython.display import clear_output\n",
    "\n",
    "import sys\n",
    "sys.path.append('..')\n",
    "\n",
    "import pyro\n",
    "from pyro.infer import HMC, MCMC, NUTS\n",
    "from samplers import mala, i_sir, ex2_mcmc\n",
    "import ot\n",
    "import jax\n",
    "import gc\n",
    "\n",
    "from cifar10_experiments.models import Generator, Discriminator\n",
    "\n",
    "from sampling_utils.adaptive_mc import CISIR, Ex2MCMC, FlowMCMC\n",
    "from sampling_utils.adaptive_sir_loss import MixKLLoss\n",
    "from sampling_utils.distributions import (\n",
    "    Banana,\n",
    "    CauchyMixture,\n",
    "    Distribution,\n",
    "    Funnel,\n",
    "    HalfBanana,\n",
    "    IndependentNormal,\n",
    ")\n",
    "from sampling_utils.ebm_sampling import MALA\n",
    "from sampling_utils.flows import RNVP\n",
    "from sampling_utils.metrics import ESS, acl_spectrum\n",
    "from sampling_utils.total_variation import (\n",
    "    average_total_variation,\n",
    ")"
   ]
  },
  {
   "cell_type": "code",
   "execution_count": 2,
   "id": "i5-GbHgG5xm5",
   "metadata": {
    "colab": {
     "base_uri": "https://localhost:8080/"
    },
    "id": "i5-GbHgG5xm5",
    "outputId": "035b21ed-acc0-4277-c137-c4e66c6ea352"
   },
   "outputs": [
    {
     "name": "stdout",
     "output_type": "stream",
     "text": [
      "Requirement already satisfied: pyro-ppl in /Users/sergosamsonoff/miniconda3/lib/python3.7/site-packages (1.8.1)\n",
      "Requirement already satisfied: easydict in /Users/sergosamsonoff/miniconda3/lib/python3.7/site-packages (1.9)\n",
      "Requirement already satisfied: pot in /Users/sergosamsonoff/miniconda3/lib/python3.7/site-packages (0.8.2)\n",
      "Requirement already satisfied: flax in /Users/sergosamsonoff/miniconda3/lib/python3.7/site-packages (0.4.1)\n",
      "Requirement already satisfied: mlpaper in /Users/sergosamsonoff/miniconda3/lib/python3.7/site-packages (0.0.3)\n",
      "Requirement already satisfied: tqdm>=4.36 in /Users/sergosamsonoff/miniconda3/lib/python3.7/site-packages (from pyro-ppl) (4.62.3)\n",
      "Requirement already satisfied: pyro-api>=0.1.1 in /Users/sergosamsonoff/miniconda3/lib/python3.7/site-packages (from pyro-ppl) (0.1.2)\n",
      "Requirement already satisfied: numpy>=1.7 in /Users/sergosamsonoff/miniconda3/lib/python3.7/site-packages (from pyro-ppl) (1.21.6)\n",
      "Requirement already satisfied: opt-einsum>=2.3.2 in /Users/sergosamsonoff/miniconda3/lib/python3.7/site-packages (from pyro-ppl) (3.3.0)\n",
      "Requirement already satisfied: torch>=1.11.0 in /Users/sergosamsonoff/miniconda3/lib/python3.7/site-packages (from pyro-ppl) (1.11.0)\n",
      "Requirement already satisfied: scipy>=1.0 in /Users/sergosamsonoff/miniconda3/lib/python3.7/site-packages (from pot) (1.4.1)\n",
      "Requirement already satisfied: optax in /Users/sergosamsonoff/miniconda3/lib/python3.7/site-packages (from flax) (0.1.2)\n",
      "Requirement already satisfied: msgpack in /Users/sergosamsonoff/miniconda3/lib/python3.7/site-packages (from flax) (1.0.3)\n",
      "Requirement already satisfied: matplotlib in /Users/sergosamsonoff/miniconda3/lib/python3.7/site-packages (from flax) (3.5.1)\n",
      "Requirement already satisfied: jax>=0.3 in /Users/sergosamsonoff/miniconda3/lib/python3.7/site-packages (from flax) (0.3.7)\n",
      "Requirement already satisfied: joblib>=0.11 in /Users/sergosamsonoff/miniconda3/lib/python3.7/site-packages (from mlpaper) (1.1.0)\n",
      "Requirement already satisfied: pandas>=0.24.0 in /Users/sergosamsonoff/miniconda3/lib/python3.7/site-packages (from mlpaper) (1.3.4)\n",
      "Requirement already satisfied: typing-extensions in /Users/sergosamsonoff/miniconda3/lib/python3.7/site-packages (from jax>=0.3->flax) (4.1.1)\n",
      "Requirement already satisfied: absl-py in /Users/sergosamsonoff/miniconda3/lib/python3.7/site-packages (from jax>=0.3->flax) (1.0.0)\n",
      "Requirement already satisfied: python-dateutil>=2.7.3 in /Users/sergosamsonoff/miniconda3/lib/python3.7/site-packages (from pandas>=0.24.0->mlpaper) (2.8.2)\n",
      "Requirement already satisfied: pytz>=2017.3 in /Users/sergosamsonoff/miniconda3/lib/python3.7/site-packages (from pandas>=0.24.0->mlpaper) (2021.3)\n",
      "Requirement already satisfied: six>=1.5 in /Users/sergosamsonoff/miniconda3/lib/python3.7/site-packages (from python-dateutil>=2.7.3->pandas>=0.24.0->mlpaper) (1.16.0)\n",
      "Requirement already satisfied: pillow>=6.2.0 in /Users/sergosamsonoff/miniconda3/lib/python3.7/site-packages (from matplotlib->flax) (9.0.1)\n",
      "Requirement already satisfied: packaging>=20.0 in /Users/sergosamsonoff/miniconda3/lib/python3.7/site-packages (from matplotlib->flax) (21.3)\n",
      "Requirement already satisfied: cycler>=0.10 in /Users/sergosamsonoff/miniconda3/lib/python3.7/site-packages (from matplotlib->flax) (0.11.0)\n",
      "Requirement already satisfied: kiwisolver>=1.0.1 in /Users/sergosamsonoff/miniconda3/lib/python3.7/site-packages (from matplotlib->flax) (1.3.2)\n",
      "Requirement already satisfied: fonttools>=4.22.0 in /Users/sergosamsonoff/miniconda3/lib/python3.7/site-packages (from matplotlib->flax) (4.25.0)\n",
      "Requirement already satisfied: pyparsing>=2.2.1 in /Users/sergosamsonoff/miniconda3/lib/python3.7/site-packages (from matplotlib->flax) (3.0.4)\n",
      "Requirement already satisfied: chex>=0.0.4 in /Users/sergosamsonoff/miniconda3/lib/python3.7/site-packages (from optax->flax) (0.1.3)\n",
      "Requirement already satisfied: jaxlib>=0.1.37 in /Users/sergosamsonoff/miniconda3/lib/python3.7/site-packages (from optax->flax) (0.3.7)\n",
      "Requirement already satisfied: dm-tree>=0.1.5 in /Users/sergosamsonoff/miniconda3/lib/python3.7/site-packages (from chex>=0.0.4->optax->flax) (0.1.7)\n",
      "Requirement already satisfied: toolz>=0.9.0 in /Users/sergosamsonoff/miniconda3/lib/python3.7/site-packages (from chex>=0.0.4->optax->flax) (0.11.2)\n",
      "Requirement already satisfied: flatbuffers<3.0,>=1.12 in /Users/sergosamsonoff/miniconda3/lib/python3.7/site-packages (from jaxlib>=0.1.37->optax->flax) (2.0)\n"
     ]
    }
   ],
   "source": [
    "!pip install pyro-ppl easydict pot flax mlpaper\n",
    "#!pip3 install torch torchvision torchaudio --extra-index-url https://download.pytorch.org/whl/cu113"
   ]
  },
  {
   "cell_type": "code",
   "execution_count": null,
   "id": "782aeab8",
   "metadata": {
    "id": "782aeab8"
   },
   "outputs": [],
   "source": [
    "import matplotlib\n",
    "import matplotlib.pyplot as plt\n",
    "%matplotlib inline"
   ]
  },
  {
   "cell_type": "code",
   "execution_count": null,
   "id": "eefb8f1e",
   "metadata": {
    "id": "eefb8f1e"
   },
   "outputs": [],
   "source": [
    "def sample_nuts(target, proposal, device = 'cpu', num_samples=1000, burn_in=1000, batch_size=1, rand_seed = 42):\n",
    "    def true_target_energy(z):\n",
    "        return -target(z)\n",
    "\n",
    "    def energy(z):\n",
    "        z = z[\"points\"]\n",
    "        return true_target_energy(z).sum()\n",
    "    start_time = time.time()\n",
    "    # kernel = HMC(potential_fn=energy, step_size = 0.1, num_steps = K, full_mass = False)\n",
    "    kernel_true = NUTS(potential_fn=energy, full_mass=False)\n",
    "    #kernel_true = HMC(potential_fn=energy, full_mass=False)\n",
    "    pyro.set_rng_seed(rand_seed)\n",
    "    init_samples = proposal.sample((batch_size,)).to(device)\n",
    "    print(init_samples.shape) \n",
    "    #init_samples = torch.zeros_like(init_samples)\n",
    "    dim = init_samples.shape[-1]\n",
    "    init_params = {\"points\": init_samples}\n",
    "    mcmc_true = MCMC(\n",
    "        kernel=kernel_true,\n",
    "        num_samples=num_samples,\n",
    "        initial_params=init_params,\n",
    "        warmup_steps=burn_in,\n",
    "    )\n",
    "    mcmc_true.run()\n",
    "    q_true = mcmc_true.get_samples(group_by_chain=True)[\"points\"].cpu()\n",
    "    samples_true = np.array(q_true.view(-1, batch_size, dim))\n",
    "    end_time = time.time()\n",
    "    return end_time-start_time, samples_true"
   ]
  },
  {
   "cell_type": "code",
   "execution_count": null,
   "id": "21ecc163",
   "metadata": {
    "id": "21ecc163"
   },
   "outputs": [],
   "source": [
    "def plot_learned_density(\n",
    "    flow,\n",
    "    proposal,\n",
    "    fig=None,\n",
    "    device=\"cpu\",\n",
    "    xlim=[-1, 1],\n",
    "    ylim=[-1, 1],\n",
    "    rest=0.0,\n",
    "):\n",
    "    if fig is None:\n",
    "        fig = plt.figure()\n",
    "    n_pts = 200\n",
    "    z = proposal.sample((n_pts**2,))\n",
    "    x = np.linspace(*xlim, n_pts)\n",
    "    y = np.linspace(*ylim, n_pts)\n",
    "    xx, yy = np.meshgrid(x, y)\n",
    "    zz = np.stack([xx, yy], -1)\n",
    "    z[:, :2] = torch.FloatTensor(zz).view(-1, 2).to(device)\n",
    "    z[:, 2:] = torch.FloatTensor([rest] * n_pts**2)[:, None]\n",
    "\n",
    "    inv, minus_log_jac = flow.inverse(z)\n",
    "    minus_log_jac = minus_log_jac.reshape(n_pts, n_pts)\n",
    "    inv = inv.reshape(n_pts, n_pts, -1)\n",
    "    vals = (proposal(inv) + minus_log_jac).exp().detach()\n",
    "\n",
    "    im = plt.contourf(xx, yy, vals.reshape(n_pts, n_pts), cmap=\"GnBu\")\n",
    "    fig.colorbar(im)\n",
    "    return fig\n",
    "\n",
    "def compute_metrics(\n",
    "    xs_true,\n",
    "    xs_pred,\n",
    "    name=None,\n",
    "    n_samples=1000,\n",
    "    scale=1.0,\n",
    "    trunc_chain_len=None,\n",
    "    ess_rar=1,\n",
    "):\n",
    "    metrics = dict()\n",
    "    key = jax.random.PRNGKey(0)\n",
    "    n_steps = 25\n",
    "    # n_samples = 100\n",
    "\n",
    "    ess = ESS(\n",
    "        acl_spectrum(\n",
    "            xs_pred[::ess_rar] - xs_pred[::ess_rar].mean(0)[None, ...],\n",
    "        ),\n",
    "    ).mean()\n",
    "    metrics[\"ess\"] = ess\n",
    "\n",
    "    xs_pred = xs_pred[-trunc_chain_len:]\n",
    "    print(xs_true.shape)\n",
    "    print(xs_pred.shape)\n",
    "\n",
    "    tracker = average_total_variation(\n",
    "        key,\n",
    "        xs_true,\n",
    "        xs_pred,\n",
    "        n_steps=n_steps,\n",
    "        n_samples=n_samples,\n",
    "    )\n",
    "\n",
    "    metrics[\"tv_mean\"] = tracker.mean()\n",
    "    metrics[\"tv_conf_sigma\"] = tracker.std_of_mean()\n",
    "\n",
    "    mean = tracker.mean()\n",
    "    std = tracker.std()\n",
    "\n",
    "    metrics[\"emd\"] = 0\n",
    "    #Cost_matr_isir = ot.dist(x1 = isir_res[j][i], x2=gt_samples[i], metric='sqeuclidean', p=2, w=None)\n",
    "    for b in range(xs_pred.shape[1]):\n",
    "        M = ot.dist(xs_true / scale, xs_pred[:, b,:] / scale)\n",
    "        emd = ot.lp.emd2([], [], M, numItermax = 1e6)\n",
    "        metrics[\"emd\"] += emd / xs_pred.shape[1]\n",
    "\n",
    "    if name is not None:\n",
    "        print(f\"===={name}====\")\n",
    "    print(\n",
    "        f\"TV distance. Mean: {mean:.3f}, Std: {std:.3f}. \\nESS: {ess:.3f} \\nEMD: {emd:.3f}\",\n",
    "    )\n",
    "\n",
    "    return metrics"
   ]
  },
  {
   "cell_type": "code",
   "execution_count": null,
   "id": "e62fb19f",
   "metadata": {
    "id": "e62fb19f"
   },
   "outputs": [],
   "source": [
    "def plot_metrics(metrics, ndims, savepath=None, scale=1.0, colors=None):\n",
    "    axs_names = [\"Sliced TV\", \"ESS\", \"EMD ratio\"]  # (on scaled data)']\n",
    "    ncols = len(axs_names)\n",
    "\n",
    "    figs = []\n",
    "    axs = []\n",
    "    for _ in range(ncols):\n",
    "        fig, ax = plt.subplots(ncols=1, nrows=1, figsize=(6, 6))\n",
    "        figs.append(fig)\n",
    "        axs.append(ax)\n",
    "\n",
    "    mala_emd = metrics['MALA']['emd']\n",
    "    \n",
    "    for (name, res), color in zip(metrics.items(), colors):\n",
    "        for k, v in res.items():\n",
    "            res[k] = np.array(v)\n",
    "\n",
    "        arr = res[\"tv_mean\"]\n",
    "        axs[0].plot(ndims, arr, label=name, marker=\"o\", color=color)\n",
    "\n",
    "        axs[0].fill_between(\n",
    "            ndims,\n",
    "            res[\"tv_mean\"] - 1.96 * res[\"tv_conf_sigma\"],\n",
    "            res[\"tv_mean\"] + 1.96 * res[\"tv_conf_sigma\"],\n",
    "            alpha=0.2,\n",
    "        )\n",
    "\n",
    "        arr = res[\"ess\"]\n",
    "        axs[1].plot(ndims, arr, label=name, marker=\"o\", color=color)\n",
    "\n",
    "        if name != 'MALA':\n",
    "            arr = mala_emd / res[\"emd\"]\n",
    "            axs[2].plot(ndims, arr, label=name, marker=\"o\", color=color)\n",
    "        #axs[2].set_yscale(\"log\")\n",
    "\n",
    "    for ax, fig, name in zip(axs, figs, axs_names):\n",
    "        ax.grid()\n",
    "        ax.set_title(name.split(' ')[0])\n",
    "        ax.set_xlabel(\"dim\")\n",
    "        if name == \"EMD ratio\":\n",
    "            ax.legend()\n",
    "\n",
    "        fig.tight_layout()\n",
    "\n",
    "        if savepath is not None:\n",
    "            fig.savefig(Path(savepath, f\"{name}.pdf\"))"
   ]
  },
  {
   "cell_type": "code",
   "execution_count": null,
   "id": "0451eea7",
   "metadata": {
    "id": "0451eea7"
   },
   "outputs": [],
   "source": [
    "n_steps = 1\n",
    "dist = \"banana\"\n",
    "dim = 100\n",
    "scale_proposal = 1.\n",
    "scale_isir = 5.\n",
    "dist_class = \"Banana\"\n",
    "dist_params = {\n",
    "    \"b\": 0.02,\n",
    "    \"sigma\":5.0,\n",
    "}\n",
    "sigma = 5.0\n",
    "b = 0.02"
   ]
  },
  {
   "cell_type": "code",
   "execution_count": null,
   "id": "2e8ad069",
   "metadata": {
    "id": "2e8ad069"
   },
   "outputs": [],
   "source": [
    "device = \"cuda\"\n",
    "#method_metric_dict = defaultdict(lambda: defaultdict(list))"
   ]
  },
  {
   "cell_type": "code",
   "execution_count": null,
   "id": "309bf3de",
   "metadata": {
    "id": "309bf3de"
   },
   "outputs": [],
   "source": [
    "target = Banana(\n",
    "                dim=dim,\n",
    "                device=device,\n",
    "                b = b,\n",
    "                sigma = sigma,\n",
    "                #b = b\n",
    "                #**dist_params.dict,\n",
    ")\n",
    "\n",
    "loc_proposal = torch.zeros(dim).to(device)\n",
    "scale_proposal = scale_proposal * torch.ones(dim).to(device)\n",
    "scale_isir = scale_isir * torch.ones(dim).to(device)\n",
    "\n",
    "proposal = IndependentNormal(\n",
    "    dim=dim,\n",
    "    loc=loc_proposal,\n",
    "    scale=scale_proposal,\n",
    "    device=device,\n",
    ")\n",
    "\n",
    "proposal_ex2 = IndependentNormal(\n",
    "    dim=dim,\n",
    "    loc=loc_proposal,\n",
    "    scale=scale_isir,\n",
    "    device=device,\n",
    ")"
   ]
  },
  {
   "cell_type": "markdown",
   "id": "ccb93c3e",
   "metadata": {
    "id": "ccb93c3e"
   },
   "source": [
    "### Generate ground-truth samples"
   ]
  },
  {
   "cell_type": "code",
   "execution_count": null,
   "id": "f6bf6e44",
   "metadata": {
    "id": "f6bf6e44"
   },
   "outputs": [],
   "source": [
    "N_samples = 2*10**3\n",
    "np.random.seed(42)\n",
    "True_samples = np.random.randn(N_samples,dim)\n",
    "for i in range(dim):\n",
    "    if i % 2 == 0:\n",
    "      True_samples[:,i] *= sigma\n",
    "    else:\n",
    "      True_samples[:,i] += b*True_samples[:,i-1]**2 - (sigma**2)*b"
   ]
  },
  {
   "cell_type": "code",
   "execution_count": null,
   "id": "4f23fb68",
   "metadata": {
    "colab": {
     "base_uri": "https://localhost:8080/",
     "height": 281
    },
    "id": "4f23fb68",
    "outputId": "b07c1f72-ff87-4d11-cca8-18007445e5d7"
   },
   "outputs": [
    {
     "data": {
      "image/png": "[encoded data removed]",
      "text/plain": [
       "<Figure size 432x288 with 1 Axes>"
      ]
     },
     "metadata": {
      "needs_background": "light"
     },
     "output_type": "display_data"
    }
   ],
   "source": [
    "fig,ax=plt.subplots(1,1)\n",
    "#cp = ax.contourf(X, Y, dens_vals)\n",
    "#fig.colorbar(cp) # Add a colorbar to a plot\n",
    "ax.scatter(True_samples[:,2],True_samples[:,3])\n",
    "ax.set_title('Ground truth samples')\n",
    "#ax.set_xlabel('x (cm)')\n",
    "ax.set_ylabel('y (cm)')\n",
    "plt.show()"
   ]
  },
  {
   "cell_type": "markdown",
   "id": "2d7c4763",
   "metadata": {
    "id": "2d7c4763"
   },
   "source": [
    "### Sample with NUTS"
   ]
  },
  {
   "cell_type": "code",
   "execution_count": null,
   "id": "b663fb4b",
   "metadata": {
    "id": "b663fb4b"
   },
   "outputs": [],
   "source": [
    "#samples to compute ground-truth metrics\n",
    "Nuts_samples_ground_truth = 2000\n",
    "#Nuts_samples_comparison\n",
    "trunc_chain_len = 1000\n",
    "#nuts samples burn_in\n",
    "nuts_burn_in = 500\n",
    "#nuts batch size\n",
    "nuts_batch = 1"
   ]
  },
  {
   "cell_type": "markdown",
   "id": "1f5f78d4",
   "metadata": {
    "id": "1f5f78d4"
   },
   "source": [
    "### Generate ground-truth samples (with NUTS)"
   ]
  },
  {
   "cell_type": "code",
   "execution_count": null,
   "id": "d789c9e9",
   "metadata": {
    "id": "d789c9e9"
   },
   "outputs": [],
   "source": [
    "#samples_true = sample_nuts(\n",
    "#                target,\n",
    "#                proposal,\n",
    "#                num_samples=Nuts_samples_ground_truth,#config.trunc_chain_len,\n",
    "#                batch_size=nuts_batch, #config.batch_size\n",
    "#)[:, 0, :]\n",
    "#print(samples_true.shape)"
   ]
  },
  {
   "cell_type": "code",
   "execution_count": null,
   "id": "bc757f25",
   "metadata": {
    "colab": {
     "base_uri": "https://localhost:8080/"
    },
    "id": "bc757f25",
    "outputId": "43a5d9da-bb5d-4f8a-d6b6-1bf6a0cb286e"
   },
   "outputs": [
    {
     "name": "stdout",
     "output_type": "stream",
     "text": [
      "torch.Size([1, 50])\n"
     ]
    },
    {
     "name": "stderr",
     "output_type": "stream",
     "text": [
      "Sample: 100%|██████████| 1500/1500 [03:02,  8.20it/s, step size=8.42e-02, acc. prob=0.912]"
     ]
    },
    {
     "name": "stdout",
     "output_type": "stream",
     "text": [
      "(1000, 1, 50)\n"
     ]
    },
    {
     "name": "stderr",
     "output_type": "stream",
     "text": [
      "\n"
     ]
    }
   ],
   "source": [
    "rand_seed = 42\n",
    "time_nuts, sample_nuts_ref = sample_nuts(\n",
    "                target,\n",
    "                proposal,\n",
    "                device,\n",
    "                num_samples=trunc_chain_len,\n",
    "                batch_size=nuts_batch,\n",
    "                burn_in=nuts_burn_in,\n",
    "                rand_seed = rand_seed\n",
    ")\n",
    "print(sample_nuts_ref.shape)"
   ]
  },
  {
   "cell_type": "code",
   "execution_count": null,
   "id": "c25210ad",
   "metadata": {
    "colab": {
     "base_uri": "https://localhost:8080/",
     "height": 281
    },
    "id": "c25210ad",
    "outputId": "fe65e745-7764-4679-f98e-0c08d2922f5a"
   },
   "outputs": [
    {
     "data": {
      "image/png": "[encoded data removed]",
      "text/plain": [
       "<Figure size 432x288 with 1 Axes>"
      ]
     },
     "metadata": {
      "needs_background": "light"
     },
     "output_type": "display_data"
    }
   ],
   "source": [
    "fig,ax=plt.subplots(1,1)\n",
    "ax.scatter(sample_nuts_ref[:,0,0],sample_nuts_ref[:,0,1])\n",
    "ax.set_title('NUTS samples')\n",
    "#ax.set_xlabel('x (cm)')\n",
    "ax.set_ylabel('y (cm)')\n",
    "plt.show()"
   ]
  },
  {
   "cell_type": "code",
   "execution_count": null,
   "id": "6147e47f",
   "metadata": {
    "colab": {
     "base_uri": "https://localhost:8080/",
     "height": 124,
     "referenced_widgets": [
      "3d378aa54c2f436e8349470427419216",
      "31f91ee4cd7144f69412678d58b7bfa9",
      "f21fd4150ad749738bd242186235c311",
      "e8208311ee474331b02f15bcc90f0c95",
      "87d45eadfa274b00931d79166cb67592",
      "344fe94af8fd4ee2ad6706eb15c55a4e",
      "fa43cbec1f434b519b415de19d25fb8a",
      "d35e74085d554fda85c4ec486d9a8d72",
      "ad154756b47a4403a79ab13900096f44",
      "5646c4ee50ab4d2e95852cf29164bf92",
      "b7e31e870c754c29902752389de49ec1"
     ]
    },
    "id": "6147e47f",
    "outputId": "16cc3971-fb42-4604-9f4c-ed5d7877ebc0"
   },
   "outputs": [
    {
     "name": "stdout",
     "output_type": "stream",
     "text": [
      "(5000, 50)\n",
      "(1000, 1, 50)\n"
     ]
    },
    {
     "data": {
      "application/vnd.jupyter.widget-view+json": {
       "model_id": "3d378aa54c2f436e8349470427419216",
       "version_major": 2,
       "version_minor": 0
      },
      "text/plain": [
       "  0%|          | 0/25 [00:00<?, ?it/s]"
      ]
     },
     "metadata": {},
     "output_type": "display_data"
    },
    {
     "name": "stdout",
     "output_type": "stream",
     "text": [
      "====NUTS====\n",
      "TV distance. Mean: 0.034, Std: 0.007. \n",
      "ESS: 0.191 \n",
      "EMD: 2462.571\n"
     ]
    }
   ],
   "source": [
    "metrics = compute_metrics(\n",
    "                    True_samples,\n",
    "                    sample_nuts_ref,\n",
    "                    name=\"NUTS\",\n",
    "                    trunc_chain_len=trunc_chain_len,\n",
    "                    ess_rar=1,\n",
    ")"
   ]
  },
  {
   "cell_type": "markdown",
   "id": "d4c58b7c",
   "metadata": {
    "id": "d4c58b7c"
   },
   "source": [
    "### Sample with Ex2MCMC"
   ]
  },
  {
   "cell_type": "code",
   "execution_count": null,
   "id": "a6e1a1b7",
   "metadata": {
    "id": "a6e1a1b7"
   },
   "outputs": [],
   "source": [
    "params = {\n",
    "      \"N\": 200,\n",
    "      \"grad_step\": 0.1,\n",
    "      \"adapt_stepsize\": True, #True\n",
    "      \"corr_coef\": 0.0,\n",
    "      \"bernoulli_prob_corr\": 0.0, #0.75\n",
    "      \"mala_steps\": 3\n",
    "}\n",
    "        \n",
    "n_steps_ex2 = 5000\n",
    "batch_size = 1"
   ]
  },
  {
   "cell_type": "code",
   "execution_count": null,
   "id": "68680fc4",
   "metadata": {
    "colab": {
     "base_uri": "https://localhost:8080/"
    },
    "id": "68680fc4",
    "outputId": "d4f90692-b4e4-4d3b-d6a4-a951e19dcd34"
   },
   "outputs": [
    {
     "name": "stdout",
     "output_type": "stream",
     "text": [
      "tensor([[  9.9913,   9.9050,   7.2289,   9.9065,   5.9921,   7.5368,   6.1781,\n",
      "         -10.9405,  -0.6787,   3.3785, -12.3315,  -1.9842,   1.5407,   0.2900,\n",
      "           1.1881,   1.2645,   8.2558,  -6.7373,  -4.7210,  -1.9920,  -1.2510,\n",
      "           3.2862,  -7.0136,   2.8805,  -6.3104,  -5.0820,   2.9485,   5.6374,\n",
      "          -4.9450,  -9.5301,   4.8711,   3.3871,  -3.0672,   5.4622,   0.1409,\n",
      "           3.1283,  -2.9928,  -7.0726,  -8.1188, -11.9510,  -1.1162,  -3.0334,\n",
      "          -6.6033,  -4.4382,  -5.9257,  -2.7591,   3.8157,   5.6175,   3.5981,\n",
      "          -7.4200,  -2.6217,   2.2143,   3.2860,  -4.3273,  -1.0528,   9.8987,\n",
      "           4.7667,  -3.9605,   2.4402,  -1.7367,  -2.4408,  -3.5202,   6.6920,\n",
      "           5.5682,  -1.5166,  -7.3930,  -0.7541,  -0.8745,  -4.1083,  -0.6844,\n",
      "           3.8512,  -7.9397,  -8.8802,   6.4396,   6.2308,   7.8404,  -1.9925,\n",
      "           3.9823,  -1.6386,   2.5123,   1.2303,  -7.7075,  -5.9574,   2.2589,\n",
      "           2.3658,  -7.5864,   2.7209,   3.9775,  -0.1804,   2.2103,  -3.4689,\n",
      "          -5.5915,  -0.7732,  -1.9519,  12.5583,  11.4481,  -1.1863,  -5.7941,\n",
      "          -2.8140,   8.0896]], device='cuda:0')\n"
     ]
    },
    {
     "name": "stderr",
     "output_type": "stream",
     "text": [
      "100%|██████████| 5000/5000 [00:06<00:00, 793.96it/s]"
     ]
    },
    {
     "name": "stdout",
     "output_type": "stream",
     "text": [
      "tensor([0.])\n",
      "(5000, 100)\n"
     ]
    },
    {
     "name": "stderr",
     "output_type": "stream",
     "text": [
      "\n"
     ]
    }
   ],
   "source": [
    "mcmc = Ex2MCMC(**params, dim=dim)\n",
    "pyro.set_rng_seed(43)\n",
    "start = proposal_ex2.sample((batch_size,)).to(device)\n",
    "print(start)\n",
    "# s = time.time()\n",
    "out = mcmc(start, target, proposal_ex2, n_steps = n_steps_ex2)\n",
    "print(out[1])\n",
    "if isinstance(out, tuple):\n",
    "    sample = out[0]\n",
    "else:\n",
    "    sample = out\n",
    "sample = np.array(\n",
    "    [_.detach().numpy() for _ in sample],\n",
    ").reshape(-1, batch_size, dim)\n",
    "sample_ex2_final = sample[:,0,:]\n",
    "print(sample_ex2_final.shape)"
   ]
  },
  {
   "cell_type": "code",
   "execution_count": null,
   "id": "0b327d4b",
   "metadata": {
    "colab": {
     "base_uri": "https://localhost:8080/",
     "height": 281
    },
    "id": "0b327d4b",
    "outputId": "015d6fa8-1039-43e5-d1a9-4950767eff88"
   },
   "outputs": [
    {
     "data": {
      "image/png": "[encoded data removed]",
      "text/plain": [
       "<Figure size 432x288 with 1 Axes>"
      ]
     },
     "metadata": {
      "needs_background": "light"
     },
     "output_type": "display_data"
    }
   ],
   "source": [
    "fig,ax=plt.subplots(1,1)\n",
    "ax.scatter(sample_ex2_final[:,0],sample_ex2_final[:,1])\n",
    "ax.set_title('Ex2 samples')\n",
    "#ax.set_xlabel('x (cm)')\n",
    "ax.set_ylabel('y (cm)')\n",
    "plt.show()"
   ]
  },
  {
   "cell_type": "markdown",
   "id": "0023c116",
   "metadata": {
    "id": "0023c116"
   },
   "source": [
    "### Sample with Flex2MCMC (adaptive version)"
   ]
  },
  {
   "cell_type": "code",
   "execution_count": null,
   "id": "33583bca",
   "metadata": {
    "id": "33583bca"
   },
   "outputs": [],
   "source": [
    "params_flex = {\n",
    "      \"N\": 200,\n",
    "      \"grad_step\": 0.2,\n",
    "      \"adapt_stepsize\": True,\n",
    "      \"corr_coef\": 0.0,\n",
    "      \"bernoulli_prob_corr\": 0.0,\n",
    "      \"mala_steps\": 0,\n",
    "    \"flow\": {\n",
    "      \"num_flows\": 4, # number of normalizing layers \n",
    "      \"lr\": 1e-3, # learning rate \n",
    "      \"batch_size\": 100,\n",
    "      \"n_steps\": 800,\n",
    "    }\n",
    "}\n",
    "batch_size = 1\n",
    "torch.cuda.empty_cache()"
   ]
  },
  {
   "cell_type": "code",
   "execution_count": null,
   "id": "6d5d2d67",
   "metadata": {
    "colab": {
     "base_uri": "https://localhost:8080/"
    },
    "id": "6d5d2d67",
    "outputId": "cda79eb5-f457-4d80-a92e-8b9560d8fd1a"
   },
   "outputs": [
    {
     "name": "stderr",
     "output_type": "stream",
     "text": [
      "100%|██████████| 800/800 [00:26<00:00, 30.28it/s]\n"
     ]
    }
   ],
   "source": [
    "pyro.set_rng_seed(47)\n",
    "mcmc = Ex2MCMC(**params_flex, dim=dim)\n",
    "verbose = mcmc.verbose\n",
    "mcmc.verbose = False\n",
    "flow = RNVP(params_flex[\"flow\"][\"num_flows\"], dim=dim, device = device)\n",
    "flow_mcmc = FlowMCMC(\n",
    "    target,\n",
    "    proposal,\n",
    "    device,\n",
    "    flow,\n",
    "    mcmc,\n",
    "    batch_size=params_flex[\"flow\"][\"batch_size\"],\n",
    "    lr=params_flex[\"flow\"][\"lr\"],\n",
    ")\n",
    "flow.train()\n",
    "out_samples, nll = flow_mcmc.train(\n",
    "    n_steps=params_flex[\"flow\"][\"n_steps\"],\n",
    ")\n",
    "assert not torch.isnan(\n",
    "    next(flow.parameters())[0, 0],\n",
    ").item()\n",
    "gc.collect()\n",
    "torch.cuda.empty_cache()\n",
    "flow.eval()\n",
    "mcmc.flow = flow\n",
    "mcmc.verbose = verbose"
   ]
  },
  {
   "cell_type": "code",
   "execution_count": null,
   "id": "0952eff0",
   "metadata": {
    "colab": {
     "base_uri": "https://localhost:8080/"
    },
    "id": "0952eff0",
    "outputId": "ec8da191-4eed-4add-975c-66d936aefc4b"
   },
   "outputs": [
    {
     "name": "stderr",
     "output_type": "stream",
     "text": [
      "100%|██████████| 2000/2000 [00:13<00:00, 148.48it/s]\n",
      "100%|██████████| 2000/2000 [00:50<00:00, 39.86it/s]"
     ]
    },
    {
     "name": "stdout",
     "output_type": "stream",
     "text": [
      "tensor([0.5018])\n",
      "(2000, 1, 100)\n"
     ]
    },
    {
     "name": "stderr",
     "output_type": "stream",
     "text": [
      "\n"
     ]
    }
   ],
   "source": [
    "#sample from a normalizing flow\n",
    "n_steps_flex2 = 2000\n",
    "batch_size = 1\n",
    "pyro.set_rng_seed(42)\n",
    "start = proposal.sample((batch_size,))\n",
    "mcmc.N = 200\n",
    "mcmc.mala_steps = 0\n",
    "mcmc.grad_step = 0.1\n",
    "# s = time.time()\n",
    "out = mcmc(start, target, proposal, n_steps = n_steps_flex2)\n",
    "if isinstance(out, tuple):\n",
    "    sample = out[0]\n",
    "else:\n",
    "    sample = out\n",
    "sample = np.array(\n",
    "    [_.detach().numpy() for _ in sample],\n",
    ").reshape(-1, batch_size, dim)\n",
    "sample_flex2_new = sample\n",
    "#resample with 0 mala steps\n",
    "torch.cuda.empty_cache()\n",
    "mcmc.mala_steps = 5\n",
    "out_new = mcmc(start, target, proposal, n_steps = n_steps_flex2)\n",
    "print(out_new[1])\n",
    "out_new = out_new[0]\n",
    "out_new = np.array(\n",
    "    [_.detach().numpy() for _ in out_new],\n",
    ").reshape(-1, batch_size, dim)\n",
    "sample_flex2_final = out_new\n",
    "print(sample_flex2_final.shape)"
   ]
  },
  {
   "cell_type": "code",
   "execution_count": null,
   "id": "NIGQIiKht2X_",
   "metadata": {
    "id": "NIGQIiKht2X_"
   },
   "outputs": [],
   "source": []
  },
  {
   "cell_type": "code",
   "execution_count": null,
   "id": "Ims3ko1EQ4Zq",
   "metadata": {
    "colab": {
     "base_uri": "https://localhost:8080/",
     "height": 281
    },
    "id": "Ims3ko1EQ4Zq",
    "outputId": "f86d42cf-16be-4105-a77b-5df412539dad"
   },
   "outputs": [
    {
     "data": {
      "image/png": "[encoded data removed]",
      "text/plain": [
       "<Figure size 432x288 with 1 Axes>"
      ]
     },
     "metadata": {
      "needs_background": "light"
     },
     "output_type": "display_data"
    }
   ],
   "source": [
    "fig,ax=plt.subplots(1,1)\n",
    "ax.scatter(sample_flex2_new[:,0,0],sample_flex2_new[:,0,1],alpha = 0.5)\n",
    "ax.set_title('Adaptive i-sir samples')\n",
    "#ax.set_xlabel('x (cm)')\n",
    "ax.set_ylabel('y (cm)')\n",
    "#ax.set_yscale('log')\n",
    "plt.show()"
   ]
  },
  {
   "cell_type": "code",
   "execution_count": null,
   "id": "i4zBGThWRZSH",
   "metadata": {
    "colab": {
     "base_uri": "https://localhost:8080/",
     "height": 124,
     "referenced_widgets": [
      "1262e18fdc3a4f96a711269dbce7f199",
      "2681eab477c54d249a6d3a5e761a9db6",
      "780acb05cd904f39b8ca5fb99dc2fb2b",
      "2b38bac228b845178abd9e02e2edc3ba",
      "df4b27f8635c44468407f48616ebf7e3",
      "ffda0162e55b4624ac91ecfecfe41108",
      "30f0bd911d674dbab39a522c991bc413",
      "ab6cefbcc52645189a1edce615f83f44",
      "b579311d2ef74f3eb9b8597c275659ed",
      "974e2bafadd24096b46f16b47cf645cd",
      "e1d97ffc33394585b5119b7fe89e013f"
     ]
    },
    "id": "i4zBGThWRZSH",
    "outputId": "2a085f5d-dd2e-4ae4-a139-d7e28c156ec8"
   },
   "outputs": [
    {
     "name": "stdout",
     "output_type": "stream",
     "text": [
      "(2000, 100)\n",
      "(1000, 1, 100)\n"
     ]
    },
    {
     "data": {
      "application/vnd.jupyter.widget-view+json": {
       "model_id": "1262e18fdc3a4f96a711269dbce7f199",
       "version_major": 2,
       "version_minor": 0
      },
      "text/plain": [
       "  0%|          | 0/25 [00:00<?, ?it/s]"
      ]
     },
     "metadata": {},
     "output_type": "display_data"
    },
    {
     "name": "stdout",
     "output_type": "stream",
     "text": [
      "====Adaptive i-sir====\n",
      "TV distance. Mean: 0.370, Std: 0.045. \n",
      "ESS: 0.057 \n",
      "EMD: 1989.711\n"
     ]
    }
   ],
   "source": [
    "trunc_chain_len = 1000\n",
    "metrics = compute_metrics(\n",
    "                    True_samples,\n",
    "                    sample_flex2_new,\n",
    "                    name=\"Adaptive i-sir\",\n",
    "                    trunc_chain_len=trunc_chain_len,\n",
    "                    ess_rar=1,\n",
    ")"
   ]
  },
  {
   "cell_type": "code",
   "execution_count": null,
   "id": "18619667",
   "metadata": {
    "colab": {
     "base_uri": "https://localhost:8080/",
     "height": 281
    },
    "id": "18619667",
    "outputId": "e5a91f1d-2380-47e7-9e5b-5d4f524466ff"
   },
   "outputs": [
    {
     "data": {
      "image/png": "[encoded data removed]",
      "text/plain": [
       "<Figure size 432x288 with 1 Axes>"
      ]
     },
     "metadata": {
      "needs_background": "light"
     },
     "output_type": "display_data"
    }
   ],
   "source": [
    "fig,ax=plt.subplots(1,1)\n",
    "ax.scatter(sample_flex2_final[:,0,0],sample_flex2_final[:,0,1],alpha = 0.5)\n",
    "ax.set_title('Flex2 samples')\n",
    "#ax.set_xlabel('x (cm)')\n",
    "ax.set_ylabel('y (cm)')\n",
    "#ax.set_yscale('log')\n",
    "plt.show()"
   ]
  },
  {
   "cell_type": "code",
   "execution_count": null,
   "id": "e4f33400",
   "metadata": {
    "colab": {
     "base_uri": "https://localhost:8080/",
     "height": 124,
     "referenced_widgets": [
      "3b4e03ceb73a4cee8c77b55abb8619bb",
      "83935cecc9174e3fbe1e7a2df040f64d",
      "d8a11bd9066145339abc00491ddf5f02",
      "b388fe25f3ef4860b018261820705ee8",
      "35f5ba7dcd1340de912cfcd7f9c4398e",
      "23468f17c2bc473baaa6b25ba1e0c883",
      "6a821807170d4c099ab034938b632ff1",
      "17a25dfbc5304849928043f937542891",
      "34817fa9d4094fc482c5394e9dd166e3",
      "80e7ed0d2fb64da4a41ba940d2ad6ba7",
      "ec86e118988448c99e97785a2f8a675d"
     ]
    },
    "id": "e4f33400",
    "outputId": "91c42ad3-244d-4b28-8642-88affe9918ff"
   },
   "outputs": [
    {
     "name": "stdout",
     "output_type": "stream",
     "text": [
      "(2000, 100)\n",
      "(1000, 1, 100)\n"
     ]
    },
    {
     "data": {
      "application/vnd.jupyter.widget-view+json": {
       "model_id": "3b4e03ceb73a4cee8c77b55abb8619bb",
       "version_major": 2,
       "version_minor": 0
      },
      "text/plain": [
       "  0%|          | 0/25 [00:00<?, ?it/s]"
      ]
     },
     "metadata": {},
     "output_type": "display_data"
    },
    {
     "name": "stdout",
     "output_type": "stream",
     "text": [
      "====Flex2====\n",
      "TV distance. Mean: 0.051, Std: 0.016. \n",
      "ESS: 0.222 \n",
      "EMD: 1635.716\n"
     ]
    }
   ],
   "source": [
    "metrics = compute_metrics(\n",
    "                    True_samples,\n",
    "                    sample_flex2_final,\n",
    "                    name=\"Flex2\",\n",
    "                    trunc_chain_len=trunc_chain_len,\n",
    "                    ess_rar=1,\n",
    ")"
   ]
  },
  {
   "cell_type": "code",
   "execution_count": null,
   "id": "b0b7c146",
   "metadata": {
    "colab": {
     "base_uri": "https://localhost:8080/",
     "height": 246
    },
    "id": "b0b7c146",
    "outputId": "0c8b9fc1-c924-4f27-f62d-f34404308c3a"
   },
   "outputs": [
    {
     "data": {
      "image/png": "[encoded data removed]",
      "text/plain": [
       "<Figure size 864x288 with 2 Axes>"
      ]
     },
     "metadata": {
      "needs_background": "light"
     },
     "output_type": "display_data"
    }
   ],
   "source": [
    "fig,ax=plt.subplots(1,2,figsize=(12,4))\n",
    "ax[0].scatter(True_samples[:,0],True_samples[:,1],c='#ff7f0e', alpha = 0.7, label = \"True samples\")\n",
    "ax[0].scatter(sample_flex2_final[:,0,0],sample_flex2_final[:,0,1],c='#1f77b4', alpha = 0.7, label = \"Flex$^2$MCMC, 5 MALA steps\")\n",
    "#ax.scatter(sample_ex2_final[:,0],sample_ex2_final[:,1],c='#ff7f0e',label = \"Ex2 samples\")\n",
    "#ax[0].set_title('All samples')\n",
    "ax[0].set_xlabel('x_1')\n",
    "ax[0].set_ylabel('x_2')\n",
    "ax[0].legend(fontsize=14)\n",
    "#ax.set_yscale('log')\n",
    "#plt.legend()\n",
    "#plt.show()\n",
    "#ax.scatter(sample_flex2_final[:,0,0],sample_flex2_final[:,0,1],c='#1f77b4',label = \"Flex samples\")\n",
    "#ax.scatter(sample_ex2_final[:,0],sample_ex2_final[:,1],c='#ff7f0e',label = \"Ex2 samples\")\n",
    "ax[1].scatter(True_samples[:,0],True_samples[:,1],c='#ff7f0e', alpha = 0.7, label = \"True samples\")\n",
    "ax[1].scatter(sample_flex2_new[:,0,0],sample_flex2_new[:,0,1],c='#1f77b4', alpha = 0.7, label = \"Adaptive i-SIR algorithm\")\n",
    "#ax[1].set_title('All samples')\n",
    "ax[1].set_xlabel('x_1')\n",
    "ax[1].set_ylabel('x_2')\n",
    "#ax.set_yscale('log')\n",
    "plt.legend(fontsize=14)\n",
    "#plt.savefig(Path(\n",
    "#        \"./\",\n",
    "#        f\"flow_funnel_samples_dim_{dim}_var_2_N_{mcmc.N}_mala_{mcmc.mala_steps}.pdf\",\n",
    "#        ), format=\"pdf\", bbox_inches=\"tight\") \n",
    "plt.savefig(\"banana_visualize_d_100.png\",format=\"png\", bbox_inches=\"tight\")\n",
    "plt.show()"
   ]
  },
  {
   "cell_type": "code",
   "execution_count": null,
   "id": "0801a863",
   "metadata": {
    "id": "0801a863"
   },
   "outputs": [],
   "source": []
  }
 ],
 "metadata": {
  "accelerator": "GPU",
  "colab": {
   "collapsed_sections": [],
   "name": "Копия блокнота \"Копия блокнота \"sample_funnel_distribution.ipynb\"\"",
   "provenance": []
  },
  "kernelspec": {
   "display_name": "Python 3",
   "language": "python",
   "name": "python3"
  },
  "language_info": {
   "codemirror_mode": {
    "name": "ipython",
    "version": 3
   },
   "file_extension": ".py",
   "mimetype": "text/x-python",
   "name": "python",
   "nbconvert_exporter": "python",
   "pygments_lexer": "ipython3",
   "version": "3.7.11"
  },
  "widgets": {
   "application/vnd.jupyter.widget-state+json": {
    "1262e18fdc3a4f96a711269dbce7f199": {
     "model_module": "@jupyter-widgets/controls",
     "model_module_version": "1.5.0",
     "model_name": "HBoxModel",
     "state": {
      "_dom_classes": [],
      "_model_module": "@jupyter-widgets/controls",
      "_model_module_version": "1.5.0",
      "_model_name": "HBoxModel",
      "_view_count": null,
      "_view_module": "@jupyter-widgets/controls",
      "_view_module_version": "1.5.0",
      "_view_name": "HBoxView",
      "box_style": "",
      "children": [
       "IPY_MODEL_2681eab477c54d249a6d3a5e761a9db6",
       "IPY_MODEL_780acb05cd904f39b8ca5fb99dc2fb2b",
       "IPY_MODEL_2b38bac228b845178abd9e02e2edc3ba"
      ],
      "layout": "IPY_MODEL_df4b27f8635c44468407f48616ebf7e3"
     }
    },
    "17a25dfbc5304849928043f937542891": {
     "model_module": "@jupyter-widgets/base",
     "model_module_version": "1.2.0",
     "model_name": "LayoutModel",
     "state": {
      "_model_module": "@jupyter-widgets/base",
      "_model_module_version": "1.2.0",
      "_model_name": "LayoutModel",
      "_view_count": null,
      "_view_module": "@jupyter-widgets/base",
      "_view_module_version": "1.2.0",
      "_view_name": "LayoutView",
      "align_content": null,
      "align_items": null,
      "align_self": null,
      "border": null,
      "bottom": null,
      "display": null,
      "flex": null,
      "flex_flow": null,
      "grid_area": null,
      "grid_auto_columns": null,
      "grid_auto_flow": null,
      "grid_auto_rows": null,
      "grid_column": null,
      "grid_gap": null,
      "grid_row": null,
      "grid_template_areas": null,
      "grid_template_columns": null,
      "grid_template_rows": null,
      "height": null,
      "justify_content": null,
      "justify_items": null,
      "left": null,
      "margin": null,
      "max_height": null,
      "max_width": null,
      "min_height": null,
      "min_width": null,
      "object_fit": null,
      "object_position": null,
      "order": null,
      "overflow": null,
      "overflow_x": null,
      "overflow_y": null,
      "padding": null,
      "right": null,
      "top": null,
      "visibility": null,
      "width": null
     }
    },
    "23468f17c2bc473baaa6b25ba1e0c883": {
     "model_module": "@jupyter-widgets/base",
     "model_module_version": "1.2.0",
     "model_name": "LayoutModel",
     "state": {
      "_model_module": "@jupyter-widgets/base",
      "_model_module_version": "1.2.0",
      "_model_name": "LayoutModel",
      "_view_count": null,
      "_view_module": "@jupyter-widgets/base",
      "_view_module_version": "1.2.0",
      "_view_name": "LayoutView",
      "align_content": null,
      "align_items": null,
      "align_self": null,
      "border": null,
      "bottom": null,
      "display": null,
      "flex": null,
      "flex_flow": null,
      "grid_area": null,
      "grid_auto_columns": null,
      "grid_auto_flow": null,
      "grid_auto_rows": null,
      "grid_column": null,
      "grid_gap": null,
      "grid_row": null,
      "grid_template_areas": null,
      "grid_template_columns": null,
      "grid_template_rows": null,
      "height": null,
      "justify_content": null,
      "justify_items": null,
      "left": null,
      "margin": null,
      "max_height": null,
      "max_width": null,
      "min_height": null,
      "min_width": null,
      "object_fit": null,
      "object_position": null,
      "order": null,
      "overflow": null,
      "overflow_x": null,
      "overflow_y": null,
      "padding": null,
      "right": null,
      "top": null,
      "visibility": null,
      "width": null
     }
    },
    "2681eab477c54d249a6d3a5e761a9db6": {
     "model_module": "@jupyter-widgets/controls",
     "model_module_version": "1.5.0",
     "model_name": "HTMLModel",
     "state": {
      "_dom_classes": [],
      "_model_module": "@jupyter-widgets/controls",
      "_model_module_version": "1.5.0",
      "_model_name": "HTMLModel",
      "_view_count": null,
      "_view_module": "@jupyter-widgets/controls",
      "_view_module_version": "1.5.0",
      "_view_name": "HTMLView",
      "description": "",
      "description_tooltip": null,
      "layout": "IPY_MODEL_ffda0162e55b4624ac91ecfecfe41108",
      "placeholder": "​",
      "style": "IPY_MODEL_30f0bd911d674dbab39a522c991bc413",
      "value": " 96%"
     }
    },
    "2b38bac228b845178abd9e02e2edc3ba": {
     "model_module": "@jupyter-widgets/controls",
     "model_module_version": "1.5.0",
     "model_name": "HTMLModel",
     "state": {
      "_dom_classes": [],
      "_model_module": "@jupyter-widgets/controls",
      "_model_module_version": "1.5.0",
      "_model_name": "HTMLModel",
      "_view_count": null,
      "_view_module": "@jupyter-widgets/controls",
      "_view_module_version": "1.5.0",
      "_view_name": "HTMLView",
      "description": "",
      "description_tooltip": null,
      "layout": "IPY_MODEL_974e2bafadd24096b46f16b47cf645cd",
      "placeholder": "​",
      "style": "IPY_MODEL_e1d97ffc33394585b5119b7fe89e013f",
      "value": " 24/25 [00:02&lt;00:00, 10.43it/s]"
     }
    },
    "30f0bd911d674dbab39a522c991bc413": {
     "model_module": "@jupyter-widgets/controls",
     "model_module_version": "1.5.0",
     "model_name": "DescriptionStyleModel",
     "state": {
      "_model_module": "@jupyter-widgets/controls",
      "_model_module_version": "1.5.0",
      "_model_name": "DescriptionStyleModel",
      "_view_count": null,
      "_view_module": "@jupyter-widgets/base",
      "_view_module_version": "1.2.0",
      "_view_name": "StyleView",
      "description_width": ""
     }
    },
    "31f91ee4cd7144f69412678d58b7bfa9": {
     "model_module": "@jupyter-widgets/controls",
     "model_module_version": "1.5.0",
     "model_name": "HTMLModel",
     "state": {
      "_dom_classes": [],
      "_model_module": "@jupyter-widgets/controls",
      "_model_module_version": "1.5.0",
      "_model_name": "HTMLModel",
      "_view_count": null,
      "_view_module": "@jupyter-widgets/controls",
      "_view_module_version": "1.5.0",
      "_view_name": "HTMLView",
      "description": "",
      "description_tooltip": null,
      "layout": "IPY_MODEL_344fe94af8fd4ee2ad6706eb15c55a4e",
      "placeholder": "​",
      "style": "IPY_MODEL_fa43cbec1f434b519b415de19d25fb8a",
      "value": "100%"
     }
    },
    "344fe94af8fd4ee2ad6706eb15c55a4e": {
     "model_module": "@jupyter-widgets/base",
     "model_module_version": "1.2.0",
     "model_name": "LayoutModel",
     "state": {
      "_model_module": "@jupyter-widgets/base",
      "_model_module_version": "1.2.0",
      "_model_name": "LayoutModel",
      "_view_count": null,
      "_view_module": "@jupyter-widgets/base",
      "_view_module_version": "1.2.0",
      "_view_name": "LayoutView",
      "align_content": null,
      "align_items": null,
      "align_self": null,
      "border": null,
      "bottom": null,
      "display": null,
      "flex": null,
      "flex_flow": null,
      "grid_area": null,
      "grid_auto_columns": null,
      "grid_auto_flow": null,
      "grid_auto_rows": null,
      "grid_column": null,
      "grid_gap": null,
      "grid_row": null,
      "grid_template_areas": null,
      "grid_template_columns": null,
      "grid_template_rows": null,
      "height": null,
      "justify_content": null,
      "justify_items": null,
      "left": null,
      "margin": null,
      "max_height": null,
      "max_width": null,
      "min_height": null,
      "min_width": null,
      "object_fit": null,
      "object_position": null,
      "order": null,
      "overflow": null,
      "overflow_x": null,
      "overflow_y": null,
      "padding": null,
      "right": null,
      "top": null,
      "visibility": null,
      "width": null
     }
    },
    "34817fa9d4094fc482c5394e9dd166e3": {
     "model_module": "@jupyter-widgets/controls",
     "model_module_version": "1.5.0",
     "model_name": "ProgressStyleModel",
     "state": {
      "_model_module": "@jupyter-widgets/controls",
      "_model_module_version": "1.5.0",
      "_model_name": "ProgressStyleModel",
      "_view_count": null,
      "_view_module": "@jupyter-widgets/base",
      "_view_module_version": "1.2.0",
      "_view_name": "StyleView",
      "bar_color": null,
      "description_width": ""
     }
    },
    "35f5ba7dcd1340de912cfcd7f9c4398e": {
     "model_module": "@jupyter-widgets/base",
     "model_module_version": "1.2.0",
     "model_name": "LayoutModel",
     "state": {
      "_model_module": "@jupyter-widgets/base",
      "_model_module_version": "1.2.0",
      "_model_name": "LayoutModel",
      "_view_count": null,
      "_view_module": "@jupyter-widgets/base",
      "_view_module_version": "1.2.0",
      "_view_name": "LayoutView",
      "align_content": null,
      "align_items": null,
      "align_self": null,
      "border": null,
      "bottom": null,
      "display": null,
      "flex": null,
      "flex_flow": null,
      "grid_area": null,
      "grid_auto_columns": null,
      "grid_auto_flow": null,
      "grid_auto_rows": null,
      "grid_column": null,
      "grid_gap": null,
      "grid_row": null,
      "grid_template_areas": null,
      "grid_template_columns": null,
      "grid_template_rows": null,
      "height": null,
      "justify_content": null,
      "justify_items": null,
      "left": null,
      "margin": null,
      "max_height": null,
      "max_width": null,
      "min_height": null,
      "min_width": null,
      "object_fit": null,
      "object_position": null,
      "order": null,
      "overflow": null,
      "overflow_x": null,
      "overflow_y": null,
      "padding": null,
      "right": null,
      "top": null,
      "visibility": null,
      "width": null
     }
    },
    "3b4e03ceb73a4cee8c77b55abb8619bb": {
     "model_module": "@jupyter-widgets/controls",
     "model_module_version": "1.5.0",
     "model_name": "HBoxModel",
     "state": {
      "_dom_classes": [],
      "_model_module": "@jupyter-widgets/controls",
      "_model_module_version": "1.5.0",
      "_model_name": "HBoxModel",
      "_view_count": null,
      "_view_module": "@jupyter-widgets/controls",
      "_view_module_version": "1.5.0",
      "_view_name": "HBoxView",
      "box_style": "",
      "children": [
       "IPY_MODEL_83935cecc9174e3fbe1e7a2df040f64d",
       "IPY_MODEL_d8a11bd9066145339abc00491ddf5f02",
       "IPY_MODEL_b388fe25f3ef4860b018261820705ee8"
      ],
      "layout": "IPY_MODEL_35f5ba7dcd1340de912cfcd7f9c4398e"
     }
    },
    "3d378aa54c2f436e8349470427419216": {
     "model_module": "@jupyter-widgets/controls",
     "model_module_version": "1.5.0",
     "model_name": "HBoxModel",
     "state": {
      "_dom_classes": [],
      "_model_module": "@jupyter-widgets/controls",
      "_model_module_version": "1.5.0",
      "_model_name": "HBoxModel",
      "_view_count": null,
      "_view_module": "@jupyter-widgets/controls",
      "_view_module_version": "1.5.0",
      "_view_name": "HBoxView",
      "box_style": "",
      "children": [
       "IPY_MODEL_31f91ee4cd7144f69412678d58b7bfa9",
       "IPY_MODEL_f21fd4150ad749738bd242186235c311",
       "IPY_MODEL_e8208311ee474331b02f15bcc90f0c95"
      ],
      "layout": "IPY_MODEL_87d45eadfa274b00931d79166cb67592"
     }
    },
    "5646c4ee50ab4d2e95852cf29164bf92": {
     "model_module": "@jupyter-widgets/base",
     "model_module_version": "1.2.0",
     "model_name": "LayoutModel",
     "state": {
      "_model_module": "@jupyter-widgets/base",
      "_model_module_version": "1.2.0",
      "_model_name": "LayoutModel",
      "_view_count": null,
      "_view_module": "@jupyter-widgets/base",
      "_view_module_version": "1.2.0",
      "_view_name": "LayoutView",
      "align_content": null,
      "align_items": null,
      "align_self": null,
      "border": null,
      "bottom": null,
      "display": null,
      "flex": null,
      "flex_flow": null,
      "grid_area": null,
      "grid_auto_columns": null,
      "grid_auto_flow": null,
      "grid_auto_rows": null,
      "grid_column": null,
      "grid_gap": null,
      "grid_row": null,
      "grid_template_areas": null,
      "grid_template_columns": null,
      "grid_template_rows": null,
      "height": null,
      "justify_content": null,
      "justify_items": null,
      "left": null,
      "margin": null,
      "max_height": null,
      "max_width": null,
      "min_height": null,
      "min_width": null,
      "object_fit": null,
      "object_position": null,
      "order": null,
      "overflow": null,
      "overflow_x": null,
      "overflow_y": null,
      "padding": null,
      "right": null,
      "top": null,
      "visibility": null,
      "width": null
     }
    },
    "6a821807170d4c099ab034938b632ff1": {
     "model_module": "@jupyter-widgets/controls",
     "model_module_version": "1.5.0",
     "model_name": "DescriptionStyleModel",
     "state": {
      "_model_module": "@jupyter-widgets/controls",
      "_model_module_version": "1.5.0",
      "_model_name": "DescriptionStyleModel",
      "_view_count": null,
      "_view_module": "@jupyter-widgets/base",
      "_view_module_version": "1.2.0",
      "_view_name": "StyleView",
      "description_width": ""
     }
    },
    "780acb05cd904f39b8ca5fb99dc2fb2b": {
     "model_module": "@jupyter-widgets/controls",
     "model_module_version": "1.5.0",
     "model_name": "FloatProgressModel",
     "state": {
      "_dom_classes": [],
      "_model_module": "@jupyter-widgets/controls",
      "_model_module_version": "1.5.0",
      "_model_name": "FloatProgressModel",
      "_view_count": null,
      "_view_module": "@jupyter-widgets/controls",
      "_view_module_version": "1.5.0",
      "_view_name": "ProgressView",
      "bar_style": "",
      "description": "",
      "description_tooltip": null,
      "layout": "IPY_MODEL_ab6cefbcc52645189a1edce615f83f44",
      "max": 25,
      "min": 0,
      "orientation": "horizontal",
      "style": "IPY_MODEL_b579311d2ef74f3eb9b8597c275659ed",
      "value": 25
     }
    },
    "80e7ed0d2fb64da4a41ba940d2ad6ba7": {
     "model_module": "@jupyter-widgets/base",
     "model_module_version": "1.2.0",
     "model_name": "LayoutModel",
     "state": {
      "_model_module": "@jupyter-widgets/base",
      "_model_module_version": "1.2.0",
      "_model_name": "LayoutModel",
      "_view_count": null,
      "_view_module": "@jupyter-widgets/base",
      "_view_module_version": "1.2.0",
      "_view_name": "LayoutView",
      "align_content": null,
      "align_items": null,
      "align_self": null,
      "border": null,
      "bottom": null,
      "display": null,
      "flex": null,
      "flex_flow": null,
      "grid_area": null,
      "grid_auto_columns": null,
      "grid_auto_flow": null,
      "grid_auto_rows": null,
      "grid_column": null,
      "grid_gap": null,
      "grid_row": null,
      "grid_template_areas": null,
      "grid_template_columns": null,
      "grid_template_rows": null,
      "height": null,
      "justify_content": null,
      "justify_items": null,
      "left": null,
      "margin": null,
      "max_height": null,
      "max_width": null,
      "min_height": null,
      "min_width": null,
      "object_fit": null,
      "object_position": null,
      "order": null,
      "overflow": null,
      "overflow_x": null,
      "overflow_y": null,
      "padding": null,
      "right": null,
      "top": null,
      "visibility": null,
      "width": null
     }
    },
    "83935cecc9174e3fbe1e7a2df040f64d": {
     "model_module": "@jupyter-widgets/controls",
     "model_module_version": "1.5.0",
     "model_name": "HTMLModel",
     "state": {
      "_dom_classes": [],
      "_model_module": "@jupyter-widgets/controls",
      "_model_module_version": "1.5.0",
      "_model_name": "HTMLModel",
      "_view_count": null,
      "_view_module": "@jupyter-widgets/controls",
      "_view_module_version": "1.5.0",
      "_view_name": "HTMLView",
      "description": "",
      "description_tooltip": null,
      "layout": "IPY_MODEL_23468f17c2bc473baaa6b25ba1e0c883",
      "placeholder": "​",
      "style": "IPY_MODEL_6a821807170d4c099ab034938b632ff1",
      "value": "100%"
     }
    },
    "87d45eadfa274b00931d79166cb67592": {
     "model_module": "@jupyter-widgets/base",
     "model_module_version": "1.2.0",
     "model_name": "LayoutModel",
     "state": {
      "_model_module": "@jupyter-widgets/base",
      "_model_module_version": "1.2.0",
      "_model_name": "LayoutModel",
      "_view_count": null,
      "_view_module": "@jupyter-widgets/base",
      "_view_module_version": "1.2.0",
      "_view_name": "LayoutView",
      "align_content": null,
      "align_items": null,
      "align_self": null,
      "border": null,
      "bottom": null,
      "display": null,
      "flex": null,
      "flex_flow": null,
      "grid_area": null,
      "grid_auto_columns": null,
      "grid_auto_flow": null,
      "grid_auto_rows": null,
      "grid_column": null,
      "grid_gap": null,
      "grid_row": null,
      "grid_template_areas": null,
      "grid_template_columns": null,
      "grid_template_rows": null,
      "height": null,
      "justify_content": null,
      "justify_items": null,
      "left": null,
      "margin": null,
      "max_height": null,
      "max_width": null,
      "min_height": null,
      "min_width": null,
      "object_fit": null,
      "object_position": null,
      "order": null,
      "overflow": null,
      "overflow_x": null,
      "overflow_y": null,
      "padding": null,
      "right": null,
      "top": null,
      "visibility": null,
      "width": null
     }
    },
    "974e2bafadd24096b46f16b47cf645cd": {
     "model_module": "@jupyter-widgets/base",
     "model_module_version": "1.2.0",
     "model_name": "LayoutModel",
     "state": {
      "_model_module": "@jupyter-widgets/base",
      "_model_module_version": "1.2.0",
      "_model_name": "LayoutModel",
      "_view_count": null,
      "_view_module": "@jupyter-widgets/base",
      "_view_module_version": "1.2.0",
      "_view_name": "LayoutView",
      "align_content": null,
      "align_items": null,
      "align_self": null,
      "border": null,
      "bottom": null,
      "display": null,
      "flex": null,
      "flex_flow": null,
      "grid_area": null,
      "grid_auto_columns": null,
      "grid_auto_flow": null,
      "grid_auto_rows": null,
      "grid_column": null,
      "grid_gap": null,
      "grid_row": null,
      "grid_template_areas": null,
      "grid_template_columns": null,
      "grid_template_rows": null,
      "height": null,
      "justify_content": null,
      "justify_items": null,
      "left": null,
      "margin": null,
      "max_height": null,
      "max_width": null,
      "min_height": null,
      "min_width": null,
      "object_fit": null,
      "object_position": null,
      "order": null,
      "overflow": null,
      "overflow_x": null,
      "overflow_y": null,
      "padding": null,
      "right": null,
      "top": null,
      "visibility": null,
      "width": null
     }
    },
    "ab6cefbcc52645189a1edce615f83f44": {
     "model_module": "@jupyter-widgets/base",
     "model_module_version": "1.2.0",
     "model_name": "LayoutModel",
     "state": {
      "_model_module": "@jupyter-widgets/base",
      "_model_module_version": "1.2.0",
      "_model_name": "LayoutModel",
      "_view_count": null,
      "_view_module": "@jupyter-widgets/base",
      "_view_module_version": "1.2.0",
      "_view_name": "LayoutView",
      "align_content": null,
      "align_items": null,
      "align_self": null,
      "border": null,
      "bottom": null,
      "display": null,
      "flex": null,
      "flex_flow": null,
      "grid_area": null,
      "grid_auto_columns": null,
      "grid_auto_flow": null,
      "grid_auto_rows": null,
      "grid_column": null,
      "grid_gap": null,
      "grid_row": null,
      "grid_template_areas": null,
      "grid_template_columns": null,
      "grid_template_rows": null,
      "height": null,
      "justify_content": null,
      "justify_items": null,
      "left": null,
      "margin": null,
      "max_height": null,
      "max_width": null,
      "min_height": null,
      "min_width": null,
      "object_fit": null,
      "object_position": null,
      "order": null,
      "overflow": null,
      "overflow_x": null,
      "overflow_y": null,
      "padding": null,
      "right": null,
      "top": null,
      "visibility": null,
      "width": null
     }
    },
    "ad154756b47a4403a79ab13900096f44": {
     "model_module": "@jupyter-widgets/controls",
     "model_module_version": "1.5.0",
     "model_name": "ProgressStyleModel",
     "state": {
      "_model_module": "@jupyter-widgets/controls",
      "_model_module_version": "1.5.0",
      "_model_name": "ProgressStyleModel",
      "_view_count": null,
      "_view_module": "@jupyter-widgets/base",
      "_view_module_version": "1.2.0",
      "_view_name": "StyleView",
      "bar_color": null,
      "description_width": ""
     }
    },
    "b388fe25f3ef4860b018261820705ee8": {
     "model_module": "@jupyter-widgets/controls",
     "model_module_version": "1.5.0",
     "model_name": "HTMLModel",
     "state": {
      "_dom_classes": [],
      "_model_module": "@jupyter-widgets/controls",
      "_model_module_version": "1.5.0",
      "_model_name": "HTMLModel",
      "_view_count": null,
      "_view_module": "@jupyter-widgets/controls",
      "_view_module_version": "1.5.0",
      "_view_name": "HTMLView",
      "description": "",
      "description_tooltip": null,
      "layout": "IPY_MODEL_80e7ed0d2fb64da4a41ba940d2ad6ba7",
      "placeholder": "​",
      "style": "IPY_MODEL_ec86e118988448c99e97785a2f8a675d",
      "value": " 25/25 [00:02&lt;00:00, 10.03it/s]"
     }
    },
    "b579311d2ef74f3eb9b8597c275659ed": {
     "model_module": "@jupyter-widgets/controls",
     "model_module_version": "1.5.0",
     "model_name": "ProgressStyleModel",
     "state": {
      "_model_module": "@jupyter-widgets/controls",
      "_model_module_version": "1.5.0",
      "_model_name": "ProgressStyleModel",
      "_view_count": null,
      "_view_module": "@jupyter-widgets/base",
      "_view_module_version": "1.2.0",
      "_view_name": "StyleView",
      "bar_color": null,
      "description_width": ""
     }
    },
    "b7e31e870c754c29902752389de49ec1": {
     "model_module": "@jupyter-widgets/controls",
     "model_module_version": "1.5.0",
     "model_name": "DescriptionStyleModel",
     "state": {
      "_model_module": "@jupyter-widgets/controls",
      "_model_module_version": "1.5.0",
      "_model_name": "DescriptionStyleModel",
      "_view_count": null,
      "_view_module": "@jupyter-widgets/base",
      "_view_module_version": "1.2.0",
      "_view_name": "StyleView",
      "description_width": ""
     }
    },
    "d35e74085d554fda85c4ec486d9a8d72": {
     "model_module": "@jupyter-widgets/base",
     "model_module_version": "1.2.0",
     "model_name": "LayoutModel",
     "state": {
      "_model_module": "@jupyter-widgets/base",
      "_model_module_version": "1.2.0",
      "_model_name": "LayoutModel",
      "_view_count": null,
      "_view_module": "@jupyter-widgets/base",
      "_view_module_version": "1.2.0",
      "_view_name": "LayoutView",
      "align_content": null,
      "align_items": null,
      "align_self": null,
      "border": null,
      "bottom": null,
      "display": null,
      "flex": null,
      "flex_flow": null,
      "grid_area": null,
      "grid_auto_columns": null,
      "grid_auto_flow": null,
      "grid_auto_rows": null,
      "grid_column": null,
      "grid_gap": null,
      "grid_row": null,
      "grid_template_areas": null,
      "grid_template_columns": null,
      "grid_template_rows": null,
      "height": null,
      "justify_content": null,
      "justify_items": null,
      "left": null,
      "margin": null,
      "max_height": null,
      "max_width": null,
      "min_height": null,
      "min_width": null,
      "object_fit": null,
      "object_position": null,
      "order": null,
      "overflow": null,
      "overflow_x": null,
      "overflow_y": null,
      "padding": null,
      "right": null,
      "top": null,
      "visibility": null,
      "width": null
     }
    },
    "d8a11bd9066145339abc00491ddf5f02": {
     "model_module": "@jupyter-widgets/controls",
     "model_module_version": "1.5.0",
     "model_name": "FloatProgressModel",
     "state": {
      "_dom_classes": [],
      "_model_module": "@jupyter-widgets/controls",
      "_model_module_version": "1.5.0",
      "_model_name": "FloatProgressModel",
      "_view_count": null,
      "_view_module": "@jupyter-widgets/controls",
      "_view_module_version": "1.5.0",
      "_view_name": "ProgressView",
      "bar_style": "",
      "description": "",
      "description_tooltip": null,
      "layout": "IPY_MODEL_17a25dfbc5304849928043f937542891",
      "max": 25,
      "min": 0,
      "orientation": "horizontal",
      "style": "IPY_MODEL_34817fa9d4094fc482c5394e9dd166e3",
      "value": 25
     }
    },
    "df4b27f8635c44468407f48616ebf7e3": {
     "model_module": "@jupyter-widgets/base",
     "model_module_version": "1.2.0",
     "model_name": "LayoutModel",
     "state": {
      "_model_module": "@jupyter-widgets/base",
      "_model_module_version": "1.2.0",
      "_model_name": "LayoutModel",
      "_view_count": null,
      "_view_module": "@jupyter-widgets/base",
      "_view_module_version": "1.2.0",
      "_view_name": "LayoutView",
      "align_content": null,
      "align_items": null,
      "align_self": null,
      "border": null,
      "bottom": null,
      "display": null,
      "flex": null,
      "flex_flow": null,
      "grid_area": null,
      "grid_auto_columns": null,
      "grid_auto_flow": null,
      "grid_auto_rows": null,
      "grid_column": null,
      "grid_gap": null,
      "grid_row": null,
      "grid_template_areas": null,
      "grid_template_columns": null,
      "grid_template_rows": null,
      "height": null,
      "justify_content": null,
      "justify_items": null,
      "left": null,
      "margin": null,
      "max_height": null,
      "max_width": null,
      "min_height": null,
      "min_width": null,
      "object_fit": null,
      "object_position": null,
      "order": null,
      "overflow": null,
      "overflow_x": null,
      "overflow_y": null,
      "padding": null,
      "right": null,
      "top": null,
      "visibility": null,
      "width": null
     }
    },
    "e1d97ffc33394585b5119b7fe89e013f": {
     "model_module": "@jupyter-widgets/controls",
     "model_module_version": "1.5.0",
     "model_name": "DescriptionStyleModel",
     "state": {
      "_model_module": "@jupyter-widgets/controls",
      "_model_module_version": "1.5.0",
      "_model_name": "DescriptionStyleModel",
      "_view_count": null,
      "_view_module": "@jupyter-widgets/base",
      "_view_module_version": "1.2.0",
      "_view_name": "StyleView",
      "description_width": ""
     }
    },
    "e8208311ee474331b02f15bcc90f0c95": {
     "model_module": "@jupyter-widgets/controls",
     "model_module_version": "1.5.0",
     "model_name": "HTMLModel",
     "state": {
      "_dom_classes": [],
      "_model_module": "@jupyter-widgets/controls",
      "_model_module_version": "1.5.0",
      "_model_name": "HTMLModel",
      "_view_count": null,
      "_view_module": "@jupyter-widgets/controls",
      "_view_module_version": "1.5.0",
      "_view_name": "HTMLView",
      "description": "",
      "description_tooltip": null,
      "layout": "IPY_MODEL_5646c4ee50ab4d2e95852cf29164bf92",
      "placeholder": "​",
      "style": "IPY_MODEL_b7e31e870c754c29902752389de49ec1",
      "value": " 25/25 [00:03&lt;00:00,  6.22it/s]"
     }
    },
    "ec86e118988448c99e97785a2f8a675d": {
     "model_module": "@jupyter-widgets/controls",
     "model_module_version": "1.5.0",
     "model_name": "DescriptionStyleModel",
     "state": {
      "_model_module": "@jupyter-widgets/controls",
      "_model_module_version": "1.5.0",
      "_model_name": "DescriptionStyleModel",
      "_view_count": null,
      "_view_module": "@jupyter-widgets/base",
      "_view_module_version": "1.2.0",
      "_view_name": "StyleView",
      "description_width": ""
     }
    },
    "f21fd4150ad749738bd242186235c311": {
     "model_module": "@jupyter-widgets/controls",
     "model_module_version": "1.5.0",
     "model_name": "FloatProgressModel",
     "state": {
      "_dom_classes": [],
      "_model_module": "@jupyter-widgets/controls",
      "_model_module_version": "1.5.0",
      "_model_name": "FloatProgressModel",
      "_view_count": null,
      "_view_module": "@jupyter-widgets/controls",
      "_view_module_version": "1.5.0",
      "_view_name": "ProgressView",
      "bar_style": "",
      "description": "",
      "description_tooltip": null,
      "layout": "IPY_MODEL_d35e74085d554fda85c4ec486d9a8d72",
      "max": 25,
      "min": 0,
      "orientation": "horizontal",
      "style": "IPY_MODEL_ad154756b47a4403a79ab13900096f44",
      "value": 25
     }
    },
    "fa43cbec1f434b519b415de19d25fb8a": {
     "model_module": "@jupyter-widgets/controls",
     "model_module_version": "1.5.0",
     "model_name": "DescriptionStyleModel",
     "state": {
      "_model_module": "@jupyter-widgets/controls",
      "_model_module_version": "1.5.0",
      "_model_name": "DescriptionStyleModel",
      "_view_count": null,
      "_view_module": "@jupyter-widgets/base",
      "_view_module_version": "1.2.0",
      "_view_name": "StyleView",
      "description_width": ""
     }
    },
    "ffda0162e55b4624ac91ecfecfe41108": {
     "model_module": "@jupyter-widgets/base",
     "model_module_version": "1.2.0",
     "model_name": "LayoutModel",
     "state": {
      "_model_module": "@jupyter-widgets/base",
      "_model_module_version": "1.2.0",
      "_model_name": "LayoutModel",
      "_view_count": null,
      "_view_module": "@jupyter-widgets/base",
      "_view_module_version": "1.2.0",
      "_view_name": "LayoutView",
      "align_content": null,
      "align_items": null,
      "align_self": null,
      "border": null,
      "bottom": null,
      "display": null,
      "flex": null,
      "flex_flow": null,
      "grid_area": null,
      "grid_auto_columns": null,
      "grid_auto_flow": null,
      "grid_auto_rows": null,
      "grid_column": null,
      "grid_gap": null,
      "grid_row": null,
      "grid_template_areas": null,
      "grid_template_columns": null,
      "grid_template_rows": null,
      "height": null,
      "justify_content": null,
      "justify_items": null,
      "left": null,
      "margin": null,
      "max_height": null,
      "max_width": null,
      "min_height": null,
      "min_width": null,
      "object_fit": null,
      "object_position": null,
      "order": null,
      "overflow": null,
      "overflow_x": null,
      "overflow_y": null,
      "padding": null,
      "right": null,
      "top": null,
      "visibility": null,
      "width": null
     }
    }
   }
  }
 },
 "nbformat": 4,
 "nbformat_minor": 5
}
